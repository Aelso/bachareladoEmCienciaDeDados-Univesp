{
  "nbformat": 4,
  "nbformat_minor": 0,
  "metadata": {
    "colab": {
      "name": "Semana 2 -  Exercício de apoio - Introdução a Ciencia de Dados - COM350.ipynb",
      "provenance": []
    },
    "kernelspec": {
      "name": "python3",
      "display_name": "Python 3"
    },
    "language_info": {
      "name": "python"
    }
  },
  "cells": [
    {
      "cell_type": "markdown",
      "metadata": {
        "id": "w-Ji360ZTTT-"
      },
      "source": [
        "##Disciplina - Introdução a Ciência de Dados - Univesp\n",
        "##Exercícios de Apoio da Semana 2\n",
        "**Aluno: Aelso Rocha Brito**"
      ]
    },
    {
      "cell_type": "markdown",
      "metadata": {
        "id": "L9cNpCDWTow1"
      },
      "source": [
        "###1 - Carregue as bibliotecas NumPy e Pandas"
      ]
    },
    {
      "cell_type": "code",
      "metadata": {
        "id": "0fyThhgHC0CC"
      },
      "source": [
        "import pandas as pd\n",
        "import numpy as np"
      ],
      "execution_count": 1,
      "outputs": []
    },
    {
      "cell_type": "markdown",
      "metadata": {
        "id": "ttQbbyLXUREo"
      },
      "source": [
        "###2 - Crie um NDArray com os seguintes valores [1, 2.5, 7, -78, -0.9, 130, 25]"
      ]
    },
    {
      "cell_type": "code",
      "metadata": {
        "id": "20gjtPa5CTrK"
      },
      "source": [
        "lista=[1, 2.5, 7, -78, -0.9, 130, 25]"
      ],
      "execution_count": 2,
      "outputs": []
    },
    {
      "cell_type": "code",
      "metadata": {
        "id": "hqCKLAIhCiWJ"
      },
      "source": [
        "dados=np.array(lista)"
      ],
      "execution_count": 3,
      "outputs": []
    },
    {
      "cell_type": "code",
      "metadata": {
        "colab": {
          "base_uri": "https://localhost:8080/"
        },
        "id": "lCtnoNnBCkUs",
        "outputId": "3fe73a94-122f-4573-a72f-48cfce88c35e"
      },
      "source": [
        "dados"
      ],
      "execution_count": 4,
      "outputs": [
        {
          "output_type": "execute_result",
          "data": {
            "text/plain": [
              "array([  1. ,   2.5,   7. , -78. ,  -0.9, 130. ,  25. ])"
            ]
          },
          "metadata": {},
          "execution_count": 4
        }
      ]
    },
    {
      "cell_type": "markdown",
      "metadata": {
        "id": "dj1u3l8shnCn"
      },
      "source": [
        "###3 - Crie um NDArray com os valores de 0 a 10"
      ]
    },
    {
      "cell_type": "code",
      "metadata": {
        "id": "HrmkR_N3CdOk"
      },
      "source": [
        "dados=np.arange(11)"
      ],
      "execution_count": 6,
      "outputs": []
    },
    {
      "cell_type": "code",
      "metadata": {
        "colab": {
          "base_uri": "https://localhost:8080/"
        },
        "id": "z9MbUTP4CvPy",
        "outputId": "e111d147-cb5d-43a6-ffdd-493ea8d541fc"
      },
      "source": [
        "dados"
      ],
      "execution_count": 7,
      "outputs": [
        {
          "output_type": "execute_result",
          "data": {
            "text/plain": [
              "array([ 0,  1,  2,  3,  4,  5,  6,  7,  8,  9, 10])"
            ]
          },
          "metadata": {},
          "execution_count": 7
        }
      ]
    },
    {
      "cell_type": "markdown",
      "metadata": {
        "id": "rnBk9UW1iMeL"
      },
      "source": [
        "###4 – Crie um NDArray de dimensão 2x5 com valores 1"
      ]
    },
    {
      "cell_type": "code",
      "metadata": {
        "id": "cy4fDy0zCzEG"
      },
      "source": [
        "dados=np.ones((2,5))"
      ],
      "execution_count": 8,
      "outputs": []
    },
    {
      "cell_type": "code",
      "metadata": {
        "colab": {
          "base_uri": "https://localhost:8080/"
        },
        "id": "1wvi5U3fDAWH",
        "outputId": "ea186811-21e2-429e-bc21-70a1e32bb8e7"
      },
      "source": [
        "dados"
      ],
      "execution_count": 9,
      "outputs": [
        {
          "output_type": "execute_result",
          "data": {
            "text/plain": [
              "array([[1., 1., 1., 1., 1.],\n",
              "       [1., 1., 1., 1., 1.]])"
            ]
          },
          "metadata": {},
          "execution_count": 9
        }
      ]
    },
    {
      "cell_type": "markdown",
      "metadata": {
        "id": "86vJlvlwiyDb"
      },
      "source": [
        "###5 – Crie um NDArray com valores de 1 a 100, com intervalos de 3 em 3."
      ]
    },
    {
      "cell_type": "code",
      "metadata": {
        "id": "hxLODSvvDGFp"
      },
      "source": [
        "dados=np.arange(1,100,3)"
      ],
      "execution_count": 10,
      "outputs": []
    },
    {
      "cell_type": "code",
      "metadata": {
        "colab": {
          "base_uri": "https://localhost:8080/"
        },
        "id": "B8m0FAJgDMNy",
        "outputId": "eab5eb95-1fe3-4cac-8afd-ea8d00a17df0"
      },
      "source": [
        "dados"
      ],
      "execution_count": 11,
      "outputs": [
        {
          "output_type": "execute_result",
          "data": {
            "text/plain": [
              "array([ 1,  4,  7, 10, 13, 16, 19, 22, 25, 28, 31, 34, 37, 40, 43, 46, 49,\n",
              "       52, 55, 58, 61, 64, 67, 70, 73, 76, 79, 82, 85, 88, 91, 94, 97])"
            ]
          },
          "metadata": {},
          "execution_count": 11
        }
      ]
    },
    {
      "cell_type": "markdown",
      "metadata": {
        "id": "n7i6JgxEkwwe"
      },
      "source": [
        "###6 – Mostre as raízes quadradas dos valores do NDArray criado no exercícios 5."
      ]
    },
    {
      "cell_type": "code",
      "metadata": {
        "colab": {
          "base_uri": "https://localhost:8080/"
        },
        "id": "Z8csF1S3DXRF",
        "outputId": "99927d5c-2fdf-4ae8-ebbe-75ef82ac1f86"
      },
      "source": [
        "np.sqrt(dados)"
      ],
      "execution_count": 12,
      "outputs": [
        {
          "output_type": "execute_result",
          "data": {
            "text/plain": [
              "array([1.        , 2.        , 2.64575131, 3.16227766, 3.60555128,\n",
              "       4.        , 4.35889894, 4.69041576, 5.        , 5.29150262,\n",
              "       5.56776436, 5.83095189, 6.08276253, 6.32455532, 6.55743852,\n",
              "       6.78232998, 7.        , 7.21110255, 7.41619849, 7.61577311,\n",
              "       7.81024968, 8.        , 8.18535277, 8.36660027, 8.54400375,\n",
              "       8.71779789, 8.88819442, 9.05538514, 9.21954446, 9.38083152,\n",
              "       9.53939201, 9.69535971, 9.8488578 ])"
            ]
          },
          "metadata": {},
          "execution_count": 12
        }
      ]
    },
    {
      "cell_type": "markdown",
      "metadata": {
        "id": "Vn0fSti8lwtD"
      },
      "source": [
        "###7 – Altere a décima posição do NDArray criado no exercício 5 com o dobro do seu valor."
      ]
    },
    {
      "cell_type": "code",
      "metadata": {
        "id": "UQtiSdpnDe5d"
      },
      "source": [
        "dados[9]=dados[9]*2"
      ],
      "execution_count": 13,
      "outputs": []
    },
    {
      "cell_type": "code",
      "metadata": {
        "colab": {
          "base_uri": "https://localhost:8080/"
        },
        "id": "lRa2uwi8D4hr",
        "outputId": "1e69512b-5446-408b-fabb-062794a6ead9"
      },
      "source": [
        "dados"
      ],
      "execution_count": 16,
      "outputs": [
        {
          "output_type": "execute_result",
          "data": {
            "text/plain": [
              "array([ 1,  4,  7, 10, 13, 16, 19, 22, 25, 56, 31, 34, 37, 40, 43, 46, 49,\n",
              "       52, 55, 58, 61, 64, 67, 70, 73, 76, 79, 82, 85, 88, 91, 94, 97])"
            ]
          },
          "metadata": {},
          "execution_count": 16
        }
      ]
    },
    {
      "cell_type": "code",
      "metadata": {
        "colab": {
          "base_uri": "https://localhost:8080/"
        },
        "id": "Te1ah8ZWDveE",
        "outputId": "1670e7df-7930-4a23-d921-64d14795c3d4"
      },
      "source": [
        "dados[9]"
      ],
      "execution_count": 15,
      "outputs": [
        {
          "output_type": "execute_result",
          "data": {
            "text/plain": [
              "56"
            ]
          },
          "metadata": {},
          "execution_count": 15
        }
      ]
    },
    {
      "cell_type": "markdown",
      "metadata": {
        "id": "QmK0DaAymcvL"
      },
      "source": [
        "###8 – Execute o comando para criar um Dataframe com os dados disponíveis no notebook."
      ]
    },
    {
      "cell_type": "code",
      "metadata": {
        "id": "fgkSoH2sVKSb"
      },
      "source": [
        "dados={'Empresa':['Microsoft', 'Google','Univesp','NVData Analytics','Power Bi Experience','USP'], 'Qtde Func':[1000, 1500,500, 100,100,499], 'Site':['https://www.microsoft.com/pt-br','https://www.google.com/','https://univesp.br/','https://www.nvdata.com.br/','https://powerbiexperience.com/pt/','https://www.usp.br/'],'Instagram':['@microsoft','@google','@univespoficial','@nv_data','@leokarpa','@usp.oficial'],'Criação':[1975,1998,2012,2019,2016,1934], 'País':['EUA','EUA','Brasil','Brasil','Brasil','Brasil']}"
      ],
      "execution_count": 20,
      "outputs": []
    },
    {
      "cell_type": "code",
      "metadata": {
        "id": "DBY2sNWvD-aJ"
      },
      "source": [
        "df1=pd.DataFrame(dados)"
      ],
      "execution_count": 21,
      "outputs": []
    },
    {
      "cell_type": "code",
      "metadata": {
        "colab": {
          "base_uri": "https://localhost:8080/",
          "height": 235
        },
        "id": "suKJs0VDEGA3",
        "outputId": "5b2a2978-91f9-4446-d524-939d67c30038"
      },
      "source": [
        "df1"
      ],
      "execution_count": 22,
      "outputs": [
        {
          "output_type": "execute_result",
          "data": {
            "text/html": [
              "<div>\n",
              "<style scoped>\n",
              "    .dataframe tbody tr th:only-of-type {\n",
              "        vertical-align: middle;\n",
              "    }\n",
              "\n",
              "    .dataframe tbody tr th {\n",
              "        vertical-align: top;\n",
              "    }\n",
              "\n",
              "    .dataframe thead th {\n",
              "        text-align: right;\n",
              "    }\n",
              "</style>\n",
              "<table border=\"1\" class=\"dataframe\">\n",
              "  <thead>\n",
              "    <tr style=\"text-align: right;\">\n",
              "      <th></th>\n",
              "      <th>Empresa</th>\n",
              "      <th>Qtde Func</th>\n",
              "      <th>Site</th>\n",
              "      <th>Instagram</th>\n",
              "      <th>Criação</th>\n",
              "      <th>País</th>\n",
              "    </tr>\n",
              "  </thead>\n",
              "  <tbody>\n",
              "    <tr>\n",
              "      <th>0</th>\n",
              "      <td>Microsoft</td>\n",
              "      <td>1000</td>\n",
              "      <td>https://www.microsoft.com/pt-br</td>\n",
              "      <td>@microsoft</td>\n",
              "      <td>1975</td>\n",
              "      <td>EUA</td>\n",
              "    </tr>\n",
              "    <tr>\n",
              "      <th>1</th>\n",
              "      <td>Google</td>\n",
              "      <td>1500</td>\n",
              "      <td>https://www.google.com/</td>\n",
              "      <td>@google</td>\n",
              "      <td>1998</td>\n",
              "      <td>EUA</td>\n",
              "    </tr>\n",
              "    <tr>\n",
              "      <th>2</th>\n",
              "      <td>Univesp</td>\n",
              "      <td>500</td>\n",
              "      <td>https://univesp.br/</td>\n",
              "      <td>@univespoficial</td>\n",
              "      <td>2012</td>\n",
              "      <td>Brasil</td>\n",
              "    </tr>\n",
              "    <tr>\n",
              "      <th>3</th>\n",
              "      <td>NVData Analytics</td>\n",
              "      <td>100</td>\n",
              "      <td>https://www.nvdata.com.br/</td>\n",
              "      <td>@nv_data</td>\n",
              "      <td>2019</td>\n",
              "      <td>Brasil</td>\n",
              "    </tr>\n",
              "    <tr>\n",
              "      <th>4</th>\n",
              "      <td>Power Bi Experience</td>\n",
              "      <td>100</td>\n",
              "      <td>https://powerbiexperience.com/pt/</td>\n",
              "      <td>@leokarpa</td>\n",
              "      <td>2016</td>\n",
              "      <td>Brasil</td>\n",
              "    </tr>\n",
              "    <tr>\n",
              "      <th>5</th>\n",
              "      <td>USP</td>\n",
              "      <td>499</td>\n",
              "      <td>https://www.usp.br/</td>\n",
              "      <td>@usp.oficial</td>\n",
              "      <td>1934</td>\n",
              "      <td>Brasil</td>\n",
              "    </tr>\n",
              "  </tbody>\n",
              "</table>\n",
              "</div>"
            ],
            "text/plain": [
              "               Empresa  Qtde Func  ... Criação    País\n",
              "0            Microsoft       1000  ...    1975     EUA\n",
              "1               Google       1500  ...    1998     EUA\n",
              "2              Univesp        500  ...    2012  Brasil\n",
              "3     NVData Analytics        100  ...    2019  Brasil\n",
              "4  Power Bi Experience        100  ...    2016  Brasil\n",
              "5                  USP        499  ...    1934  Brasil\n",
              "\n",
              "[6 rows x 6 columns]"
            ]
          },
          "metadata": {},
          "execution_count": 22
        }
      ]
    },
    {
      "cell_type": "markdown",
      "metadata": {
        "id": "l0pydfDTnX-q"
      },
      "source": [
        "###9 – Execute um comando que seja possível identificar qual a média da quantidade de funcionários que as empresas listadas tem. Informe também a soma dos funcionários que as empresas tem.\n"
      ]
    },
    {
      "cell_type": "code",
      "metadata": {
        "colab": {
          "base_uri": "https://localhost:8080/",
          "height": 297
        },
        "id": "g4PLKrllETJj",
        "outputId": "a6d8ed95-2127-44c7-e05b-caf71ef45fe8"
      },
      "source": [
        "df1.describe()"
      ],
      "execution_count": 24,
      "outputs": [
        {
          "output_type": "execute_result",
          "data": {
            "text/html": [
              "<div>\n",
              "<style scoped>\n",
              "    .dataframe tbody tr th:only-of-type {\n",
              "        vertical-align: middle;\n",
              "    }\n",
              "\n",
              "    .dataframe tbody tr th {\n",
              "        vertical-align: top;\n",
              "    }\n",
              "\n",
              "    .dataframe thead th {\n",
              "        text-align: right;\n",
              "    }\n",
              "</style>\n",
              "<table border=\"1\" class=\"dataframe\">\n",
              "  <thead>\n",
              "    <tr style=\"text-align: right;\">\n",
              "      <th></th>\n",
              "      <th>Qtde Func</th>\n",
              "      <th>Criação</th>\n",
              "    </tr>\n",
              "  </thead>\n",
              "  <tbody>\n",
              "    <tr>\n",
              "      <th>count</th>\n",
              "      <td>6.000000</td>\n",
              "      <td>6.000000</td>\n",
              "    </tr>\n",
              "    <tr>\n",
              "      <th>mean</th>\n",
              "      <td>616.500000</td>\n",
              "      <td>1992.333333</td>\n",
              "    </tr>\n",
              "    <tr>\n",
              "      <th>std</th>\n",
              "      <td>545.631286</td>\n",
              "      <td>32.843061</td>\n",
              "    </tr>\n",
              "    <tr>\n",
              "      <th>min</th>\n",
              "      <td>100.000000</td>\n",
              "      <td>1934.000000</td>\n",
              "    </tr>\n",
              "    <tr>\n",
              "      <th>25%</th>\n",
              "      <td>199.750000</td>\n",
              "      <td>1980.750000</td>\n",
              "    </tr>\n",
              "    <tr>\n",
              "      <th>50%</th>\n",
              "      <td>499.500000</td>\n",
              "      <td>2005.000000</td>\n",
              "    </tr>\n",
              "    <tr>\n",
              "      <th>75%</th>\n",
              "      <td>875.000000</td>\n",
              "      <td>2015.000000</td>\n",
              "    </tr>\n",
              "    <tr>\n",
              "      <th>max</th>\n",
              "      <td>1500.000000</td>\n",
              "      <td>2019.000000</td>\n",
              "    </tr>\n",
              "  </tbody>\n",
              "</table>\n",
              "</div>"
            ],
            "text/plain": [
              "         Qtde Func      Criação\n",
              "count     6.000000     6.000000\n",
              "mean    616.500000  1992.333333\n",
              "std     545.631286    32.843061\n",
              "min     100.000000  1934.000000\n",
              "25%     199.750000  1980.750000\n",
              "50%     499.500000  2005.000000\n",
              "75%     875.000000  2015.000000\n",
              "max    1500.000000  2019.000000"
            ]
          },
          "metadata": {},
          "execution_count": 24
        }
      ]
    },
    {
      "cell_type": "code",
      "metadata": {
        "colab": {
          "base_uri": "https://localhost:8080/"
        },
        "id": "Zo_fTHeBE4E_",
        "outputId": "607d7498-fd2e-4035-d56d-4d9ca1e4a7d8"
      },
      "source": [
        "df1['Qtde Func'].sum()"
      ],
      "execution_count": 25,
      "outputs": [
        {
          "output_type": "execute_result",
          "data": {
            "text/plain": [
              "3699"
            ]
          },
          "metadata": {},
          "execution_count": 25
        }
      ]
    },
    {
      "cell_type": "markdown",
      "metadata": {
        "id": "lGCMCItHoUjo"
      },
      "source": [
        "###10 – Mostre as primeiras 3 linhas do dataframe."
      ]
    },
    {
      "cell_type": "code",
      "metadata": {
        "colab": {
          "base_uri": "https://localhost:8080/",
          "height": 142
        },
        "id": "qHEXTFEwErJq",
        "outputId": "e3b7e67e-fc1a-43f6-9429-4612b039189f"
      },
      "source": [
        "df1.head(3)"
      ],
      "execution_count": 27,
      "outputs": [
        {
          "output_type": "execute_result",
          "data": {
            "text/html": [
              "<div>\n",
              "<style scoped>\n",
              "    .dataframe tbody tr th:only-of-type {\n",
              "        vertical-align: middle;\n",
              "    }\n",
              "\n",
              "    .dataframe tbody tr th {\n",
              "        vertical-align: top;\n",
              "    }\n",
              "\n",
              "    .dataframe thead th {\n",
              "        text-align: right;\n",
              "    }\n",
              "</style>\n",
              "<table border=\"1\" class=\"dataframe\">\n",
              "  <thead>\n",
              "    <tr style=\"text-align: right;\">\n",
              "      <th></th>\n",
              "      <th>Empresa</th>\n",
              "      <th>Qtde Func</th>\n",
              "      <th>Site</th>\n",
              "      <th>Instagram</th>\n",
              "      <th>Criação</th>\n",
              "      <th>País</th>\n",
              "    </tr>\n",
              "  </thead>\n",
              "  <tbody>\n",
              "    <tr>\n",
              "      <th>0</th>\n",
              "      <td>Microsoft</td>\n",
              "      <td>1000</td>\n",
              "      <td>https://www.microsoft.com/pt-br</td>\n",
              "      <td>@microsoft</td>\n",
              "      <td>1975</td>\n",
              "      <td>EUA</td>\n",
              "    </tr>\n",
              "    <tr>\n",
              "      <th>1</th>\n",
              "      <td>Google</td>\n",
              "      <td>1500</td>\n",
              "      <td>https://www.google.com/</td>\n",
              "      <td>@google</td>\n",
              "      <td>1998</td>\n",
              "      <td>EUA</td>\n",
              "    </tr>\n",
              "    <tr>\n",
              "      <th>2</th>\n",
              "      <td>Univesp</td>\n",
              "      <td>500</td>\n",
              "      <td>https://univesp.br/</td>\n",
              "      <td>@univespoficial</td>\n",
              "      <td>2012</td>\n",
              "      <td>Brasil</td>\n",
              "    </tr>\n",
              "  </tbody>\n",
              "</table>\n",
              "</div>"
            ],
            "text/plain": [
              "     Empresa  Qtde Func  ... Criação    País\n",
              "0  Microsoft       1000  ...    1975     EUA\n",
              "1     Google       1500  ...    1998     EUA\n",
              "2    Univesp        500  ...    2012  Brasil\n",
              "\n",
              "[3 rows x 6 columns]"
            ]
          },
          "metadata": {},
          "execution_count": 27
        }
      ]
    },
    {
      "cell_type": "markdown",
      "metadata": {
        "id": "sknVvBi9oY9k"
      },
      "source": [
        "###11 – Mostre as últimas 3 linhas do dataframe."
      ]
    },
    {
      "cell_type": "code",
      "metadata": {
        "colab": {
          "base_uri": "https://localhost:8080/",
          "height": 142
        },
        "id": "By12x7IJFAWK",
        "outputId": "d949271d-a67d-4168-a9e1-39058f1986d4"
      },
      "source": [
        "df1.tail(3)"
      ],
      "execution_count": 28,
      "outputs": [
        {
          "output_type": "execute_result",
          "data": {
            "text/html": [
              "<div>\n",
              "<style scoped>\n",
              "    .dataframe tbody tr th:only-of-type {\n",
              "        vertical-align: middle;\n",
              "    }\n",
              "\n",
              "    .dataframe tbody tr th {\n",
              "        vertical-align: top;\n",
              "    }\n",
              "\n",
              "    .dataframe thead th {\n",
              "        text-align: right;\n",
              "    }\n",
              "</style>\n",
              "<table border=\"1\" class=\"dataframe\">\n",
              "  <thead>\n",
              "    <tr style=\"text-align: right;\">\n",
              "      <th></th>\n",
              "      <th>Empresa</th>\n",
              "      <th>Qtde Func</th>\n",
              "      <th>Site</th>\n",
              "      <th>Instagram</th>\n",
              "      <th>Criação</th>\n",
              "      <th>País</th>\n",
              "    </tr>\n",
              "  </thead>\n",
              "  <tbody>\n",
              "    <tr>\n",
              "      <th>3</th>\n",
              "      <td>NVData Analytics</td>\n",
              "      <td>100</td>\n",
              "      <td>https://www.nvdata.com.br/</td>\n",
              "      <td>@nv_data</td>\n",
              "      <td>2019</td>\n",
              "      <td>Brasil</td>\n",
              "    </tr>\n",
              "    <tr>\n",
              "      <th>4</th>\n",
              "      <td>Power Bi Experience</td>\n",
              "      <td>100</td>\n",
              "      <td>https://powerbiexperience.com/pt/</td>\n",
              "      <td>@leokarpa</td>\n",
              "      <td>2016</td>\n",
              "      <td>Brasil</td>\n",
              "    </tr>\n",
              "    <tr>\n",
              "      <th>5</th>\n",
              "      <td>USP</td>\n",
              "      <td>499</td>\n",
              "      <td>https://www.usp.br/</td>\n",
              "      <td>@usp.oficial</td>\n",
              "      <td>1934</td>\n",
              "      <td>Brasil</td>\n",
              "    </tr>\n",
              "  </tbody>\n",
              "</table>\n",
              "</div>"
            ],
            "text/plain": [
              "               Empresa  Qtde Func  ... Criação    País\n",
              "3     NVData Analytics        100  ...    2019  Brasil\n",
              "4  Power Bi Experience        100  ...    2016  Brasil\n",
              "5                  USP        499  ...    1934  Brasil\n",
              "\n",
              "[3 rows x 6 columns]"
            ]
          },
          "metadata": {},
          "execution_count": 28
        }
      ]
    },
    {
      "cell_type": "markdown",
      "metadata": {
        "id": "FyKZVn1uobKj"
      },
      "source": [
        "###12 – Liste apenas as linhas em que as empresas foram criadas nos últimos 10 anos. Informe a quantidade de registros."
      ]
    },
    {
      "cell_type": "code",
      "metadata": {
        "colab": {
          "base_uri": "https://localhost:8080/",
          "height": 142
        },
        "id": "3EidkRb7FLqy",
        "outputId": "408dbb6a-43c6-44cd-805c-4560b2cd8be7"
      },
      "source": [
        "df1[df1['Criação']>=2011]"
      ],
      "execution_count": 29,
      "outputs": [
        {
          "output_type": "execute_result",
          "data": {
            "text/html": [
              "<div>\n",
              "<style scoped>\n",
              "    .dataframe tbody tr th:only-of-type {\n",
              "        vertical-align: middle;\n",
              "    }\n",
              "\n",
              "    .dataframe tbody tr th {\n",
              "        vertical-align: top;\n",
              "    }\n",
              "\n",
              "    .dataframe thead th {\n",
              "        text-align: right;\n",
              "    }\n",
              "</style>\n",
              "<table border=\"1\" class=\"dataframe\">\n",
              "  <thead>\n",
              "    <tr style=\"text-align: right;\">\n",
              "      <th></th>\n",
              "      <th>Empresa</th>\n",
              "      <th>Qtde Func</th>\n",
              "      <th>Site</th>\n",
              "      <th>Instagram</th>\n",
              "      <th>Criação</th>\n",
              "      <th>País</th>\n",
              "    </tr>\n",
              "  </thead>\n",
              "  <tbody>\n",
              "    <tr>\n",
              "      <th>2</th>\n",
              "      <td>Univesp</td>\n",
              "      <td>500</td>\n",
              "      <td>https://univesp.br/</td>\n",
              "      <td>@univespoficial</td>\n",
              "      <td>2012</td>\n",
              "      <td>Brasil</td>\n",
              "    </tr>\n",
              "    <tr>\n",
              "      <th>3</th>\n",
              "      <td>NVData Analytics</td>\n",
              "      <td>100</td>\n",
              "      <td>https://www.nvdata.com.br/</td>\n",
              "      <td>@nv_data</td>\n",
              "      <td>2019</td>\n",
              "      <td>Brasil</td>\n",
              "    </tr>\n",
              "    <tr>\n",
              "      <th>4</th>\n",
              "      <td>Power Bi Experience</td>\n",
              "      <td>100</td>\n",
              "      <td>https://powerbiexperience.com/pt/</td>\n",
              "      <td>@leokarpa</td>\n",
              "      <td>2016</td>\n",
              "      <td>Brasil</td>\n",
              "    </tr>\n",
              "  </tbody>\n",
              "</table>\n",
              "</div>"
            ],
            "text/plain": [
              "               Empresa  Qtde Func  ... Criação    País\n",
              "2              Univesp        500  ...    2012  Brasil\n",
              "3     NVData Analytics        100  ...    2019  Brasil\n",
              "4  Power Bi Experience        100  ...    2016  Brasil\n",
              "\n",
              "[3 rows x 6 columns]"
            ]
          },
          "metadata": {},
          "execution_count": 29
        }
      ]
    },
    {
      "cell_type": "markdown",
      "metadata": {
        "id": "noPYQPpXohZ8"
      },
      "source": [
        "###13 – Vamos imaginar que em todas as empresas exista 1 chefe para cada 23 funcionários. Crie uma coluna que mostre a quantidade de chefes que cada empresa teria e depois informe quantos chefes teríamos ao todo. (os valores não precisam ser números inteiros, é apenas uma estimativa).\n"
      ]
    },
    {
      "cell_type": "code",
      "metadata": {
        "id": "qMVATsTWofL9"
      },
      "source": [
        "df1['Chefes']=df1['Qtde Func']/23"
      ],
      "execution_count": 30,
      "outputs": []
    },
    {
      "cell_type": "code",
      "metadata": {
        "colab": {
          "base_uri": "https://localhost:8080/",
          "height": 235
        },
        "id": "AaaaiYmLFmxL",
        "outputId": "4cf13d47-9887-4157-d143-0df90e3e6602"
      },
      "source": [
        "df1"
      ],
      "execution_count": 31,
      "outputs": [
        {
          "output_type": "execute_result",
          "data": {
            "text/html": [
              "<div>\n",
              "<style scoped>\n",
              "    .dataframe tbody tr th:only-of-type {\n",
              "        vertical-align: middle;\n",
              "    }\n",
              "\n",
              "    .dataframe tbody tr th {\n",
              "        vertical-align: top;\n",
              "    }\n",
              "\n",
              "    .dataframe thead th {\n",
              "        text-align: right;\n",
              "    }\n",
              "</style>\n",
              "<table border=\"1\" class=\"dataframe\">\n",
              "  <thead>\n",
              "    <tr style=\"text-align: right;\">\n",
              "      <th></th>\n",
              "      <th>Empresa</th>\n",
              "      <th>Qtde Func</th>\n",
              "      <th>Site</th>\n",
              "      <th>Instagram</th>\n",
              "      <th>Criação</th>\n",
              "      <th>País</th>\n",
              "      <th>Chefes</th>\n",
              "    </tr>\n",
              "  </thead>\n",
              "  <tbody>\n",
              "    <tr>\n",
              "      <th>0</th>\n",
              "      <td>Microsoft</td>\n",
              "      <td>1000</td>\n",
              "      <td>https://www.microsoft.com/pt-br</td>\n",
              "      <td>@microsoft</td>\n",
              "      <td>1975</td>\n",
              "      <td>EUA</td>\n",
              "      <td>43.478261</td>\n",
              "    </tr>\n",
              "    <tr>\n",
              "      <th>1</th>\n",
              "      <td>Google</td>\n",
              "      <td>1500</td>\n",
              "      <td>https://www.google.com/</td>\n",
              "      <td>@google</td>\n",
              "      <td>1998</td>\n",
              "      <td>EUA</td>\n",
              "      <td>65.217391</td>\n",
              "    </tr>\n",
              "    <tr>\n",
              "      <th>2</th>\n",
              "      <td>Univesp</td>\n",
              "      <td>500</td>\n",
              "      <td>https://univesp.br/</td>\n",
              "      <td>@univespoficial</td>\n",
              "      <td>2012</td>\n",
              "      <td>Brasil</td>\n",
              "      <td>21.739130</td>\n",
              "    </tr>\n",
              "    <tr>\n",
              "      <th>3</th>\n",
              "      <td>NVData Analytics</td>\n",
              "      <td>100</td>\n",
              "      <td>https://www.nvdata.com.br/</td>\n",
              "      <td>@nv_data</td>\n",
              "      <td>2019</td>\n",
              "      <td>Brasil</td>\n",
              "      <td>4.347826</td>\n",
              "    </tr>\n",
              "    <tr>\n",
              "      <th>4</th>\n",
              "      <td>Power Bi Experience</td>\n",
              "      <td>100</td>\n",
              "      <td>https://powerbiexperience.com/pt/</td>\n",
              "      <td>@leokarpa</td>\n",
              "      <td>2016</td>\n",
              "      <td>Brasil</td>\n",
              "      <td>4.347826</td>\n",
              "    </tr>\n",
              "    <tr>\n",
              "      <th>5</th>\n",
              "      <td>USP</td>\n",
              "      <td>499</td>\n",
              "      <td>https://www.usp.br/</td>\n",
              "      <td>@usp.oficial</td>\n",
              "      <td>1934</td>\n",
              "      <td>Brasil</td>\n",
              "      <td>21.695652</td>\n",
              "    </tr>\n",
              "  </tbody>\n",
              "</table>\n",
              "</div>"
            ],
            "text/plain": [
              "               Empresa  Qtde Func  ...    País     Chefes\n",
              "0            Microsoft       1000  ...     EUA  43.478261\n",
              "1               Google       1500  ...     EUA  65.217391\n",
              "2              Univesp        500  ...  Brasil  21.739130\n",
              "3     NVData Analytics        100  ...  Brasil   4.347826\n",
              "4  Power Bi Experience        100  ...  Brasil   4.347826\n",
              "5                  USP        499  ...  Brasil  21.695652\n",
              "\n",
              "[6 rows x 7 columns]"
            ]
          },
          "metadata": {},
          "execution_count": 31
        }
      ]
    }
  ]
}