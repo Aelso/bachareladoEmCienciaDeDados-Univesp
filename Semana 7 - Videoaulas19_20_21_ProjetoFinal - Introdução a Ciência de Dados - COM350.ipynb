{
 "cells": [
  {
   "cell_type": "markdown",
   "metadata": {
    "id": "HujmmdxJA93v"
   },
   "source": [
    "#Demonstração Projeto Final\n",
    "###Disciplina - Introdução a Ciência de Dados - Univesp\n",
    "###Videoaulas 19, 20 e 21\n",
    "###Prof. Dr. José Eduardo Santarem Segundo\n",
    "Aluno: Aelso Rocha Brito \n",
    "##notebookComAnotaçõesDaVideoaula"
   ]
  },
  {
   "cell_type": "markdown",
   "metadata": {
    "id": "Ytbkn2E5GHm3"
   },
   "source": [
    "#Aula 19"
   ]
  },
  {
   "cell_type": "markdown",
   "metadata": {
    "id": "upqf4WVdBEjC"
   },
   "source": [
    "#Importar Bibliotecas"
   ]
  },
  {
   "cell_type": "code",
   "execution_count": 1,
   "metadata": {
    "executionInfo": {
     "elapsed": 1009,
     "status": "ok",
     "timestamp": 1633638542008,
     "user": {
      "displayName": "Jose Eduardo Santarem Segundo",
      "photoUrl": "https://lh3.googleusercontent.com/a-/AOh14GjLWfnjBdxVqYk-cgCgmPPwQImjjL3LNJ8YGfE=s64",
      "userId": "13621550804954747560"
     },
     "user_tz": 180
    },
    "id": "ldMIhOyc_2Sy"
   },
   "outputs": [],
   "source": [
    "import pandas as pd\n",
    "import numpy as np\n",
    "import seaborn as sns\n",
    "import matplotlib.pyplot as plt"
   ]
  },
  {
   "cell_type": "markdown",
   "metadata": {
    "id": "mniwYRyyBLl8"
   },
   "source": [
    "#Importar dados (veja que vamos utilizar um dataset que o próprio Google Colab disponibiliza) - /sample_data/california_housing_train.csv\n"
   ]
  },
  {
   "cell_type": "code",
   "execution_count": 2,
   "metadata": {
    "executionInfo": {
     "elapsed": 547,
     "status": "ok",
     "timestamp": 1633638566679,
     "user": {
      "displayName": "Jose Eduardo Santarem Segundo",
      "photoUrl": "https://lh3.googleusercontent.com/a-/AOh14GjLWfnjBdxVqYk-cgCgmPPwQImjjL3LNJ8YGfE=s64",
      "userId": "13621550804954747560"
     },
     "user_tz": 180
    },
    "id": "pfu-CC3wBB_E"
   },
   "outputs": [
    {
     "ename": "FileNotFoundError",
     "evalue": "[Errno 2] No such file or directory: './sample_data/california_housing_train.csv'",
     "output_type": "error",
     "traceback": [
      "\u001b[1;31m---------------------------------------------------------------------------\u001b[0m",
      "\u001b[1;31mFileNotFoundError\u001b[0m                         Traceback (most recent call last)",
      "\u001b[1;32m~\\AppData\\Local\\Temp/ipykernel_11980/3144398454.py\u001b[0m in \u001b[0;36m<module>\u001b[1;34m\u001b[0m\n\u001b[1;32m----> 1\u001b[1;33m \u001b[0mdados\u001b[0m\u001b[1;33m=\u001b[0m\u001b[0mpd\u001b[0m\u001b[1;33m.\u001b[0m\u001b[0mread_csv\u001b[0m\u001b[1;33m(\u001b[0m\u001b[1;34m'./sample_data/california_housing_train.csv'\u001b[0m\u001b[1;33m)\u001b[0m\u001b[1;33m\u001b[0m\u001b[1;33m\u001b[0m\u001b[0m\n\u001b[0m",
      "\u001b[1;32m~\\anaconda3\\lib\\site-packages\\pandas\\util\\_decorators.py\u001b[0m in \u001b[0;36mwrapper\u001b[1;34m(*args, **kwargs)\u001b[0m\n\u001b[0;32m    309\u001b[0m                     \u001b[0mstacklevel\u001b[0m\u001b[1;33m=\u001b[0m\u001b[0mstacklevel\u001b[0m\u001b[1;33m,\u001b[0m\u001b[1;33m\u001b[0m\u001b[1;33m\u001b[0m\u001b[0m\n\u001b[0;32m    310\u001b[0m                 )\n\u001b[1;32m--> 311\u001b[1;33m             \u001b[1;32mreturn\u001b[0m \u001b[0mfunc\u001b[0m\u001b[1;33m(\u001b[0m\u001b[1;33m*\u001b[0m\u001b[0margs\u001b[0m\u001b[1;33m,\u001b[0m \u001b[1;33m**\u001b[0m\u001b[0mkwargs\u001b[0m\u001b[1;33m)\u001b[0m\u001b[1;33m\u001b[0m\u001b[1;33m\u001b[0m\u001b[0m\n\u001b[0m\u001b[0;32m    312\u001b[0m \u001b[1;33m\u001b[0m\u001b[0m\n\u001b[0;32m    313\u001b[0m         \u001b[1;32mreturn\u001b[0m \u001b[0mwrapper\u001b[0m\u001b[1;33m\u001b[0m\u001b[1;33m\u001b[0m\u001b[0m\n",
      "\u001b[1;32m~\\anaconda3\\lib\\site-packages\\pandas\\io\\parsers\\readers.py\u001b[0m in \u001b[0;36mread_csv\u001b[1;34m(filepath_or_buffer, sep, delimiter, header, names, index_col, usecols, squeeze, prefix, mangle_dupe_cols, dtype, engine, converters, true_values, false_values, skipinitialspace, skiprows, skipfooter, nrows, na_values, keep_default_na, na_filter, verbose, skip_blank_lines, parse_dates, infer_datetime_format, keep_date_col, date_parser, dayfirst, cache_dates, iterator, chunksize, compression, thousands, decimal, lineterminator, quotechar, quoting, doublequote, escapechar, comment, encoding, encoding_errors, dialect, error_bad_lines, warn_bad_lines, on_bad_lines, delim_whitespace, low_memory, memory_map, float_precision, storage_options)\u001b[0m\n\u001b[0;32m    584\u001b[0m     \u001b[0mkwds\u001b[0m\u001b[1;33m.\u001b[0m\u001b[0mupdate\u001b[0m\u001b[1;33m(\u001b[0m\u001b[0mkwds_defaults\u001b[0m\u001b[1;33m)\u001b[0m\u001b[1;33m\u001b[0m\u001b[1;33m\u001b[0m\u001b[0m\n\u001b[0;32m    585\u001b[0m \u001b[1;33m\u001b[0m\u001b[0m\n\u001b[1;32m--> 586\u001b[1;33m     \u001b[1;32mreturn\u001b[0m \u001b[0m_read\u001b[0m\u001b[1;33m(\u001b[0m\u001b[0mfilepath_or_buffer\u001b[0m\u001b[1;33m,\u001b[0m \u001b[0mkwds\u001b[0m\u001b[1;33m)\u001b[0m\u001b[1;33m\u001b[0m\u001b[1;33m\u001b[0m\u001b[0m\n\u001b[0m\u001b[0;32m    587\u001b[0m \u001b[1;33m\u001b[0m\u001b[0m\n\u001b[0;32m    588\u001b[0m \u001b[1;33m\u001b[0m\u001b[0m\n",
      "\u001b[1;32m~\\anaconda3\\lib\\site-packages\\pandas\\io\\parsers\\readers.py\u001b[0m in \u001b[0;36m_read\u001b[1;34m(filepath_or_buffer, kwds)\u001b[0m\n\u001b[0;32m    480\u001b[0m \u001b[1;33m\u001b[0m\u001b[0m\n\u001b[0;32m    481\u001b[0m     \u001b[1;31m# Create the parser.\u001b[0m\u001b[1;33m\u001b[0m\u001b[1;33m\u001b[0m\u001b[0m\n\u001b[1;32m--> 482\u001b[1;33m     \u001b[0mparser\u001b[0m \u001b[1;33m=\u001b[0m \u001b[0mTextFileReader\u001b[0m\u001b[1;33m(\u001b[0m\u001b[0mfilepath_or_buffer\u001b[0m\u001b[1;33m,\u001b[0m \u001b[1;33m**\u001b[0m\u001b[0mkwds\u001b[0m\u001b[1;33m)\u001b[0m\u001b[1;33m\u001b[0m\u001b[1;33m\u001b[0m\u001b[0m\n\u001b[0m\u001b[0;32m    483\u001b[0m \u001b[1;33m\u001b[0m\u001b[0m\n\u001b[0;32m    484\u001b[0m     \u001b[1;32mif\u001b[0m \u001b[0mchunksize\u001b[0m \u001b[1;32mor\u001b[0m \u001b[0miterator\u001b[0m\u001b[1;33m:\u001b[0m\u001b[1;33m\u001b[0m\u001b[1;33m\u001b[0m\u001b[0m\n",
      "\u001b[1;32m~\\anaconda3\\lib\\site-packages\\pandas\\io\\parsers\\readers.py\u001b[0m in \u001b[0;36m__init__\u001b[1;34m(self, f, engine, **kwds)\u001b[0m\n\u001b[0;32m    809\u001b[0m             \u001b[0mself\u001b[0m\u001b[1;33m.\u001b[0m\u001b[0moptions\u001b[0m\u001b[1;33m[\u001b[0m\u001b[1;34m\"has_index_names\"\u001b[0m\u001b[1;33m]\u001b[0m \u001b[1;33m=\u001b[0m \u001b[0mkwds\u001b[0m\u001b[1;33m[\u001b[0m\u001b[1;34m\"has_index_names\"\u001b[0m\u001b[1;33m]\u001b[0m\u001b[1;33m\u001b[0m\u001b[1;33m\u001b[0m\u001b[0m\n\u001b[0;32m    810\u001b[0m \u001b[1;33m\u001b[0m\u001b[0m\n\u001b[1;32m--> 811\u001b[1;33m         \u001b[0mself\u001b[0m\u001b[1;33m.\u001b[0m\u001b[0m_engine\u001b[0m \u001b[1;33m=\u001b[0m \u001b[0mself\u001b[0m\u001b[1;33m.\u001b[0m\u001b[0m_make_engine\u001b[0m\u001b[1;33m(\u001b[0m\u001b[0mself\u001b[0m\u001b[1;33m.\u001b[0m\u001b[0mengine\u001b[0m\u001b[1;33m)\u001b[0m\u001b[1;33m\u001b[0m\u001b[1;33m\u001b[0m\u001b[0m\n\u001b[0m\u001b[0;32m    812\u001b[0m \u001b[1;33m\u001b[0m\u001b[0m\n\u001b[0;32m    813\u001b[0m     \u001b[1;32mdef\u001b[0m \u001b[0mclose\u001b[0m\u001b[1;33m(\u001b[0m\u001b[0mself\u001b[0m\u001b[1;33m)\u001b[0m\u001b[1;33m:\u001b[0m\u001b[1;33m\u001b[0m\u001b[1;33m\u001b[0m\u001b[0m\n",
      "\u001b[1;32m~\\anaconda3\\lib\\site-packages\\pandas\\io\\parsers\\readers.py\u001b[0m in \u001b[0;36m_make_engine\u001b[1;34m(self, engine)\u001b[0m\n\u001b[0;32m   1038\u001b[0m             )\n\u001b[0;32m   1039\u001b[0m         \u001b[1;31m# error: Too many arguments for \"ParserBase\"\u001b[0m\u001b[1;33m\u001b[0m\u001b[1;33m\u001b[0m\u001b[0m\n\u001b[1;32m-> 1040\u001b[1;33m         \u001b[1;32mreturn\u001b[0m \u001b[0mmapping\u001b[0m\u001b[1;33m[\u001b[0m\u001b[0mengine\u001b[0m\u001b[1;33m]\u001b[0m\u001b[1;33m(\u001b[0m\u001b[0mself\u001b[0m\u001b[1;33m.\u001b[0m\u001b[0mf\u001b[0m\u001b[1;33m,\u001b[0m \u001b[1;33m**\u001b[0m\u001b[0mself\u001b[0m\u001b[1;33m.\u001b[0m\u001b[0moptions\u001b[0m\u001b[1;33m)\u001b[0m  \u001b[1;31m# type: ignore[call-arg]\u001b[0m\u001b[1;33m\u001b[0m\u001b[1;33m\u001b[0m\u001b[0m\n\u001b[0m\u001b[0;32m   1041\u001b[0m \u001b[1;33m\u001b[0m\u001b[0m\n\u001b[0;32m   1042\u001b[0m     \u001b[1;32mdef\u001b[0m \u001b[0m_failover_to_python\u001b[0m\u001b[1;33m(\u001b[0m\u001b[0mself\u001b[0m\u001b[1;33m)\u001b[0m\u001b[1;33m:\u001b[0m\u001b[1;33m\u001b[0m\u001b[1;33m\u001b[0m\u001b[0m\n",
      "\u001b[1;32m~\\anaconda3\\lib\\site-packages\\pandas\\io\\parsers\\c_parser_wrapper.py\u001b[0m in \u001b[0;36m__init__\u001b[1;34m(self, src, **kwds)\u001b[0m\n\u001b[0;32m     49\u001b[0m \u001b[1;33m\u001b[0m\u001b[0m\n\u001b[0;32m     50\u001b[0m         \u001b[1;31m# open handles\u001b[0m\u001b[1;33m\u001b[0m\u001b[1;33m\u001b[0m\u001b[0m\n\u001b[1;32m---> 51\u001b[1;33m         \u001b[0mself\u001b[0m\u001b[1;33m.\u001b[0m\u001b[0m_open_handles\u001b[0m\u001b[1;33m(\u001b[0m\u001b[0msrc\u001b[0m\u001b[1;33m,\u001b[0m \u001b[0mkwds\u001b[0m\u001b[1;33m)\u001b[0m\u001b[1;33m\u001b[0m\u001b[1;33m\u001b[0m\u001b[0m\n\u001b[0m\u001b[0;32m     52\u001b[0m         \u001b[1;32massert\u001b[0m \u001b[0mself\u001b[0m\u001b[1;33m.\u001b[0m\u001b[0mhandles\u001b[0m \u001b[1;32mis\u001b[0m \u001b[1;32mnot\u001b[0m \u001b[1;32mNone\u001b[0m\u001b[1;33m\u001b[0m\u001b[1;33m\u001b[0m\u001b[0m\n\u001b[0;32m     53\u001b[0m \u001b[1;33m\u001b[0m\u001b[0m\n",
      "\u001b[1;32m~\\anaconda3\\lib\\site-packages\\pandas\\io\\parsers\\base_parser.py\u001b[0m in \u001b[0;36m_open_handles\u001b[1;34m(self, src, kwds)\u001b[0m\n\u001b[0;32m    220\u001b[0m         \u001b[0mLet\u001b[0m \u001b[0mthe\u001b[0m \u001b[0mreaders\u001b[0m \u001b[0mopen\u001b[0m \u001b[0mIOHandles\u001b[0m \u001b[0mafter\u001b[0m \u001b[0mthey\u001b[0m \u001b[0mare\u001b[0m \u001b[0mdone\u001b[0m \u001b[1;32mwith\u001b[0m \u001b[0mtheir\u001b[0m \u001b[0mpotential\u001b[0m \u001b[0mraises\u001b[0m\u001b[1;33m.\u001b[0m\u001b[1;33m\u001b[0m\u001b[1;33m\u001b[0m\u001b[0m\n\u001b[0;32m    221\u001b[0m         \"\"\"\n\u001b[1;32m--> 222\u001b[1;33m         self.handles = get_handle(\n\u001b[0m\u001b[0;32m    223\u001b[0m             \u001b[0msrc\u001b[0m\u001b[1;33m,\u001b[0m\u001b[1;33m\u001b[0m\u001b[1;33m\u001b[0m\u001b[0m\n\u001b[0;32m    224\u001b[0m             \u001b[1;34m\"r\"\u001b[0m\u001b[1;33m,\u001b[0m\u001b[1;33m\u001b[0m\u001b[1;33m\u001b[0m\u001b[0m\n",
      "\u001b[1;32m~\\anaconda3\\lib\\site-packages\\pandas\\io\\common.py\u001b[0m in \u001b[0;36mget_handle\u001b[1;34m(path_or_buf, mode, encoding, compression, memory_map, is_text, errors, storage_options)\u001b[0m\n\u001b[0;32m    700\u001b[0m         \u001b[1;32mif\u001b[0m \u001b[0mioargs\u001b[0m\u001b[1;33m.\u001b[0m\u001b[0mencoding\u001b[0m \u001b[1;32mand\u001b[0m \u001b[1;34m\"b\"\u001b[0m \u001b[1;32mnot\u001b[0m \u001b[1;32min\u001b[0m \u001b[0mioargs\u001b[0m\u001b[1;33m.\u001b[0m\u001b[0mmode\u001b[0m\u001b[1;33m:\u001b[0m\u001b[1;33m\u001b[0m\u001b[1;33m\u001b[0m\u001b[0m\n\u001b[0;32m    701\u001b[0m             \u001b[1;31m# Encoding\u001b[0m\u001b[1;33m\u001b[0m\u001b[1;33m\u001b[0m\u001b[0m\n\u001b[1;32m--> 702\u001b[1;33m             handle = open(\n\u001b[0m\u001b[0;32m    703\u001b[0m                 \u001b[0mhandle\u001b[0m\u001b[1;33m,\u001b[0m\u001b[1;33m\u001b[0m\u001b[1;33m\u001b[0m\u001b[0m\n\u001b[0;32m    704\u001b[0m                 \u001b[0mioargs\u001b[0m\u001b[1;33m.\u001b[0m\u001b[0mmode\u001b[0m\u001b[1;33m,\u001b[0m\u001b[1;33m\u001b[0m\u001b[1;33m\u001b[0m\u001b[0m\n",
      "\u001b[1;31mFileNotFoundError\u001b[0m: [Errno 2] No such file or directory: './sample_data/california_housing_train.csv'"
     ]
    }
   ],
   "source": [
    "dados=pd.read_csv('./sample_data/california_housing_train.csv')"
   ]
  },
  {
   "cell_type": "code",
   "execution_count": null,
   "metadata": {
    "colab": {
     "base_uri": "https://localhost:8080/",
     "height": 377
    },
    "executionInfo": {
     "elapsed": 510,
     "status": "ok",
     "timestamp": 1633638570854,
     "user": {
      "displayName": "Jose Eduardo Santarem Segundo",
      "photoUrl": "https://lh3.googleusercontent.com/a-/AOh14GjLWfnjBdxVqYk-cgCgmPPwQImjjL3LNJ8YGfE=s64",
      "userId": "13621550804954747560"
     },
     "user_tz": 180
    },
    "id": "Znz_HVtICYsW",
    "outputId": "bde9171b-6e94-459c-d1c6-7b4115c814c9"
   },
   "outputs": [],
   "source": [
    "dados.head(10)"
   ]
  },
  {
   "cell_type": "markdown",
   "metadata": {
    "id": "-Jxg186rCadB"
   },
   "source": [
    "#Análise Exploratória\n",
    "\n",
    "\n",
    "###Id - Id única de cada local\n",
    "###latitude- latitude do local\n",
    "###longitude- longitude do local\n",
    "###median_age- mediana das idades das casas no local\n",
    "###total_rooms - contagem do total de cômodos na região\n",
    "###total_bedrooms - contagem do total de quartos na região\n",
    "###population - população total na região\n",
    "###households - número total de casas na região\n",
    "###median_income- mediana da renda das pessoas na região (em dezenas de milhares por ano)\n",
    "###median_house_value -mediana dos valores das casas da região - **variável-alvo**\n",
    "\n",
    "Este conjunto de dados contém uma linha por grupo de blocos do censo. Um grupo de quarteirões é a menor unidade geográfica para a qual o U.S. Census Bureau publica dados de amostra (um grupo de quarteirões normalmente tem uma população de 600 a 3.000 pessoas)."
   ]
  },
  {
   "cell_type": "code",
   "execution_count": null,
   "metadata": {
    "colab": {
     "base_uri": "https://localhost:8080/",
     "height": 223
    },
    "executionInfo": {
     "elapsed": 722,
     "status": "ok",
     "timestamp": 1633638827489,
     "user": {
      "displayName": "Jose Eduardo Santarem Segundo",
      "photoUrl": "https://lh3.googleusercontent.com/a-/AOh14GjLWfnjBdxVqYk-cgCgmPPwQImjjL3LNJ8YGfE=s64",
      "userId": "13621550804954747560"
     },
     "user_tz": 180
    },
    "id": "6xBSmAcRCazl",
    "outputId": "7a7fc6e1-dd0b-402a-a6ee-f277d8918409"
   },
   "outputs": [],
   "source": [
    "dados.head()"
   ]
  },
  {
   "cell_type": "code",
   "execution_count": null,
   "metadata": {
    "colab": {
     "base_uri": "https://localhost:8080/",
     "height": 315
    },
    "executionInfo": {
     "elapsed": 394,
     "status": "ok",
     "timestamp": 1633638835656,
     "user": {
      "displayName": "Jose Eduardo Santarem Segundo",
      "photoUrl": "https://lh3.googleusercontent.com/a-/AOh14GjLWfnjBdxVqYk-cgCgmPPwQImjjL3LNJ8YGfE=s64",
      "userId": "13621550804954747560"
     },
     "user_tz": 180
    },
    "id": "9piZyV_pCsuK",
    "outputId": "d866c7c2-6306-43e7-99fb-5e08c5cce55f"
   },
   "outputs": [],
   "source": [
    "dados.describe(include='all')"
   ]
  },
  {
   "cell_type": "code",
   "execution_count": 3,
   "metadata": {
    "colab": {
     "base_uri": "https://localhost:8080/"
    },
    "executionInfo": {
     "elapsed": 5542,
     "status": "ok",
     "timestamp": 1633638949151,
     "user": {
      "displayName": "Jose Eduardo Santarem Segundo",
      "photoUrl": "https://lh3.googleusercontent.com/a-/AOh14GjLWfnjBdxVqYk-cgCgmPPwQImjjL3LNJ8YGfE=s64",
      "userId": "13621550804954747560"
     },
     "user_tz": 180
    },
    "id": "43nZLnQ4Cs3S",
    "outputId": "d15214d7-c167-4a5d-baf0-656883ffa814"
   },
   "outputs": [
    {
     "name": "stdout",
     "output_type": "stream",
     "text": [
      "Requirement already satisfied: sweetviz in c:\\users\\adm\\anaconda3\\lib\\site-packages (2.1.3)\n",
      "Requirement already satisfied: jinja2>=2.11.1 in c:\\users\\adm\\anaconda3\\lib\\site-packages (from sweetviz) (2.11.3)\n",
      "Requirement already satisfied: matplotlib>=3.1.3 in c:\\users\\adm\\anaconda3\\lib\\site-packages (from sweetviz) (3.4.3)\n",
      "Requirement already satisfied: tqdm>=4.43.0 in c:\\users\\adm\\anaconda3\\lib\\site-packages (from sweetviz) (4.62.3)\n",
      "Requirement already satisfied: importlib-resources>=1.2.0 in c:\\users\\adm\\anaconda3\\lib\\site-packages (from sweetviz) (5.4.0)\n",
      "Requirement already satisfied: numpy>=1.16.0 in c:\\users\\adm\\anaconda3\\lib\\site-packages (from sweetviz) (1.20.3)\n",
      "Requirement already satisfied: scipy>=1.3.2 in c:\\users\\adm\\anaconda3\\lib\\site-packages (from sweetviz) (1.7.1)\n",
      "Requirement already satisfied: pandas!=1.0.0,!=1.0.1,!=1.0.2,>=0.25.3 in c:\\users\\adm\\anaconda3\\lib\\site-packages (from sweetviz) (1.3.4)\n",
      "Requirement already satisfied: zipp>=3.1.0 in c:\\users\\adm\\anaconda3\\lib\\site-packages (from importlib-resources>=1.2.0->sweetviz) (3.6.0)\n",
      "Requirement already satisfied: MarkupSafe>=0.23 in c:\\users\\adm\\anaconda3\\lib\\site-packages (from jinja2>=2.11.1->sweetviz) (1.1.1)\n",
      "Requirement already satisfied: pillow>=6.2.0 in c:\\users\\adm\\anaconda3\\lib\\site-packages (from matplotlib>=3.1.3->sweetviz) (8.4.0)\n",
      "Requirement already satisfied: python-dateutil>=2.7 in c:\\users\\adm\\anaconda3\\lib\\site-packages (from matplotlib>=3.1.3->sweetviz) (2.8.2)\n",
      "Requirement already satisfied: kiwisolver>=1.0.1 in c:\\users\\adm\\anaconda3\\lib\\site-packages (from matplotlib>=3.1.3->sweetviz) (1.3.1)\n",
      "Requirement already satisfied: cycler>=0.10 in c:\\users\\adm\\anaconda3\\lib\\site-packages (from matplotlib>=3.1.3->sweetviz) (0.10.0)\n",
      "Requirement already satisfied: pyparsing>=2.2.1 in c:\\users\\adm\\anaconda3\\lib\\site-packages (from matplotlib>=3.1.3->sweetviz) (3.0.4)\n",
      "Requirement already satisfied: six in c:\\users\\adm\\anaconda3\\lib\\site-packages (from cycler>=0.10->matplotlib>=3.1.3->sweetviz) (1.16.0)\n",
      "Requirement already satisfied: pytz>=2017.3 in c:\\users\\adm\\anaconda3\\lib\\site-packages (from pandas!=1.0.0,!=1.0.1,!=1.0.2,>=0.25.3->sweetviz) (2021.3)\n",
      "Requirement already satisfied: colorama in c:\\users\\adm\\anaconda3\\lib\\site-packages (from tqdm>=4.43.0->sweetviz) (0.4.4)\n"
     ]
    }
   ],
   "source": [
    "!pip install sweetviz\n",
    "import sweetviz"
   ]
  },
  {
   "cell_type": "code",
   "execution_count": 4,
   "metadata": {
    "colab": {
     "base_uri": "https://localhost:8080/",
     "height": 86,
     "referenced_widgets": [
      "b788159b58f44732b83f821930a3e27b",
      "7dcadb0779284a4089b9858df553c3c2",
      "4e47d0ec5aba47f58232e0e73bd5e7d7",
      "35b4528fe55b48ca8468b986f64e923e",
      "7e2ca86990304176ba74c1cf9c2fe810",
      "33e728fecdc74b29bdf2d3debd44e84f",
      "ee477d8605ce47ceac2ed8c093b850b9",
      "f4843263b13a4909837fbe5af49d6b16",
      "186e787117ef43c280700885f69c13e5",
      "99eadea181b14ea78a3f4762eb904ae6",
      "121e9c571410448780c373225cc7c44c"
     ]
    },
    "executionInfo": {
     "elapsed": 7238,
     "status": "ok",
     "timestamp": 1633638961460,
     "user": {
      "displayName": "Jose Eduardo Santarem Segundo",
      "photoUrl": "https://lh3.googleusercontent.com/a-/AOh14GjLWfnjBdxVqYk-cgCgmPPwQImjjL3LNJ8YGfE=s64",
      "userId": "13621550804954747560"
     },
     "user_tz": 180
    },
    "id": "kwlG7UWoCs_5",
    "outputId": "f8d51f51-cd60-456c-b96b-cc9d4f8b8819"
   },
   "outputs": [
    {
     "ename": "NameError",
     "evalue": "name 'dados' is not defined",
     "output_type": "error",
     "traceback": [
      "\u001b[1;31m---------------------------------------------------------------------------\u001b[0m",
      "\u001b[1;31mNameError\u001b[0m                                 Traceback (most recent call last)",
      "\u001b[1;32m~\\AppData\\Local\\Temp/ipykernel_11980/3543540928.py\u001b[0m in \u001b[0;36m<module>\u001b[1;34m\u001b[0m\n\u001b[1;32m----> 1\u001b[1;33m \u001b[0manalise\u001b[0m\u001b[1;33m=\u001b[0m\u001b[0msweetviz\u001b[0m\u001b[1;33m.\u001b[0m\u001b[0manalyze\u001b[0m\u001b[1;33m(\u001b[0m\u001b[0mdados\u001b[0m\u001b[1;33m)\u001b[0m\u001b[1;33m\u001b[0m\u001b[1;33m\u001b[0m\u001b[0m\n\u001b[0m\u001b[0;32m      2\u001b[0m \u001b[0manalise\u001b[0m\u001b[1;33m.\u001b[0m\u001b[0mshow_html\u001b[0m\u001b[1;33m(\u001b[0m\u001b[1;33m)\u001b[0m\u001b[1;33m\u001b[0m\u001b[1;33m\u001b[0m\u001b[0m\n",
      "\u001b[1;31mNameError\u001b[0m: name 'dados' is not defined"
     ]
    }
   ],
   "source": [
    "analise=sweetviz.analyze(dados)\n",
    "analise.show_html()"
   ]
  },
  {
   "cell_type": "markdown",
   "metadata": {
    "id": "79cjAJN0Ctbr"
   },
   "source": [
    "##Mapa de calor (correlação de variáveis)"
   ]
  },
  {
   "cell_type": "code",
   "execution_count": 5,
   "metadata": {
    "colab": {
     "base_uri": "https://localhost:8080/",
     "height": 759
    },
    "executionInfo": {
     "elapsed": 1282,
     "status": "ok",
     "timestamp": 1633639237979,
     "user": {
      "displayName": "Jose Eduardo Santarem Segundo",
      "photoUrl": "https://lh3.googleusercontent.com/a-/AOh14GjLWfnjBdxVqYk-cgCgmPPwQImjjL3LNJ8YGfE=s64",
      "userId": "13621550804954747560"
     },
     "user_tz": 180
    },
    "id": "-KIsVwoHCyrT",
    "outputId": "036c33c4-756c-4566-c4ec-fb17763fa135"
   },
   "outputs": [
    {
     "ename": "NameError",
     "evalue": "name 'dados' is not defined",
     "output_type": "error",
     "traceback": [
      "\u001b[1;31m---------------------------------------------------------------------------\u001b[0m",
      "\u001b[1;31mNameError\u001b[0m                                 Traceback (most recent call last)",
      "\u001b[1;32m~\\AppData\\Local\\Temp/ipykernel_11980/3302298259.py\u001b[0m in \u001b[0;36m<module>\u001b[1;34m\u001b[0m\n\u001b[1;32m----> 1\u001b[1;33m \u001b[0mmask\u001b[0m \u001b[1;33m=\u001b[0m \u001b[0mnp\u001b[0m\u001b[1;33m.\u001b[0m\u001b[0mtriu\u001b[0m\u001b[1;33m(\u001b[0m\u001b[0mnp\u001b[0m\u001b[1;33m.\u001b[0m\u001b[0mones_like\u001b[0m\u001b[1;33m(\u001b[0m\u001b[0mdados\u001b[0m\u001b[1;33m.\u001b[0m\u001b[0mcorr\u001b[0m\u001b[1;33m(\u001b[0m\u001b[1;33m)\u001b[0m\u001b[1;33m,\u001b[0m \u001b[0mdtype\u001b[0m\u001b[1;33m=\u001b[0m\u001b[0mnp\u001b[0m\u001b[1;33m.\u001b[0m\u001b[0mbool\u001b[0m\u001b[1;33m)\u001b[0m\u001b[1;33m)\u001b[0m\u001b[1;33m\u001b[0m\u001b[1;33m\u001b[0m\u001b[0m\n\u001b[0m\u001b[0;32m      2\u001b[0m \u001b[0mplt\u001b[0m\u001b[1;33m.\u001b[0m\u001b[0mfigure\u001b[0m\u001b[1;33m(\u001b[0m\u001b[0mfigsize\u001b[0m\u001b[1;33m=\u001b[0m\u001b[1;33m(\u001b[0m\u001b[1;36m10\u001b[0m\u001b[1;33m,\u001b[0m\u001b[1;36m8\u001b[0m\u001b[1;33m)\u001b[0m\u001b[1;33m)\u001b[0m\u001b[1;33m\u001b[0m\u001b[1;33m\u001b[0m\u001b[0m\n\u001b[0;32m      3\u001b[0m \u001b[0msns\u001b[0m\u001b[1;33m.\u001b[0m\u001b[0mheatmap\u001b[0m\u001b[1;33m(\u001b[0m\u001b[0mdados\u001b[0m\u001b[1;33m.\u001b[0m\u001b[0mcorr\u001b[0m\u001b[1;33m(\u001b[0m\u001b[1;33m)\u001b[0m\u001b[1;33m,\u001b[0m \u001b[0mmask\u001b[0m\u001b[1;33m=\u001b[0m\u001b[0mmask\u001b[0m\u001b[1;33m,\u001b[0m \u001b[0msquare\u001b[0m \u001b[1;33m=\u001b[0m \u001b[1;32mTrue\u001b[0m\u001b[1;33m,\u001b[0m \u001b[0mannot\u001b[0m\u001b[1;33m=\u001b[0m\u001b[1;32mTrue\u001b[0m\u001b[1;33m,\u001b[0m \u001b[0mvmin\u001b[0m\u001b[1;33m=\u001b[0m\u001b[1;33m-\u001b[0m\u001b[1;36m1\u001b[0m\u001b[1;33m,\u001b[0m \u001b[0mvmax\u001b[0m\u001b[1;33m=\u001b[0m\u001b[1;36m1\u001b[0m\u001b[1;33m)\u001b[0m\u001b[1;33m\u001b[0m\u001b[1;33m\u001b[0m\u001b[0m\n\u001b[0;32m      4\u001b[0m \u001b[0mplt\u001b[0m\u001b[1;33m.\u001b[0m\u001b[0mshow\u001b[0m\u001b[1;33m(\u001b[0m\u001b[1;33m)\u001b[0m\u001b[1;33m\u001b[0m\u001b[1;33m\u001b[0m\u001b[0m\n",
      "\u001b[1;31mNameError\u001b[0m: name 'dados' is not defined"
     ]
    }
   ],
   "source": [
    "mask = np.triu(np.ones_like(dados.corr(), dtype=np.bool))\n",
    "plt.figure(figsize=(10,8))\n",
    "sns.heatmap(dados.corr(), mask=mask, square = True, annot=True, vmin=-1, vmax=1)\n",
    "plt.show()"
   ]
  },
  {
   "cell_type": "markdown",
   "metadata": {
    "id": "Bvs6UqKcDW9W"
   },
   "source": [
    "###Varias observações no mapa de calor, mas veja que interessante median_income com median_house_value e também households com total_bedrooms"
   ]
  },
  {
   "cell_type": "markdown",
   "metadata": {
    "id": "leGd4HgDGPSs"
   },
   "source": [
    "#Aula 20"
   ]
  },
  {
   "cell_type": "markdown",
   "metadata": {
    "id": "RghQ5JpKDf8s"
   },
   "source": [
    "#Iniciar o processo de Machine Learning\n",
    "\n",
    "### Como esse dataset é pré-pronto (usado em muitos exemplos de livros, sites, etc,) não há muito o que pré-processar dos dados.\n",
    "### Vamos inicialmente determinar o alvo (preço médio das casas)"
   ]
  },
  {
   "cell_type": "code",
   "execution_count": 6,
   "metadata": {
    "colab": {
     "base_uri": "https://localhost:8080/"
    },
    "executionInfo": {
     "elapsed": 416,
     "status": "ok",
     "timestamp": 1633639685825,
     "user": {
      "displayName": "Jose Eduardo Santarem Segundo",
      "photoUrl": "https://lh3.googleusercontent.com/a-/AOh14GjLWfnjBdxVqYk-cgCgmPPwQImjjL3LNJ8YGfE=s64",
      "userId": "13621550804954747560"
     },
     "user_tz": 180
    },
    "id": "R3-63nM8DWXw",
    "outputId": "13a27480-4e6c-4de6-e4c1-82a2a44db818"
   },
   "outputs": [
    {
     "ename": "NameError",
     "evalue": "name 'dados' is not defined",
     "output_type": "error",
     "traceback": [
      "\u001b[1;31m---------------------------------------------------------------------------\u001b[0m",
      "\u001b[1;31mNameError\u001b[0m                                 Traceback (most recent call last)",
      "\u001b[1;32m~\\AppData\\Local\\Temp/ipykernel_11980/2150780973.py\u001b[0m in \u001b[0;36m<module>\u001b[1;34m\u001b[0m\n\u001b[1;32m----> 1\u001b[1;33m \u001b[0my\u001b[0m\u001b[1;33m=\u001b[0m\u001b[0mdados\u001b[0m\u001b[1;33m[\u001b[0m\u001b[1;34m'median_house_value'\u001b[0m\u001b[1;33m]\u001b[0m\u001b[1;33m\u001b[0m\u001b[1;33m\u001b[0m\u001b[0m\n\u001b[0m\u001b[0;32m      2\u001b[0m \u001b[1;31m#y=dados.median_house_value\u001b[0m\u001b[1;33m\u001b[0m\u001b[1;33m\u001b[0m\u001b[0m\n\u001b[0;32m      3\u001b[0m \u001b[0my\u001b[0m\u001b[1;33m\u001b[0m\u001b[1;33m\u001b[0m\u001b[0m\n",
      "\u001b[1;31mNameError\u001b[0m: name 'dados' is not defined"
     ]
    }
   ],
   "source": [
    "y=dados['median_house_value']\n",
    "#y=dados.median_house_value\n",
    "y"
   ]
  },
  {
   "cell_type": "markdown",
   "metadata": {
    "id": "c9wpt_QXDqq8"
   },
   "source": [
    "###Escolher as features (váriveis a serem utilizadas do seu conjunto de dados)"
   ]
  },
  {
   "cell_type": "code",
   "execution_count": 7,
   "metadata": {
    "executionInfo": {
     "elapsed": 819,
     "status": "ok",
     "timestamp": 1633639733538,
     "user": {
      "displayName": "Jose Eduardo Santarem Segundo",
      "photoUrl": "https://lh3.googleusercontent.com/a-/AOh14GjLWfnjBdxVqYk-cgCgmPPwQImjjL3LNJ8YGfE=s64",
      "userId": "13621550804954747560"
     },
     "user_tz": 180
    },
    "id": "vC10DLl5Dp0z"
   },
   "outputs": [],
   "source": [
    "features=['longitude','latitude','housing_median_age','total_rooms','total_bedrooms','population','households','median_income']"
   ]
  },
  {
   "cell_type": "code",
   "execution_count": 8,
   "metadata": {
    "executionInfo": {
     "elapsed": 619,
     "status": "ok",
     "timestamp": 1633639747672,
     "user": {
      "displayName": "Jose Eduardo Santarem Segundo",
      "photoUrl": "https://lh3.googleusercontent.com/a-/AOh14GjLWfnjBdxVqYk-cgCgmPPwQImjjL3LNJ8YGfE=s64",
      "userId": "13621550804954747560"
     },
     "user_tz": 180
    },
    "id": "2p1gi1nbDthm"
   },
   "outputs": [
    {
     "ename": "NameError",
     "evalue": "name 'dados' is not defined",
     "output_type": "error",
     "traceback": [
      "\u001b[1;31m---------------------------------------------------------------------------\u001b[0m",
      "\u001b[1;31mNameError\u001b[0m                                 Traceback (most recent call last)",
      "\u001b[1;32m~\\AppData\\Local\\Temp/ipykernel_11980/1868035526.py\u001b[0m in \u001b[0;36m<module>\u001b[1;34m\u001b[0m\n\u001b[1;32m----> 1\u001b[1;33m \u001b[0mX\u001b[0m\u001b[1;33m=\u001b[0m\u001b[0mdados\u001b[0m\u001b[1;33m[\u001b[0m\u001b[0mfeatures\u001b[0m\u001b[1;33m]\u001b[0m\u001b[1;33m\u001b[0m\u001b[1;33m\u001b[0m\u001b[0m\n\u001b[0m",
      "\u001b[1;31mNameError\u001b[0m: name 'dados' is not defined"
     ]
    }
   ],
   "source": [
    "X=dados[features]"
   ]
  },
  {
   "cell_type": "code",
   "execution_count": 9,
   "metadata": {
    "colab": {
     "base_uri": "https://localhost:8080/",
     "height": 417
    },
    "executionInfo": {
     "elapsed": 391,
     "status": "ok",
     "timestamp": 1633639749941,
     "user": {
      "displayName": "Jose Eduardo Santarem Segundo",
      "photoUrl": "https://lh3.googleusercontent.com/a-/AOh14GjLWfnjBdxVqYk-cgCgmPPwQImjjL3LNJ8YGfE=s64",
      "userId": "13621550804954747560"
     },
     "user_tz": 180
    },
    "id": "1INxk6_ODtqX",
    "outputId": "c95dc6bc-fba6-466c-d766-a65f062937a8"
   },
   "outputs": [
    {
     "ename": "NameError",
     "evalue": "name 'X' is not defined",
     "output_type": "error",
     "traceback": [
      "\u001b[1;31m---------------------------------------------------------------------------\u001b[0m",
      "\u001b[1;31mNameError\u001b[0m                                 Traceback (most recent call last)",
      "\u001b[1;32m~\\AppData\\Local\\Temp/ipykernel_11980/3777217377.py\u001b[0m in \u001b[0;36m<module>\u001b[1;34m\u001b[0m\n\u001b[1;32m----> 1\u001b[1;33m \u001b[0mX\u001b[0m\u001b[1;33m\u001b[0m\u001b[1;33m\u001b[0m\u001b[0m\n\u001b[0m",
      "\u001b[1;31mNameError\u001b[0m: name 'X' is not defined"
     ]
    }
   ],
   "source": [
    "X"
   ]
  },
  {
   "cell_type": "markdown",
   "metadata": {
    "id": "8SzmmfnXDt7b"
   },
   "source": [
    "#Construindo o modelo\n",
    "\n",
    "## Usar Scikit-Learn\n",
    "###**Define** = Escolha de modelo (define parâmetros)\n",
    "###**Fit** = Treinar\n",
    "###**Predict** = Fazer a Predição\n",
    "###**Evaluate** = Avaliar os resultados"
   ]
  },
  {
   "cell_type": "code",
   "execution_count": 10,
   "metadata": {
    "executionInfo": {
     "elapsed": 414,
     "status": "ok",
     "timestamp": 1633639808906,
     "user": {
      "displayName": "Jose Eduardo Santarem Segundo",
      "photoUrl": "https://lh3.googleusercontent.com/a-/AOh14GjLWfnjBdxVqYk-cgCgmPPwQImjjL3LNJ8YGfE=s64",
      "userId": "13621550804954747560"
     },
     "user_tz": 180
    },
    "id": "oxWnOXE7Dwdr"
   },
   "outputs": [],
   "source": [
    "from sklearn.neighbors import KNeighborsRegressor"
   ]
  },
  {
   "cell_type": "markdown",
   "metadata": {
    "id": "TIMkB7EKEDrz"
   },
   "source": [
    "#Vamos usar como teste um KNN Regressor (diferente da semana anterior quando utilizamos um Classificator)."
   ]
  },
  {
   "cell_type": "code",
   "execution_count": 11,
   "metadata": {
    "executionInfo": {
     "elapsed": 415,
     "status": "ok",
     "timestamp": 1633640269333,
     "user": {
      "displayName": "Jose Eduardo Santarem Segundo",
      "photoUrl": "https://lh3.googleusercontent.com/a-/AOh14GjLWfnjBdxVqYk-cgCgmPPwQImjjL3LNJ8YGfE=s64",
      "userId": "13621550804954747560"
     },
     "user_tz": 180
    },
    "id": "KU64ig5AEEDa"
   },
   "outputs": [],
   "source": [
    "modelo = KNeighborsRegressor(7)"
   ]
  },
  {
   "cell_type": "markdown",
   "metadata": {
    "id": "5tZf0wzqEEcg"
   },
   "source": [
    "#Treinar o Modelo (isso é ML, simples né)"
   ]
  },
  {
   "cell_type": "code",
   "execution_count": 12,
   "metadata": {
    "colab": {
     "base_uri": "https://localhost:8080/"
    },
    "executionInfo": {
     "elapsed": 445,
     "status": "ok",
     "timestamp": 1633640274981,
     "user": {
      "displayName": "Jose Eduardo Santarem Segundo",
      "photoUrl": "https://lh3.googleusercontent.com/a-/AOh14GjLWfnjBdxVqYk-cgCgmPPwQImjjL3LNJ8YGfE=s64",
      "userId": "13621550804954747560"
     },
     "user_tz": 180
    },
    "id": "9aFFd0gLEG3m",
    "outputId": "2c331bef-ce38-4a1e-b434-39b2293c4016"
   },
   "outputs": [
    {
     "ename": "NameError",
     "evalue": "name 'X' is not defined",
     "output_type": "error",
     "traceback": [
      "\u001b[1;31m---------------------------------------------------------------------------\u001b[0m",
      "\u001b[1;31mNameError\u001b[0m                                 Traceback (most recent call last)",
      "\u001b[1;32m~\\AppData\\Local\\Temp/ipykernel_11980/1317191876.py\u001b[0m in \u001b[0;36m<module>\u001b[1;34m\u001b[0m\n\u001b[1;32m----> 1\u001b[1;33m \u001b[0mmodelo\u001b[0m\u001b[1;33m.\u001b[0m\u001b[0mfit\u001b[0m\u001b[1;33m(\u001b[0m\u001b[0mX\u001b[0m\u001b[1;33m,\u001b[0m\u001b[0my\u001b[0m\u001b[1;33m)\u001b[0m\u001b[1;33m\u001b[0m\u001b[1;33m\u001b[0m\u001b[0m\n\u001b[0m",
      "\u001b[1;31mNameError\u001b[0m: name 'X' is not defined"
     ]
    }
   ],
   "source": [
    "modelo.fit(X,y)"
   ]
  },
  {
   "cell_type": "code",
   "execution_count": 13,
   "metadata": {
    "colab": {
     "base_uri": "https://localhost:8080/",
     "height": 223
    },
    "executionInfo": {
     "elapsed": 416,
     "status": "ok",
     "timestamp": 1633639857271,
     "user": {
      "displayName": "Jose Eduardo Santarem Segundo",
      "photoUrl": "https://lh3.googleusercontent.com/a-/AOh14GjLWfnjBdxVqYk-cgCgmPPwQImjjL3LNJ8YGfE=s64",
      "userId": "13621550804954747560"
     },
     "user_tz": 180
    },
    "id": "k3paHpLlEUVk",
    "outputId": "0d4301f7-b2b6-4de4-9fda-d6dfcdb85a22"
   },
   "outputs": [
    {
     "ename": "NameError",
     "evalue": "name 'dados' is not defined",
     "output_type": "error",
     "traceback": [
      "\u001b[1;31m---------------------------------------------------------------------------\u001b[0m",
      "\u001b[1;31mNameError\u001b[0m                                 Traceback (most recent call last)",
      "\u001b[1;32m~\\AppData\\Local\\Temp/ipykernel_11980/2570170411.py\u001b[0m in \u001b[0;36m<module>\u001b[1;34m\u001b[0m\n\u001b[1;32m----> 1\u001b[1;33m \u001b[0mdados\u001b[0m\u001b[1;33m.\u001b[0m\u001b[0mhead\u001b[0m\u001b[1;33m(\u001b[0m\u001b[1;36m5\u001b[0m\u001b[1;33m)\u001b[0m\u001b[1;33m\u001b[0m\u001b[1;33m\u001b[0m\u001b[0m\n\u001b[0m",
      "\u001b[1;31mNameError\u001b[0m: name 'dados' is not defined"
     ]
    }
   ],
   "source": [
    "dados.head(5)"
   ]
  },
  {
   "cell_type": "code",
   "execution_count": 14,
   "metadata": {
    "colab": {
     "base_uri": "https://localhost:8080/",
     "height": 203
    },
    "executionInfo": {
     "elapsed": 428,
     "status": "ok",
     "timestamp": 1633639872648,
     "user": {
      "displayName": "Jose Eduardo Santarem Segundo",
      "photoUrl": "https://lh3.googleusercontent.com/a-/AOh14GjLWfnjBdxVqYk-cgCgmPPwQImjjL3LNJ8YGfE=s64",
      "userId": "13621550804954747560"
     },
     "user_tz": 180
    },
    "id": "ulPzNpJMEUdI",
    "outputId": "08d3a66c-4195-4aa3-c930-2e177b832652"
   },
   "outputs": [
    {
     "ename": "NameError",
     "evalue": "name 'X' is not defined",
     "output_type": "error",
     "traceback": [
      "\u001b[1;31m---------------------------------------------------------------------------\u001b[0m",
      "\u001b[1;31mNameError\u001b[0m                                 Traceback (most recent call last)",
      "\u001b[1;32m~\\AppData\\Local\\Temp/ipykernel_11980/293315259.py\u001b[0m in \u001b[0;36m<module>\u001b[1;34m\u001b[0m\n\u001b[1;32m----> 1\u001b[1;33m \u001b[0mX\u001b[0m\u001b[1;33m.\u001b[0m\u001b[0mhead\u001b[0m\u001b[1;33m(\u001b[0m\u001b[1;36m5\u001b[0m\u001b[1;33m)\u001b[0m\u001b[1;33m\u001b[0m\u001b[1;33m\u001b[0m\u001b[0m\n\u001b[0m",
      "\u001b[1;31mNameError\u001b[0m: name 'X' is not defined"
     ]
    }
   ],
   "source": [
    "X.head(5)"
   ]
  },
  {
   "cell_type": "markdown",
   "metadata": {
    "id": "LTeO3zoZEUm-"
   },
   "source": [
    "#Fazer a predição"
   ]
  },
  {
   "cell_type": "code",
   "execution_count": 15,
   "metadata": {
    "colab": {
     "base_uri": "https://localhost:8080/"
    },
    "executionInfo": {
     "elapsed": 389,
     "status": "ok",
     "timestamp": 1633639917673,
     "user": {
      "displayName": "Jose Eduardo Santarem Segundo",
      "photoUrl": "https://lh3.googleusercontent.com/a-/AOh14GjLWfnjBdxVqYk-cgCgmPPwQImjjL3LNJ8YGfE=s64",
      "userId": "13621550804954747560"
     },
     "user_tz": 180
    },
    "id": "KcFNAhkAEU5U",
    "outputId": "b7f31ec2-d449-42af-f776-59152f7b437c"
   },
   "outputs": [
    {
     "ename": "NameError",
     "evalue": "name 'X' is not defined",
     "output_type": "error",
     "traceback": [
      "\u001b[1;31m---------------------------------------------------------------------------\u001b[0m",
      "\u001b[1;31mNameError\u001b[0m                                 Traceback (most recent call last)",
      "\u001b[1;32m~\\AppData\\Local\\Temp/ipykernel_11980/2802580595.py\u001b[0m in \u001b[0;36m<module>\u001b[1;34m\u001b[0m\n\u001b[1;32m----> 1\u001b[1;33m \u001b[0mmodelo\u001b[0m\u001b[1;33m.\u001b[0m\u001b[0mpredict\u001b[0m\u001b[1;33m(\u001b[0m\u001b[0mX\u001b[0m\u001b[1;33m.\u001b[0m\u001b[0mhead\u001b[0m\u001b[1;33m(\u001b[0m\u001b[1;36m5\u001b[0m\u001b[1;33m)\u001b[0m\u001b[1;33m)\u001b[0m\u001b[1;33m\u001b[0m\u001b[1;33m\u001b[0m\u001b[0m\n\u001b[0m",
      "\u001b[1;31mNameError\u001b[0m: name 'X' is not defined"
     ]
    }
   ],
   "source": [
    "modelo.predict(X.head(5))"
   ]
  },
  {
   "cell_type": "markdown",
   "metadata": {
    "id": "TRddjHwxEbB-"
   },
   "source": [
    "###**Validar o modelo**\n",
    "erro=atual - previsao (achar a diferença)"
   ]
  },
  {
   "cell_type": "code",
   "execution_count": 16,
   "metadata": {
    "executionInfo": {
     "elapsed": 412,
     "status": "ok",
     "timestamp": 1633640041393,
     "user": {
      "displayName": "Jose Eduardo Santarem Segundo",
      "photoUrl": "https://lh3.googleusercontent.com/a-/AOh14GjLWfnjBdxVqYk-cgCgmPPwQImjjL3LNJ8YGfE=s64",
      "userId": "13621550804954747560"
     },
     "user_tz": 180
    },
    "id": "FDakdtHQEbvX"
   },
   "outputs": [],
   "source": [
    "from sklearn.metrics import mean_absolute_error"
   ]
  },
  {
   "cell_type": "code",
   "execution_count": 17,
   "metadata": {
    "executionInfo": {
     "elapsed": 608,
     "status": "ok",
     "timestamp": 1633640293705,
     "user": {
      "displayName": "Jose Eduardo Santarem Segundo",
      "photoUrl": "https://lh3.googleusercontent.com/a-/AOh14GjLWfnjBdxVqYk-cgCgmPPwQImjjL3LNJ8YGfE=s64",
      "userId": "13621550804954747560"
     },
     "user_tz": 180
    },
    "id": "xZSpaTVaJYzO"
   },
   "outputs": [
    {
     "ename": "NameError",
     "evalue": "name 'X' is not defined",
     "output_type": "error",
     "traceback": [
      "\u001b[1;31m---------------------------------------------------------------------------\u001b[0m",
      "\u001b[1;31mNameError\u001b[0m                                 Traceback (most recent call last)",
      "\u001b[1;32m~\\AppData\\Local\\Temp/ipykernel_11980/4266135537.py\u001b[0m in \u001b[0;36m<module>\u001b[1;34m\u001b[0m\n\u001b[1;32m----> 1\u001b[1;33m \u001b[0mpredicao\u001b[0m\u001b[1;33m=\u001b[0m\u001b[0mmodelo\u001b[0m\u001b[1;33m.\u001b[0m\u001b[0mpredict\u001b[0m\u001b[1;33m(\u001b[0m\u001b[0mX\u001b[0m\u001b[1;33m)\u001b[0m\u001b[1;33m\u001b[0m\u001b[1;33m\u001b[0m\u001b[0m\n\u001b[0m",
      "\u001b[1;31mNameError\u001b[0m: name 'X' is not defined"
     ]
    }
   ],
   "source": [
    "predicao=modelo.predict(X)"
   ]
  },
  {
   "cell_type": "code",
   "execution_count": 18,
   "metadata": {
    "colab": {
     "base_uri": "https://localhost:8080/"
    },
    "executionInfo": {
     "elapsed": 618,
     "status": "ok",
     "timestamp": 1633640069042,
     "user": {
      "displayName": "Jose Eduardo Santarem Segundo",
      "photoUrl": "https://lh3.googleusercontent.com/a-/AOh14GjLWfnjBdxVqYk-cgCgmPPwQImjjL3LNJ8YGfE=s64",
      "userId": "13621550804954747560"
     },
     "user_tz": 180
    },
    "id": "JJiOWGXJE8so",
    "outputId": "2e788beb-213f-47a7-ebef-f6cb2178aa82"
   },
   "outputs": [
    {
     "ename": "NameError",
     "evalue": "name 'predicao' is not defined",
     "output_type": "error",
     "traceback": [
      "\u001b[1;31m---------------------------------------------------------------------------\u001b[0m",
      "\u001b[1;31mNameError\u001b[0m                                 Traceback (most recent call last)",
      "\u001b[1;32m~\\AppData\\Local\\Temp/ipykernel_11980/749139853.py\u001b[0m in \u001b[0;36m<module>\u001b[1;34m\u001b[0m\n\u001b[1;32m----> 1\u001b[1;33m \u001b[0mpredicao\u001b[0m\u001b[1;33m\u001b[0m\u001b[1;33m\u001b[0m\u001b[0m\n\u001b[0m",
      "\u001b[1;31mNameError\u001b[0m: name 'predicao' is not defined"
     ]
    }
   ],
   "source": [
    "predicao"
   ]
  },
  {
   "cell_type": "code",
   "execution_count": 19,
   "metadata": {
    "colab": {
     "base_uri": "https://localhost:8080/"
    },
    "executionInfo": {
     "elapsed": 414,
     "status": "ok",
     "timestamp": 1633640299237,
     "user": {
      "displayName": "Jose Eduardo Santarem Segundo",
      "photoUrl": "https://lh3.googleusercontent.com/a-/AOh14GjLWfnjBdxVqYk-cgCgmPPwQImjjL3LNJ8YGfE=s64",
      "userId": "13621550804954747560"
     },
     "user_tz": 180
    },
    "id": "OkVXXHDdJY57",
    "outputId": "bb5ea467-eec4-4825-d5d7-a614f22c8af3"
   },
   "outputs": [
    {
     "ename": "NameError",
     "evalue": "name 'y' is not defined",
     "output_type": "error",
     "traceback": [
      "\u001b[1;31m---------------------------------------------------------------------------\u001b[0m",
      "\u001b[1;31mNameError\u001b[0m                                 Traceback (most recent call last)",
      "\u001b[1;32m~\\AppData\\Local\\Temp/ipykernel_11980/1202841226.py\u001b[0m in \u001b[0;36m<module>\u001b[1;34m\u001b[0m\n\u001b[1;32m----> 1\u001b[1;33m \u001b[0mmean_absolute_error\u001b[0m\u001b[1;33m(\u001b[0m\u001b[0my\u001b[0m\u001b[1;33m,\u001b[0m\u001b[0mpredicao\u001b[0m\u001b[1;33m)\u001b[0m\u001b[1;33m\u001b[0m\u001b[1;33m\u001b[0m\u001b[0m\n\u001b[0m",
      "\u001b[1;31mNameError\u001b[0m: name 'y' is not defined"
     ]
    }
   ],
   "source": [
    "mean_absolute_error(y,predicao)"
   ]
  },
  {
   "cell_type": "markdown",
   "metadata": {
    "id": "VS9s0IpoJZC3"
   },
   "source": [
    "#Vamos ver isso em um dataframe (valor esperado e predição)"
   ]
  },
  {
   "cell_type": "code",
   "execution_count": 20,
   "metadata": {
    "executionInfo": {
     "elapsed": 658,
     "status": "ok",
     "timestamp": 1633640145473,
     "user": {
      "displayName": "Jose Eduardo Santarem Segundo",
      "photoUrl": "https://lh3.googleusercontent.com/a-/AOh14GjLWfnjBdxVqYk-cgCgmPPwQImjjL3LNJ8YGfE=s64",
      "userId": "13621550804954747560"
     },
     "user_tz": 180
    },
    "id": "7S3YO_rHJZYL"
   },
   "outputs": [
    {
     "ename": "NameError",
     "evalue": "name 'y' is not defined",
     "output_type": "error",
     "traceback": [
      "\u001b[1;31m---------------------------------------------------------------------------\u001b[0m",
      "\u001b[1;31mNameError\u001b[0m                                 Traceback (most recent call last)",
      "\u001b[1;32m~\\AppData\\Local\\Temp/ipykernel_11980/2752508320.py\u001b[0m in \u001b[0;36m<module>\u001b[1;34m\u001b[0m\n\u001b[1;32m----> 1\u001b[1;33m \u001b[0mdados2\u001b[0m\u001b[1;33m=\u001b[0m\u001b[0mpd\u001b[0m\u001b[1;33m.\u001b[0m\u001b[0mDataFrame\u001b[0m\u001b[1;33m(\u001b[0m\u001b[0my\u001b[0m\u001b[1;33m)\u001b[0m\u001b[1;33m\u001b[0m\u001b[1;33m\u001b[0m\u001b[0m\n\u001b[0m",
      "\u001b[1;31mNameError\u001b[0m: name 'y' is not defined"
     ]
    }
   ],
   "source": [
    "dados2=pd.DataFrame(y)"
   ]
  },
  {
   "cell_type": "code",
   "execution_count": 21,
   "metadata": {
    "executionInfo": {
     "elapsed": 4,
     "status": "ok",
     "timestamp": 1633640150145,
     "user": {
      "displayName": "Jose Eduardo Santarem Segundo",
      "photoUrl": "https://lh3.googleusercontent.com/a-/AOh14GjLWfnjBdxVqYk-cgCgmPPwQImjjL3LNJ8YGfE=s64",
      "userId": "13621550804954747560"
     },
     "user_tz": 180
    },
    "id": "TpXiwS-uKUGN"
   },
   "outputs": [
    {
     "ename": "NameError",
     "evalue": "name 'predicao' is not defined",
     "output_type": "error",
     "traceback": [
      "\u001b[1;31m---------------------------------------------------------------------------\u001b[0m",
      "\u001b[1;31mNameError\u001b[0m                                 Traceback (most recent call last)",
      "\u001b[1;32m~\\AppData\\Local\\Temp/ipykernel_11980/862039889.py\u001b[0m in \u001b[0;36m<module>\u001b[1;34m\u001b[0m\n\u001b[1;32m----> 1\u001b[1;33m \u001b[0mdados2\u001b[0m\u001b[1;33m[\u001b[0m\u001b[1;34m'predicao'\u001b[0m\u001b[1;33m]\u001b[0m\u001b[1;33m=\u001b[0m\u001b[0mpredicao\u001b[0m\u001b[1;33m\u001b[0m\u001b[1;33m\u001b[0m\u001b[0m\n\u001b[0m",
      "\u001b[1;31mNameError\u001b[0m: name 'predicao' is not defined"
     ]
    }
   ],
   "source": [
    "dados2['predicao']=predicao"
   ]
  },
  {
   "cell_type": "code",
   "execution_count": 22,
   "metadata": {
    "colab": {
     "base_uri": "https://localhost:8080/",
     "height": 357
    },
    "executionInfo": {
     "elapsed": 383,
     "status": "ok",
     "timestamp": 1633640156491,
     "user": {
      "displayName": "Jose Eduardo Santarem Segundo",
      "photoUrl": "https://lh3.googleusercontent.com/a-/AOh14GjLWfnjBdxVqYk-cgCgmPPwQImjjL3LNJ8YGfE=s64",
      "userId": "13621550804954747560"
     },
     "user_tz": 180
    },
    "id": "_ccYBEg4KUMg",
    "outputId": "5488f6be-3948-445f-a4fa-810c6b5615ba"
   },
   "outputs": [
    {
     "ename": "NameError",
     "evalue": "name 'dados2' is not defined",
     "output_type": "error",
     "traceback": [
      "\u001b[1;31m---------------------------------------------------------------------------\u001b[0m",
      "\u001b[1;31mNameError\u001b[0m                                 Traceback (most recent call last)",
      "\u001b[1;32m~\\AppData\\Local\\Temp/ipykernel_11980/770560694.py\u001b[0m in \u001b[0;36m<module>\u001b[1;34m\u001b[0m\n\u001b[1;32m----> 1\u001b[1;33m \u001b[0mdados2\u001b[0m\u001b[1;33m.\u001b[0m\u001b[0msample\u001b[0m\u001b[1;33m(\u001b[0m\u001b[1;36m10\u001b[0m\u001b[1;33m)\u001b[0m\u001b[1;33m\u001b[0m\u001b[1;33m\u001b[0m\u001b[0m\n\u001b[0m",
      "\u001b[1;31mNameError\u001b[0m: name 'dados2' is not defined"
     ]
    }
   ],
   "source": [
    "dados2.sample(10)"
   ]
  },
  {
   "cell_type": "code",
   "execution_count": 23,
   "metadata": {
    "colab": {
     "base_uri": "https://localhost:8080/",
     "height": 295
    },
    "executionInfo": {
     "elapsed": 10,
     "status": "ok",
     "timestamp": 1633640207078,
     "user": {
      "displayName": "Jose Eduardo Santarem Segundo",
      "photoUrl": "https://lh3.googleusercontent.com/a-/AOh14GjLWfnjBdxVqYk-cgCgmPPwQImjjL3LNJ8YGfE=s64",
      "userId": "13621550804954747560"
     },
     "user_tz": 180
    },
    "id": "1GI3rJIUKUTO",
    "outputId": "323e8d3d-996c-4d38-bc1f-464ad0b732ef"
   },
   "outputs": [
    {
     "ename": "NameError",
     "evalue": "name 'dados2' is not defined",
     "output_type": "error",
     "traceback": [
      "\u001b[1;31m---------------------------------------------------------------------------\u001b[0m",
      "\u001b[1;31mNameError\u001b[0m                                 Traceback (most recent call last)",
      "\u001b[1;32m~\\AppData\\Local\\Temp/ipykernel_11980/3525626959.py\u001b[0m in \u001b[0;36m<module>\u001b[1;34m\u001b[0m\n\u001b[1;32m----> 1\u001b[1;33m \u001b[0mdados2\u001b[0m\u001b[1;33m.\u001b[0m\u001b[0mdescribe\u001b[0m\u001b[1;33m(\u001b[0m\u001b[1;33m)\u001b[0m\u001b[1;33m\u001b[0m\u001b[1;33m\u001b[0m\u001b[0m\n\u001b[0m",
      "\u001b[1;31mNameError\u001b[0m: name 'dados2' is not defined"
     ]
    }
   ],
   "source": [
    "dados2.describe()"
   ]
  },
  {
   "cell_type": "markdown",
   "metadata": {
    "id": "TtUvJV4kKUjM"
   },
   "source": [
    "#Validação (agora de uma maneira diferente)"
   ]
  },
  {
   "cell_type": "code",
   "execution_count": 24,
   "metadata": {
    "executionInfo": {
     "elapsed": 460,
     "status": "ok",
     "timestamp": 1633640360882,
     "user": {
      "displayName": "Jose Eduardo Santarem Segundo",
      "photoUrl": "https://lh3.googleusercontent.com/a-/AOh14GjLWfnjBdxVqYk-cgCgmPPwQImjjL3LNJ8YGfE=s64",
      "userId": "13621550804954747560"
     },
     "user_tz": 180
    },
    "id": "oAMnGdvaKXEB"
   },
   "outputs": [],
   "source": [
    "from sklearn.model_selection import train_test_split"
   ]
  },
  {
   "cell_type": "markdown",
   "metadata": {
    "id": "nJqnVBHaKhv0"
   },
   "source": [
    "#Pegar parte dos dados (aqui 80%) pra treinar e ai testar nos outros 20%"
   ]
  },
  {
   "cell_type": "code",
   "execution_count": 25,
   "metadata": {
    "executionInfo": {
     "elapsed": 370,
     "status": "ok",
     "timestamp": 1633640398636,
     "user": {
      "displayName": "Jose Eduardo Santarem Segundo",
      "photoUrl": "https://lh3.googleusercontent.com/a-/AOh14GjLWfnjBdxVqYk-cgCgmPPwQImjjL3LNJ8YGfE=s64",
      "userId": "13621550804954747560"
     },
     "user_tz": 180
    },
    "id": "YTixaMcNKiHm"
   },
   "outputs": [
    {
     "ename": "NameError",
     "evalue": "name 'X' is not defined",
     "output_type": "error",
     "traceback": [
      "\u001b[1;31m---------------------------------------------------------------------------\u001b[0m",
      "\u001b[1;31mNameError\u001b[0m                                 Traceback (most recent call last)",
      "\u001b[1;32m~\\AppData\\Local\\Temp/ipykernel_11980/961610227.py\u001b[0m in \u001b[0;36m<module>\u001b[1;34m\u001b[0m\n\u001b[1;32m----> 1\u001b[1;33m \u001b[0mtreino_X\u001b[0m\u001b[1;33m,\u001b[0m \u001b[0mval_X\u001b[0m\u001b[1;33m,\u001b[0m \u001b[0mtreino_y\u001b[0m\u001b[1;33m,\u001b[0m \u001b[0mval_y\u001b[0m \u001b[1;33m=\u001b[0m \u001b[0mtrain_test_split\u001b[0m\u001b[1;33m(\u001b[0m\u001b[0mX\u001b[0m\u001b[1;33m,\u001b[0m\u001b[0my\u001b[0m\u001b[1;33m,\u001b[0m\u001b[0mrandom_state\u001b[0m\u001b[1;33m=\u001b[0m\u001b[1;36m1\u001b[0m\u001b[1;33m,\u001b[0m\u001b[0mtrain_size\u001b[0m\u001b[1;33m=\u001b[0m\u001b[1;36m0.8\u001b[0m\u001b[1;33m)\u001b[0m\u001b[1;33m\u001b[0m\u001b[1;33m\u001b[0m\u001b[0m\n\u001b[0m",
      "\u001b[1;31mNameError\u001b[0m: name 'X' is not defined"
     ]
    }
   ],
   "source": [
    "treino_X, val_X, treino_y, val_y = train_test_split(X,y,random_state=1,train_size=0.8)"
   ]
  },
  {
   "cell_type": "code",
   "execution_count": 26,
   "metadata": {
    "colab": {
     "base_uri": "https://localhost:8080/"
    },
    "executionInfo": {
     "elapsed": 464,
     "status": "ok",
     "timestamp": 1633640401933,
     "user": {
      "displayName": "Jose Eduardo Santarem Segundo",
      "photoUrl": "https://lh3.googleusercontent.com/a-/AOh14GjLWfnjBdxVqYk-cgCgmPPwQImjjL3LNJ8YGfE=s64",
      "userId": "13621550804954747560"
     },
     "user_tz": 180
    },
    "id": "CmTpZndkLFYG",
    "outputId": "3963271c-6f99-4f21-91d6-fefdc2f44690"
   },
   "outputs": [
    {
     "ename": "NameError",
     "evalue": "name 'treino_X' is not defined",
     "output_type": "error",
     "traceback": [
      "\u001b[1;31m---------------------------------------------------------------------------\u001b[0m",
      "\u001b[1;31mNameError\u001b[0m                                 Traceback (most recent call last)",
      "\u001b[1;32m~\\AppData\\Local\\Temp/ipykernel_11980/3722781954.py\u001b[0m in \u001b[0;36m<module>\u001b[1;34m\u001b[0m\n\u001b[1;32m----> 1\u001b[1;33m \u001b[0mtreino_X\u001b[0m\u001b[1;33m.\u001b[0m\u001b[0mshape\u001b[0m\u001b[1;33m\u001b[0m\u001b[1;33m\u001b[0m\u001b[0m\n\u001b[0m",
      "\u001b[1;31mNameError\u001b[0m: name 'treino_X' is not defined"
     ]
    }
   ],
   "source": [
    "treino_X.shape"
   ]
  },
  {
   "cell_type": "code",
   "execution_count": 27,
   "metadata": {
    "executionInfo": {
     "elapsed": 429,
     "status": "ok",
     "timestamp": 1633640417112,
     "user": {
      "displayName": "Jose Eduardo Santarem Segundo",
      "photoUrl": "https://lh3.googleusercontent.com/a-/AOh14GjLWfnjBdxVqYk-cgCgmPPwQImjjL3LNJ8YGfE=s64",
      "userId": "13621550804954747560"
     },
     "user_tz": 180
    },
    "id": "1wFw5GUYLFgt"
   },
   "outputs": [],
   "source": [
    "modelo2 = KNeighborsRegressor(3)"
   ]
  },
  {
   "cell_type": "code",
   "execution_count": 28,
   "metadata": {
    "colab": {
     "base_uri": "https://localhost:8080/"
    },
    "executionInfo": {
     "elapsed": 549,
     "status": "ok",
     "timestamp": 1633640430968,
     "user": {
      "displayName": "Jose Eduardo Santarem Segundo",
      "photoUrl": "https://lh3.googleusercontent.com/a-/AOh14GjLWfnjBdxVqYk-cgCgmPPwQImjjL3LNJ8YGfE=s64",
      "userId": "13621550804954747560"
     },
     "user_tz": 180
    },
    "id": "CVwjAC3oLFn7",
    "outputId": "02e1f404-e5fc-4e18-ca78-e185b935f12d"
   },
   "outputs": [
    {
     "ename": "NameError",
     "evalue": "name 'treino_X' is not defined",
     "output_type": "error",
     "traceback": [
      "\u001b[1;31m---------------------------------------------------------------------------\u001b[0m",
      "\u001b[1;31mNameError\u001b[0m                                 Traceback (most recent call last)",
      "\u001b[1;32m~\\AppData\\Local\\Temp/ipykernel_11980/400023937.py\u001b[0m in \u001b[0;36m<module>\u001b[1;34m\u001b[0m\n\u001b[1;32m----> 1\u001b[1;33m \u001b[0mmodelo2\u001b[0m\u001b[1;33m.\u001b[0m\u001b[0mfit\u001b[0m\u001b[1;33m(\u001b[0m\u001b[0mtreino_X\u001b[0m\u001b[1;33m,\u001b[0m\u001b[0mtreino_y\u001b[0m\u001b[1;33m)\u001b[0m\u001b[1;33m\u001b[0m\u001b[1;33m\u001b[0m\u001b[0m\n\u001b[0m",
      "\u001b[1;31mNameError\u001b[0m: name 'treino_X' is not defined"
     ]
    }
   ],
   "source": [
    "modelo2.fit(treino_X,treino_y)"
   ]
  },
  {
   "cell_type": "code",
   "execution_count": 29,
   "metadata": {
    "executionInfo": {
     "elapsed": 414,
     "status": "ok",
     "timestamp": 1633640483346,
     "user": {
      "displayName": "Jose Eduardo Santarem Segundo",
      "photoUrl": "https://lh3.googleusercontent.com/a-/AOh14GjLWfnjBdxVqYk-cgCgmPPwQImjjL3LNJ8YGfE=s64",
      "userId": "13621550804954747560"
     },
     "user_tz": 180
    },
    "id": "ZHlw0hJHLFvG"
   },
   "outputs": [
    {
     "ename": "NameError",
     "evalue": "name 'val_X' is not defined",
     "output_type": "error",
     "traceback": [
      "\u001b[1;31m---------------------------------------------------------------------------\u001b[0m",
      "\u001b[1;31mNameError\u001b[0m                                 Traceback (most recent call last)",
      "\u001b[1;32m~\\AppData\\Local\\Temp/ipykernel_11980/437929074.py\u001b[0m in \u001b[0;36m<module>\u001b[1;34m\u001b[0m\n\u001b[1;32m----> 1\u001b[1;33m \u001b[0mpredicao2\u001b[0m\u001b[1;33m=\u001b[0m\u001b[0mmodelo2\u001b[0m\u001b[1;33m.\u001b[0m\u001b[0mpredict\u001b[0m\u001b[1;33m(\u001b[0m\u001b[0mval_X\u001b[0m\u001b[1;33m)\u001b[0m\u001b[1;33m\u001b[0m\u001b[1;33m\u001b[0m\u001b[0m\n\u001b[0m",
      "\u001b[1;31mNameError\u001b[0m: name 'val_X' is not defined"
     ]
    }
   ],
   "source": [
    "predicao2=modelo2.predict(val_X)"
   ]
  },
  {
   "cell_type": "markdown",
   "metadata": {
    "id": "2FtrU2WyLF-x"
   },
   "source": [
    "#Analisar o erro (ver outros números de vizinhos)"
   ]
  },
  {
   "cell_type": "code",
   "execution_count": 30,
   "metadata": {
    "colab": {
     "base_uri": "https://localhost:8080/"
    },
    "executionInfo": {
     "elapsed": 647,
     "status": "ok",
     "timestamp": 1633640520217,
     "user": {
      "displayName": "Jose Eduardo Santarem Segundo",
      "photoUrl": "https://lh3.googleusercontent.com/a-/AOh14GjLWfnjBdxVqYk-cgCgmPPwQImjjL3LNJ8YGfE=s64",
      "userId": "13621550804954747560"
     },
     "user_tz": 180
    },
    "id": "RdJZKAqNLGbT",
    "outputId": "85719d2b-cd03-4181-e6d5-2cdbda726daf"
   },
   "outputs": [
    {
     "ename": "NameError",
     "evalue": "name 'val_y' is not defined",
     "output_type": "error",
     "traceback": [
      "\u001b[1;31m---------------------------------------------------------------------------\u001b[0m",
      "\u001b[1;31mNameError\u001b[0m                                 Traceback (most recent call last)",
      "\u001b[1;32m~\\AppData\\Local\\Temp/ipykernel_11980/497010907.py\u001b[0m in \u001b[0;36m<module>\u001b[1;34m\u001b[0m\n\u001b[1;32m----> 1\u001b[1;33m \u001b[0mmean_absolute_error\u001b[0m\u001b[1;33m(\u001b[0m\u001b[0mval_y\u001b[0m\u001b[1;33m,\u001b[0m\u001b[0mpredicao2\u001b[0m\u001b[1;33m)\u001b[0m\u001b[1;33m\u001b[0m\u001b[1;33m\u001b[0m\u001b[0m\n\u001b[0m",
      "\u001b[1;31mNameError\u001b[0m: name 'val_y' is not defined"
     ]
    }
   ],
   "source": [
    "mean_absolute_error(val_y,predicao2)"
   ]
  },
  {
   "cell_type": "markdown",
   "metadata": {
    "id": "Sz6BHBtjkhmA"
   },
   "source": [
    "#Aula 21"
   ]
  },
  {
   "cell_type": "markdown",
   "metadata": {
    "id": "jY_dzNyELMNg"
   },
   "source": [
    "##Usando Arvores de Decisão (outro tipo de algoritmo)"
   ]
  },
  {
   "cell_type": "code",
   "execution_count": 31,
   "metadata": {
    "executionInfo": {
     "elapsed": 411,
     "status": "ok",
     "timestamp": 1633640891305,
     "user": {
      "displayName": "Jose Eduardo Santarem Segundo",
      "photoUrl": "https://lh3.googleusercontent.com/a-/AOh14GjLWfnjBdxVqYk-cgCgmPPwQImjjL3LNJ8YGfE=s64",
      "userId": "13621550804954747560"
     },
     "user_tz": 180
    },
    "id": "SDOdWXWZLMk2"
   },
   "outputs": [],
   "source": [
    "from sklearn.tree import DecisionTreeRegressor  "
   ]
  },
  {
   "cell_type": "code",
   "execution_count": 32,
   "metadata": {
    "executionInfo": {
     "elapsed": 391,
     "status": "ok",
     "timestamp": 1633641493191,
     "user": {
      "displayName": "Jose Eduardo Santarem Segundo",
      "photoUrl": "https://lh3.googleusercontent.com/a-/AOh14GjLWfnjBdxVqYk-cgCgmPPwQImjjL3LNJ8YGfE=s64",
      "userId": "13621550804954747560"
     },
     "user_tz": 180
    },
    "id": "977ehMj_LfND"
   },
   "outputs": [],
   "source": [
    "modelotree=DecisionTreeRegressor(random_state=1,max_depth=8)\n",
    "#modelotree=DecisionTreeRegressor(random_state=1,min_samples_leaf=15)"
   ]
  },
  {
   "cell_type": "code",
   "execution_count": 33,
   "metadata": {
    "colab": {
     "base_uri": "https://localhost:8080/"
    },
    "executionInfo": {
     "elapsed": 417,
     "status": "ok",
     "timestamp": 1633641496896,
     "user": {
      "displayName": "Jose Eduardo Santarem Segundo",
      "photoUrl": "https://lh3.googleusercontent.com/a-/AOh14GjLWfnjBdxVqYk-cgCgmPPwQImjjL3LNJ8YGfE=s64",
      "userId": "13621550804954747560"
     },
     "user_tz": 180
    },
    "id": "2zwZEGpxLfUZ",
    "outputId": "a89e9a3b-36df-4b01-959b-bca42a2c6686"
   },
   "outputs": [
    {
     "ename": "NameError",
     "evalue": "name 'X' is not defined",
     "output_type": "error",
     "traceback": [
      "\u001b[1;31m---------------------------------------------------------------------------\u001b[0m",
      "\u001b[1;31mNameError\u001b[0m                                 Traceback (most recent call last)",
      "\u001b[1;32m~\\AppData\\Local\\Temp/ipykernel_11980/221628955.py\u001b[0m in \u001b[0;36m<module>\u001b[1;34m\u001b[0m\n\u001b[1;32m----> 1\u001b[1;33m \u001b[0mmodelotree\u001b[0m\u001b[1;33m.\u001b[0m\u001b[0mfit\u001b[0m\u001b[1;33m(\u001b[0m\u001b[0mX\u001b[0m\u001b[1;33m,\u001b[0m\u001b[0my\u001b[0m\u001b[1;33m)\u001b[0m\u001b[1;33m\u001b[0m\u001b[1;33m\u001b[0m\u001b[0m\n\u001b[0m",
      "\u001b[1;31mNameError\u001b[0m: name 'X' is not defined"
     ]
    }
   ],
   "source": [
    "modelotree.fit(X,y)"
   ]
  },
  {
   "cell_type": "code",
   "execution_count": 34,
   "metadata": {
    "executionInfo": {
     "elapsed": 370,
     "status": "ok",
     "timestamp": 1633641500891,
     "user": {
      "displayName": "Jose Eduardo Santarem Segundo",
      "photoUrl": "https://lh3.googleusercontent.com/a-/AOh14GjLWfnjBdxVqYk-cgCgmPPwQImjjL3LNJ8YGfE=s64",
      "userId": "13621550804954747560"
     },
     "user_tz": 180
    },
    "id": "NbQjfkBxLfbe"
   },
   "outputs": [
    {
     "ename": "NameError",
     "evalue": "name 'X' is not defined",
     "output_type": "error",
     "traceback": [
      "\u001b[1;31m---------------------------------------------------------------------------\u001b[0m",
      "\u001b[1;31mNameError\u001b[0m                                 Traceback (most recent call last)",
      "\u001b[1;32m~\\AppData\\Local\\Temp/ipykernel_11980/4001210010.py\u001b[0m in \u001b[0;36m<module>\u001b[1;34m\u001b[0m\n\u001b[1;32m----> 1\u001b[1;33m \u001b[0mpredicaotree\u001b[0m\u001b[1;33m=\u001b[0m\u001b[0mmodelotree\u001b[0m\u001b[1;33m.\u001b[0m\u001b[0mpredict\u001b[0m\u001b[1;33m(\u001b[0m\u001b[0mX\u001b[0m\u001b[1;33m)\u001b[0m\u001b[1;33m\u001b[0m\u001b[1;33m\u001b[0m\u001b[0m\n\u001b[0m",
      "\u001b[1;31mNameError\u001b[0m: name 'X' is not defined"
     ]
    }
   ],
   "source": [
    "predicaotree=modelotree.predict(X)"
   ]
  },
  {
   "cell_type": "code",
   "execution_count": 35,
   "metadata": {
    "colab": {
     "base_uri": "https://localhost:8080/"
    },
    "executionInfo": {
     "elapsed": 715,
     "status": "ok",
     "timestamp": 1633641508980,
     "user": {
      "displayName": "Jose Eduardo Santarem Segundo",
      "photoUrl": "https://lh3.googleusercontent.com/a-/AOh14GjLWfnjBdxVqYk-cgCgmPPwQImjjL3LNJ8YGfE=s64",
      "userId": "13621550804954747560"
     },
     "user_tz": 180
    },
    "id": "dtbgx64qLfht",
    "outputId": "04c0843f-47da-45d9-9c18-887356ae87c4"
   },
   "outputs": [
    {
     "ename": "NameError",
     "evalue": "name 'y' is not defined",
     "output_type": "error",
     "traceback": [
      "\u001b[1;31m---------------------------------------------------------------------------\u001b[0m",
      "\u001b[1;31mNameError\u001b[0m                                 Traceback (most recent call last)",
      "\u001b[1;32m~\\AppData\\Local\\Temp/ipykernel_11980/348027906.py\u001b[0m in \u001b[0;36m<module>\u001b[1;34m\u001b[0m\n\u001b[1;32m----> 1\u001b[1;33m \u001b[0mmean_absolute_error\u001b[0m\u001b[1;33m(\u001b[0m\u001b[0my\u001b[0m\u001b[1;33m,\u001b[0m\u001b[0mpredicaotree\u001b[0m\u001b[1;33m)\u001b[0m\u001b[1;33m\u001b[0m\u001b[1;33m\u001b[0m\u001b[0m\n\u001b[0m",
      "\u001b[1;31mNameError\u001b[0m: name 'y' is not defined"
     ]
    }
   ],
   "source": [
    "mean_absolute_error(y,predicaotree)"
   ]
  },
  {
   "cell_type": "markdown",
   "metadata": {
    "id": "gyLnJ0NQLfvy"
   },
   "source": [
    "#Agora vamos fazer separando treino e teste (lembre-se que isso torna seu modelo mais real)"
   ]
  },
  {
   "cell_type": "code",
   "execution_count": 36,
   "metadata": {
    "colab": {
     "base_uri": "https://localhost:8080/"
    },
    "executionInfo": {
     "elapsed": 387,
     "status": "ok",
     "timestamp": 1633641103321,
     "user": {
      "displayName": "Jose Eduardo Santarem Segundo",
      "photoUrl": "https://lh3.googleusercontent.com/a-/AOh14GjLWfnjBdxVqYk-cgCgmPPwQImjjL3LNJ8YGfE=s64",
      "userId": "13621550804954747560"
     },
     "user_tz": 180
    },
    "id": "VDpdBErRLgIb",
    "outputId": "29502155-fc27-44c0-ae07-63df3b58bf11"
   },
   "outputs": [
    {
     "ename": "NameError",
     "evalue": "name 'treino_X' is not defined",
     "output_type": "error",
     "traceback": [
      "\u001b[1;31m---------------------------------------------------------------------------\u001b[0m",
      "\u001b[1;31mNameError\u001b[0m                                 Traceback (most recent call last)",
      "\u001b[1;32m~\\AppData\\Local\\Temp/ipykernel_11980/662462707.py\u001b[0m in \u001b[0;36m<module>\u001b[1;34m\u001b[0m\n\u001b[1;32m----> 1\u001b[1;33m \u001b[0mmodelotree\u001b[0m\u001b[1;33m.\u001b[0m\u001b[0mfit\u001b[0m\u001b[1;33m(\u001b[0m\u001b[0mtreino_X\u001b[0m\u001b[1;33m,\u001b[0m \u001b[0mtreino_y\u001b[0m\u001b[1;33m)\u001b[0m\u001b[1;33m\u001b[0m\u001b[1;33m\u001b[0m\u001b[0m\n\u001b[0m",
      "\u001b[1;31mNameError\u001b[0m: name 'treino_X' is not defined"
     ]
    }
   ],
   "source": [
    "modelotree.fit(treino_X, treino_y)"
   ]
  },
  {
   "cell_type": "code",
   "execution_count": 37,
   "metadata": {
    "executionInfo": {
     "elapsed": 379,
     "status": "ok",
     "timestamp": 1633641143379,
     "user": {
      "displayName": "Jose Eduardo Santarem Segundo",
      "photoUrl": "https://lh3.googleusercontent.com/a-/AOh14GjLWfnjBdxVqYk-cgCgmPPwQImjjL3LNJ8YGfE=s64",
      "userId": "13621550804954747560"
     },
     "user_tz": 180
    },
    "id": "26HsRKrzLoHl"
   },
   "outputs": [
    {
     "ename": "NameError",
     "evalue": "name 'val_X' is not defined",
     "output_type": "error",
     "traceback": [
      "\u001b[1;31m---------------------------------------------------------------------------\u001b[0m",
      "\u001b[1;31mNameError\u001b[0m                                 Traceback (most recent call last)",
      "\u001b[1;32m~\\AppData\\Local\\Temp/ipykernel_11980/305620873.py\u001b[0m in \u001b[0;36m<module>\u001b[1;34m\u001b[0m\n\u001b[1;32m----> 1\u001b[1;33m \u001b[0mpredicao\u001b[0m\u001b[1;33m=\u001b[0m\u001b[0mmodelotree\u001b[0m\u001b[1;33m.\u001b[0m\u001b[0mpredict\u001b[0m\u001b[1;33m(\u001b[0m\u001b[0mval_X\u001b[0m\u001b[1;33m)\u001b[0m\u001b[1;33m\u001b[0m\u001b[1;33m\u001b[0m\u001b[0m\n\u001b[0m",
      "\u001b[1;31mNameError\u001b[0m: name 'val_X' is not defined"
     ]
    }
   ],
   "source": [
    "predicao=modelotree.predict(val_X)"
   ]
  },
  {
   "cell_type": "code",
   "execution_count": 38,
   "metadata": {
    "colab": {
     "base_uri": "https://localhost:8080/"
    },
    "executionInfo": {
     "elapsed": 437,
     "status": "ok",
     "timestamp": 1633641171546,
     "user": {
      "displayName": "Jose Eduardo Santarem Segundo",
      "photoUrl": "https://lh3.googleusercontent.com/a-/AOh14GjLWfnjBdxVqYk-cgCgmPPwQImjjL3LNJ8YGfE=s64",
      "userId": "13621550804954747560"
     },
     "user_tz": 180
    },
    "id": "6NVH_b_eLoLx",
    "outputId": "40c08e08-7ad7-4c0e-f6fd-43fafe3286d0"
   },
   "outputs": [
    {
     "ename": "NameError",
     "evalue": "name 'val_y' is not defined",
     "output_type": "error",
     "traceback": [
      "\u001b[1;31m---------------------------------------------------------------------------\u001b[0m",
      "\u001b[1;31mNameError\u001b[0m                                 Traceback (most recent call last)",
      "\u001b[1;32m~\\AppData\\Local\\Temp/ipykernel_11980/2429063119.py\u001b[0m in \u001b[0;36m<module>\u001b[1;34m\u001b[0m\n\u001b[1;32m----> 1\u001b[1;33m \u001b[0mmean_absolute_error\u001b[0m\u001b[1;33m(\u001b[0m\u001b[0mval_y\u001b[0m\u001b[1;33m,\u001b[0m\u001b[0mpredicao\u001b[0m\u001b[1;33m)\u001b[0m\u001b[1;33m\u001b[0m\u001b[1;33m\u001b[0m\u001b[0m\n\u001b[0m",
      "\u001b[1;31mNameError\u001b[0m: name 'val_y' is not defined"
     ]
    }
   ],
   "source": [
    "mean_absolute_error(val_y,predicao)"
   ]
  },
  {
   "cell_type": "markdown",
   "metadata": {
    "id": "Xx5onzKuNFc6"
   },
   "source": [
    "#USando Random Forest"
   ]
  },
  {
   "cell_type": "code",
   "execution_count": 39,
   "metadata": {
    "executionInfo": {
     "elapsed": 614,
     "status": "ok",
     "timestamp": 1633641222464,
     "user": {
      "displayName": "Jose Eduardo Santarem Segundo",
      "photoUrl": "https://lh3.googleusercontent.com/a-/AOh14GjLWfnjBdxVqYk-cgCgmPPwQImjjL3LNJ8YGfE=s64",
      "userId": "13621550804954747560"
     },
     "user_tz": 180
    },
    "id": "tDtPlwKrNGjN"
   },
   "outputs": [],
   "source": [
    "from sklearn.ensemble import RandomForestRegressor"
   ]
  },
  {
   "cell_type": "code",
   "execution_count": 40,
   "metadata": {
    "executionInfo": {
     "elapsed": 622,
     "status": "ok",
     "timestamp": 1633641541137,
     "user": {
      "displayName": "Jose Eduardo Santarem Segundo",
      "photoUrl": "https://lh3.googleusercontent.com/a-/AOh14GjLWfnjBdxVqYk-cgCgmPPwQImjjL3LNJ8YGfE=s64",
      "userId": "13621550804954747560"
     },
     "user_tz": 180
    },
    "id": "3WhOIFRkNMB4"
   },
   "outputs": [],
   "source": [
    "modelorf=RandomForestRegressor(random_state=1,n_jobs=-1,n_estimators=500)"
   ]
  },
  {
   "cell_type": "code",
   "execution_count": 41,
   "metadata": {
    "colab": {
     "base_uri": "https://localhost:8080/"
    },
    "executionInfo": {
     "elapsed": 35021,
     "status": "ok",
     "timestamp": 1633641579637,
     "user": {
      "displayName": "Jose Eduardo Santarem Segundo",
      "photoUrl": "https://lh3.googleusercontent.com/a-/AOh14GjLWfnjBdxVqYk-cgCgmPPwQImjjL3LNJ8YGfE=s64",
      "userId": "13621550804954747560"
     },
     "user_tz": 180
    },
    "id": "z7ylAWWnNMKr",
    "outputId": "1cc31b02-4920-4286-8909-7432bfa1634f"
   },
   "outputs": [
    {
     "ename": "NameError",
     "evalue": "name 'treino_X' is not defined",
     "output_type": "error",
     "traceback": [
      "\u001b[1;31m---------------------------------------------------------------------------\u001b[0m",
      "\u001b[1;31mNameError\u001b[0m                                 Traceback (most recent call last)",
      "\u001b[1;32m~\\AppData\\Local\\Temp/ipykernel_11980/4230747537.py\u001b[0m in \u001b[0;36m<module>\u001b[1;34m\u001b[0m\n\u001b[1;32m----> 1\u001b[1;33m \u001b[0mmodelorf\u001b[0m\u001b[1;33m.\u001b[0m\u001b[0mfit\u001b[0m\u001b[1;33m(\u001b[0m\u001b[0mtreino_X\u001b[0m\u001b[1;33m,\u001b[0m \u001b[0mtreino_y\u001b[0m\u001b[1;33m)\u001b[0m\u001b[1;33m\u001b[0m\u001b[1;33m\u001b[0m\u001b[0m\n\u001b[0m",
      "\u001b[1;31mNameError\u001b[0m: name 'treino_X' is not defined"
     ]
    }
   ],
   "source": [
    "modelorf.fit(treino_X, treino_y)"
   ]
  },
  {
   "cell_type": "code",
   "execution_count": 42,
   "metadata": {
    "executionInfo": {
     "elapsed": 410,
     "status": "ok",
     "timestamp": 1633641591920,
     "user": {
      "displayName": "Jose Eduardo Santarem Segundo",
      "photoUrl": "https://lh3.googleusercontent.com/a-/AOh14GjLWfnjBdxVqYk-cgCgmPPwQImjjL3LNJ8YGfE=s64",
      "userId": "13621550804954747560"
     },
     "user_tz": 180
    },
    "id": "tjPo5lxtNMRL"
   },
   "outputs": [
    {
     "ename": "NameError",
     "evalue": "name 'val_X' is not defined",
     "output_type": "error",
     "traceback": [
      "\u001b[1;31m---------------------------------------------------------------------------\u001b[0m",
      "\u001b[1;31mNameError\u001b[0m                                 Traceback (most recent call last)",
      "\u001b[1;32m~\\AppData\\Local\\Temp/ipykernel_11980/1952318165.py\u001b[0m in \u001b[0;36m<module>\u001b[1;34m\u001b[0m\n\u001b[1;32m----> 1\u001b[1;33m \u001b[0mpredicao\u001b[0m\u001b[1;33m=\u001b[0m\u001b[0mmodelorf\u001b[0m\u001b[1;33m.\u001b[0m\u001b[0mpredict\u001b[0m\u001b[1;33m(\u001b[0m\u001b[0mval_X\u001b[0m\u001b[1;33m)\u001b[0m\u001b[1;33m\u001b[0m\u001b[1;33m\u001b[0m\u001b[0m\n\u001b[0m",
      "\u001b[1;31mNameError\u001b[0m: name 'val_X' is not defined"
     ]
    }
   ],
   "source": [
    "predicao=modelorf.predict(val_X)"
   ]
  },
  {
   "cell_type": "code",
   "execution_count": 43,
   "metadata": {
    "colab": {
     "base_uri": "https://localhost:8080/"
    },
    "executionInfo": {
     "elapsed": 412,
     "status": "ok",
     "timestamp": 1633641600932,
     "user": {
      "displayName": "Jose Eduardo Santarem Segundo",
      "photoUrl": "https://lh3.googleusercontent.com/a-/AOh14GjLWfnjBdxVqYk-cgCgmPPwQImjjL3LNJ8YGfE=s64",
      "userId": "13621550804954747560"
     },
     "user_tz": 180
    },
    "id": "RnrA2msKNMYu",
    "outputId": "e32d6581-8bdd-4705-d6be-dcb299cb3a68"
   },
   "outputs": [
    {
     "ename": "NameError",
     "evalue": "name 'val_y' is not defined",
     "output_type": "error",
     "traceback": [
      "\u001b[1;31m---------------------------------------------------------------------------\u001b[0m",
      "\u001b[1;31mNameError\u001b[0m                                 Traceback (most recent call last)",
      "\u001b[1;32m~\\AppData\\Local\\Temp/ipykernel_11980/2429063119.py\u001b[0m in \u001b[0;36m<module>\u001b[1;34m\u001b[0m\n\u001b[1;32m----> 1\u001b[1;33m \u001b[0mmean_absolute_error\u001b[0m\u001b[1;33m(\u001b[0m\u001b[0mval_y\u001b[0m\u001b[1;33m,\u001b[0m\u001b[0mpredicao\u001b[0m\u001b[1;33m)\u001b[0m\u001b[1;33m\u001b[0m\u001b[1;33m\u001b[0m\u001b[0m\n\u001b[0m",
      "\u001b[1;31mNameError\u001b[0m: name 'val_y' is not defined"
     ]
    }
   ],
   "source": [
    "mean_absolute_error(val_y,predicao)"
   ]
  }
 ],
 "metadata": {
  "colab": {
   "authorship_tag": "ABX9TyOl39XUx/WTMI4UqQhp+Vf6",
   "name": "COM350_Univesp_Videoaulas19_20_21_ProjetoFinal.ipynb",
   "provenance": []
  },
  "kernelspec": {
   "display_name": "Python 3 (ipykernel)",
   "language": "python",
   "name": "python3"
  },
  "language_info": {
   "codemirror_mode": {
    "name": "ipython",
    "version": 3
   },
   "file_extension": ".py",
   "mimetype": "text/x-python",
   "name": "python",
   "nbconvert_exporter": "python",
   "pygments_lexer": "ipython3",
   "version": "3.9.7"
  },
  "widgets": {
   "application/vnd.jupyter.widget-state+json": {
    "121e9c571410448780c373225cc7c44c": {
     "model_module": "@jupyter-widgets/base",
     "model_module_version": "1.2.0",
     "model_name": "LayoutModel",
     "state": {
      "_model_module": "@jupyter-widgets/base",
      "_model_module_version": "1.2.0",
      "_model_name": "LayoutModel",
      "_view_count": null,
      "_view_module": "@jupyter-widgets/base",
      "_view_module_version": "1.2.0",
      "_view_name": "LayoutView",
      "align_content": null,
      "align_items": null,
      "align_self": null,
      "border": null,
      "bottom": null,
      "display": null,
      "flex": null,
      "flex_flow": null,
      "grid_area": null,
      "grid_auto_columns": null,
      "grid_auto_flow": null,
      "grid_auto_rows": null,
      "grid_column": null,
      "grid_gap": null,
      "grid_row": null,
      "grid_template_areas": null,
      "grid_template_columns": null,
      "grid_template_rows": null,
      "height": null,
      "justify_content": null,
      "justify_items": null,
      "left": null,
      "margin": null,
      "max_height": null,
      "max_width": null,
      "min_height": null,
      "min_width": null,
      "object_fit": null,
      "object_position": null,
      "order": null,
      "overflow": null,
      "overflow_x": null,
      "overflow_y": null,
      "padding": null,
      "right": null,
      "top": null,
      "visibility": null,
      "width": null
     }
    },
    "186e787117ef43c280700885f69c13e5": {
     "model_module": "@jupyter-widgets/base",
     "model_module_version": "1.2.0",
     "model_name": "LayoutModel",
     "state": {
      "_model_module": "@jupyter-widgets/base",
      "_model_module_version": "1.2.0",
      "_model_name": "LayoutModel",
      "_view_count": null,
      "_view_module": "@jupyter-widgets/base",
      "_view_module_version": "1.2.0",
      "_view_name": "LayoutView",
      "align_content": null,
      "align_items": null,
      "align_self": null,
      "border": null,
      "bottom": null,
      "display": null,
      "flex": "2",
      "flex_flow": null,
      "grid_area": null,
      "grid_auto_columns": null,
      "grid_auto_flow": null,
      "grid_auto_rows": null,
      "grid_column": null,
      "grid_gap": null,
      "grid_row": null,
      "grid_template_areas": null,
      "grid_template_columns": null,
      "grid_template_rows": null,
      "height": null,
      "justify_content": null,
      "justify_items": null,
      "left": null,
      "margin": null,
      "max_height": null,
      "max_width": null,
      "min_height": null,
      "min_width": null,
      "object_fit": null,
      "object_position": null,
      "order": null,
      "overflow": null,
      "overflow_x": null,
      "overflow_y": null,
      "padding": null,
      "right": null,
      "top": null,
      "visibility": null,
      "width": null
     }
    },
    "33e728fecdc74b29bdf2d3debd44e84f": {
     "model_module": "@jupyter-widgets/controls",
     "model_module_version": "1.5.0",
     "model_name": "DescriptionStyleModel",
     "state": {
      "_model_module": "@jupyter-widgets/controls",
      "_model_module_version": "1.5.0",
      "_model_name": "DescriptionStyleModel",
      "_view_count": null,
      "_view_module": "@jupyter-widgets/base",
      "_view_module_version": "1.2.0",
      "_view_name": "StyleView",
      "description_width": ""
     }
    },
    "35b4528fe55b48ca8468b986f64e923e": {
     "model_module": "@jupyter-widgets/controls",
     "model_module_version": "1.5.0",
     "model_name": "FloatProgressModel",
     "state": {
      "_dom_classes": [],
      "_model_module": "@jupyter-widgets/controls",
      "_model_module_version": "1.5.0",
      "_model_name": "FloatProgressModel",
      "_view_count": null,
      "_view_module": "@jupyter-widgets/controls",
      "_view_module_version": "1.5.0",
      "_view_name": "ProgressView",
      "bar_style": "success",
      "description": "",
      "description_tooltip": null,
      "layout": "IPY_MODEL_186e787117ef43c280700885f69c13e5",
      "max": 1,
      "min": 0,
      "orientation": "horizontal",
      "style": "IPY_MODEL_f4843263b13a4909837fbe5af49d6b16",
      "value": 1
     }
    },
    "4e47d0ec5aba47f58232e0e73bd5e7d7": {
     "model_module": "@jupyter-widgets/controls",
     "model_module_version": "1.5.0",
     "model_name": "HTMLModel",
     "state": {
      "_dom_classes": [],
      "_model_module": "@jupyter-widgets/controls",
      "_model_module_version": "1.5.0",
      "_model_name": "HTMLModel",
      "_view_count": null,
      "_view_module": "@jupyter-widgets/controls",
      "_view_module_version": "1.5.0",
      "_view_name": "HTMLView",
      "description": "",
      "description_tooltip": null,
      "layout": "IPY_MODEL_ee477d8605ce47ceac2ed8c093b850b9",
      "placeholder": "​",
      "style": "IPY_MODEL_33e728fecdc74b29bdf2d3debd44e84f",
      "value": "Done! Use &#x27;show&#x27; commands to display/save.   "
     }
    },
    "7dcadb0779284a4089b9858df553c3c2": {
     "model_module": "@jupyter-widgets/base",
     "model_module_version": "1.2.0",
     "model_name": "LayoutModel",
     "state": {
      "_model_module": "@jupyter-widgets/base",
      "_model_module_version": "1.2.0",
      "_model_name": "LayoutModel",
      "_view_count": null,
      "_view_module": "@jupyter-widgets/base",
      "_view_module_version": "1.2.0",
      "_view_name": "LayoutView",
      "align_content": null,
      "align_items": null,
      "align_self": null,
      "border": null,
      "bottom": null,
      "display": "inline-flex",
      "flex": null,
      "flex_flow": "row wrap",
      "grid_area": null,
      "grid_auto_columns": null,
      "grid_auto_flow": null,
      "grid_auto_rows": null,
      "grid_column": null,
      "grid_gap": null,
      "grid_row": null,
      "grid_template_areas": null,
      "grid_template_columns": null,
      "grid_template_rows": null,
      "height": null,
      "justify_content": null,
      "justify_items": null,
      "left": null,
      "margin": null,
      "max_height": null,
      "max_width": null,
      "min_height": null,
      "min_width": null,
      "object_fit": null,
      "object_position": null,
      "order": null,
      "overflow": null,
      "overflow_x": null,
      "overflow_y": null,
      "padding": null,
      "right": null,
      "top": null,
      "visibility": null,
      "width": "100%"
     }
    },
    "7e2ca86990304176ba74c1cf9c2fe810": {
     "model_module": "@jupyter-widgets/controls",
     "model_module_version": "1.5.0",
     "model_name": "HTMLModel",
     "state": {
      "_dom_classes": [],
      "_model_module": "@jupyter-widgets/controls",
      "_model_module_version": "1.5.0",
      "_model_name": "HTMLModel",
      "_view_count": null,
      "_view_module": "@jupyter-widgets/controls",
      "_view_module_version": "1.5.0",
      "_view_name": "HTMLView",
      "description": "",
      "description_tooltip": null,
      "layout": "IPY_MODEL_121e9c571410448780c373225cc7c44c",
      "placeholder": "​",
      "style": "IPY_MODEL_99eadea181b14ea78a3f4762eb904ae6",
      "value": " [100%]   00:00 -&gt; (00:00 left)"
     }
    },
    "99eadea181b14ea78a3f4762eb904ae6": {
     "model_module": "@jupyter-widgets/controls",
     "model_module_version": "1.5.0",
     "model_name": "DescriptionStyleModel",
     "state": {
      "_model_module": "@jupyter-widgets/controls",
      "_model_module_version": "1.5.0",
      "_model_name": "DescriptionStyleModel",
      "_view_count": null,
      "_view_module": "@jupyter-widgets/base",
      "_view_module_version": "1.2.0",
      "_view_name": "StyleView",
      "description_width": ""
     }
    },
    "b788159b58f44732b83f821930a3e27b": {
     "model_module": "@jupyter-widgets/controls",
     "model_module_version": "1.5.0",
     "model_name": "HBoxModel",
     "state": {
      "_dom_classes": [],
      "_model_module": "@jupyter-widgets/controls",
      "_model_module_version": "1.5.0",
      "_model_name": "HBoxModel",
      "_view_count": null,
      "_view_module": "@jupyter-widgets/controls",
      "_view_module_version": "1.5.0",
      "_view_name": "HBoxView",
      "box_style": "",
      "children": [
       "IPY_MODEL_4e47d0ec5aba47f58232e0e73bd5e7d7",
       "IPY_MODEL_35b4528fe55b48ca8468b986f64e923e",
       "IPY_MODEL_7e2ca86990304176ba74c1cf9c2fe810"
      ],
      "layout": "IPY_MODEL_7dcadb0779284a4089b9858df553c3c2"
     }
    },
    "ee477d8605ce47ceac2ed8c093b850b9": {
     "model_module": "@jupyter-widgets/base",
     "model_module_version": "1.2.0",
     "model_name": "LayoutModel",
     "state": {
      "_model_module": "@jupyter-widgets/base",
      "_model_module_version": "1.2.0",
      "_model_name": "LayoutModel",
      "_view_count": null,
      "_view_module": "@jupyter-widgets/base",
      "_view_module_version": "1.2.0",
      "_view_name": "LayoutView",
      "align_content": null,
      "align_items": null,
      "align_self": null,
      "border": null,
      "bottom": null,
      "display": null,
      "flex": null,
      "flex_flow": null,
      "grid_area": null,
      "grid_auto_columns": null,
      "grid_auto_flow": null,
      "grid_auto_rows": null,
      "grid_column": null,
      "grid_gap": null,
      "grid_row": null,
      "grid_template_areas": null,
      "grid_template_columns": null,
      "grid_template_rows": null,
      "height": null,
      "justify_content": null,
      "justify_items": null,
      "left": null,
      "margin": null,
      "max_height": null,
      "max_width": null,
      "min_height": null,
      "min_width": null,
      "object_fit": null,
      "object_position": null,
      "order": null,
      "overflow": null,
      "overflow_x": null,
      "overflow_y": null,
      "padding": null,
      "right": null,
      "top": null,
      "visibility": null,
      "width": null
     }
    },
    "f4843263b13a4909837fbe5af49d6b16": {
     "model_module": "@jupyter-widgets/controls",
     "model_module_version": "1.5.0",
     "model_name": "ProgressStyleModel",
     "state": {
      "_model_module": "@jupyter-widgets/controls",
      "_model_module_version": "1.5.0",
      "_model_name": "ProgressStyleModel",
      "_view_count": null,
      "_view_module": "@jupyter-widgets/base",
      "_view_module_version": "1.2.0",
      "_view_name": "StyleView",
      "bar_color": null,
      "description_width": ""
     }
    }
   }
  }
 },
 "nbformat": 4,
 "nbformat_minor": 1
}
