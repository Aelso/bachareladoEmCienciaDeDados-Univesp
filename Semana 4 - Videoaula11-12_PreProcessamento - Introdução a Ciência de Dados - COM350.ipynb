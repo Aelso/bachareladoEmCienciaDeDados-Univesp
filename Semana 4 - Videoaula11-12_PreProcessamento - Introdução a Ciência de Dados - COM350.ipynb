{
 "cells": [
  {
   "cell_type": "markdown",
   "metadata": {
    "id": "xNUbXzIdSC3X"
   },
   "source": [
    "#Demonstração Pré-Processamento de Dados\n",
    "###Disciplina - Introdução a Ciência de Dados - Univesp\n",
    "###Videoaula 12\n",
    "###Prof. Dr. José Eduardo Santarem Segundo\n",
    "Aluno: Aelso Rocha Brito \n",
    "##notebookComAnotaçõesDaVideoaula"
   ]
  },
  {
   "cell_type": "markdown",
   "metadata": {},
   "source": [
    "O pré-processamento é uma fase que antecede ao uso dos modelos\n",
    "de machine learning que veremos adiante, entretanto para que ele\n",
    "possa ser executado com clareza e também com assertividade é de\n",
    "fundamental importância que se conheça o processo completo de um\n",
    "projeto de DS"
   ]
  },
  {
   "cell_type": "markdown",
   "metadata": {
    "id": "rjjfJx-tSQDF"
   },
   "source": [
    "#Importar Bibliotecas"
   ]
  },
  {
   "cell_type": "code",
   "execution_count": 1,
   "metadata": {
    "executionInfo": {
     "elapsed": 19,
     "status": "ok",
     "timestamp": 1633209535670,
     "user": {
      "displayName": "Jose Eduardo Santarem Segundo",
      "photoUrl": "https://lh3.googleusercontent.com/a-/AOh14GjLWfnjBdxVqYk-cgCgmPPwQImjjL3LNJ8YGfE=s64",
      "userId": "13621550804954747560"
     },
     "user_tz": 180
    },
    "id": "qR-1lUfsSGhC"
   },
   "outputs": [],
   "source": [
    "import pandas as pd"
   ]
  },
  {
   "cell_type": "markdown",
   "metadata": {
    "id": "Alq-TR44SRqy"
   },
   "source": [
    "#Trabalhar com dados dos jogos de Tenis como exemplo.\n",
    "### https://raw.githubusercontent.com/JeffSackmann/tennis_atp/master/atp_matches_2021.csv"
   ]
  },
  {
   "cell_type": "markdown",
   "metadata": {},
   "source": [
    "Download de base de dados da internet.\n",
    "Criando dataframe com as informações dos jogos de tênis."
   ]
  },
  {
   "cell_type": "code",
   "execution_count": 2,
   "metadata": {
    "executionInfo": {
     "elapsed": 1124,
     "status": "ok",
     "timestamp": 1633209537863,
     "user": {
      "displayName": "Jose Eduardo Santarem Segundo",
      "photoUrl": "https://lh3.googleusercontent.com/a-/AOh14GjLWfnjBdxVqYk-cgCgmPPwQImjjL3LNJ8YGfE=s64",
      "userId": "13621550804954747560"
     },
     "user_tz": 180
    },
    "id": "7xWABERYTR_Q"
   },
   "outputs": [],
   "source": [
    "dados=pd.read_csv('https://raw.githubusercontent.com/JeffSackmann/tennis_atp/master/atp_matches_2021.csv')"
   ]
  },
  {
   "cell_type": "markdown",
   "metadata": {},
   "source": [
    "Mostrando as 5 primeiras(head(5)) linhas do dataframe."
   ]
  },
  {
   "cell_type": "code",
   "execution_count": 3,
   "metadata": {
    "colab": {
     "base_uri": "https://localhost:8080/",
     "height": 307
    },
    "executionInfo": {
     "elapsed": 451,
     "status": "ok",
     "timestamp": 1633209546375,
     "user": {
      "displayName": "Jose Eduardo Santarem Segundo",
      "photoUrl": "https://lh3.googleusercontent.com/a-/AOh14GjLWfnjBdxVqYk-cgCgmPPwQImjjL3LNJ8YGfE=s64",
      "userId": "13621550804954747560"
     },
     "user_tz": 180
    },
    "id": "jE0gjrJOT7gE",
    "outputId": "9ee20a5a-d3e2-4b37-f929-a2a8bb0b88cc"
   },
   "outputs": [
    {
     "data": {
      "text/html": [
       "<div>\n",
       "<style scoped>\n",
       "    .dataframe tbody tr th:only-of-type {\n",
       "        vertical-align: middle;\n",
       "    }\n",
       "\n",
       "    .dataframe tbody tr th {\n",
       "        vertical-align: top;\n",
       "    }\n",
       "\n",
       "    .dataframe thead th {\n",
       "        text-align: right;\n",
       "    }\n",
       "</style>\n",
       "<table border=\"1\" class=\"dataframe\">\n",
       "  <thead>\n",
       "    <tr style=\"text-align: right;\">\n",
       "      <th></th>\n",
       "      <th>tourney_id</th>\n",
       "      <th>tourney_name</th>\n",
       "      <th>surface</th>\n",
       "      <th>draw_size</th>\n",
       "      <th>tourney_level</th>\n",
       "      <th>tourney_date</th>\n",
       "      <th>match_num</th>\n",
       "      <th>winner_id</th>\n",
       "      <th>winner_seed</th>\n",
       "      <th>winner_entry</th>\n",
       "      <th>...</th>\n",
       "      <th>l_1stIn</th>\n",
       "      <th>l_1stWon</th>\n",
       "      <th>l_2ndWon</th>\n",
       "      <th>l_SvGms</th>\n",
       "      <th>l_bpSaved</th>\n",
       "      <th>l_bpFaced</th>\n",
       "      <th>winner_rank</th>\n",
       "      <th>winner_rank_points</th>\n",
       "      <th>loser_rank</th>\n",
       "      <th>loser_rank_points</th>\n",
       "    </tr>\n",
       "  </thead>\n",
       "  <tbody>\n",
       "    <tr>\n",
       "      <th>0</th>\n",
       "      <td>2021-0499</td>\n",
       "      <td>Delray Beach</td>\n",
       "      <td>Hard</td>\n",
       "      <td>32</td>\n",
       "      <td>A</td>\n",
       "      <td>20210104</td>\n",
       "      <td>300</td>\n",
       "      <td>128034</td>\n",
       "      <td>4.0</td>\n",
       "      <td>NaN</td>\n",
       "      <td>...</td>\n",
       "      <td>33.0</td>\n",
       "      <td>20.0</td>\n",
       "      <td>9.0</td>\n",
       "      <td>9.0</td>\n",
       "      <td>1.0</td>\n",
       "      <td>5.0</td>\n",
       "      <td>35.0</td>\n",
       "      <td>1518.0</td>\n",
       "      <td>119.0</td>\n",
       "      <td>566.0</td>\n",
       "    </tr>\n",
       "    <tr>\n",
       "      <th>1</th>\n",
       "      <td>2021-0499</td>\n",
       "      <td>Delray Beach</td>\n",
       "      <td>Hard</td>\n",
       "      <td>32</td>\n",
       "      <td>A</td>\n",
       "      <td>20210104</td>\n",
       "      <td>299</td>\n",
       "      <td>128034</td>\n",
       "      <td>4.0</td>\n",
       "      <td>NaN</td>\n",
       "      <td>...</td>\n",
       "      <td>46.0</td>\n",
       "      <td>29.0</td>\n",
       "      <td>13.0</td>\n",
       "      <td>11.0</td>\n",
       "      <td>3.0</td>\n",
       "      <td>5.0</td>\n",
       "      <td>35.0</td>\n",
       "      <td>1518.0</td>\n",
       "      <td>789.0</td>\n",
       "      <td>22.0</td>\n",
       "    </tr>\n",
       "    <tr>\n",
       "      <th>2</th>\n",
       "      <td>2021-0499</td>\n",
       "      <td>Delray Beach</td>\n",
       "      <td>Hard</td>\n",
       "      <td>32</td>\n",
       "      <td>A</td>\n",
       "      <td>20210104</td>\n",
       "      <td>298</td>\n",
       "      <td>200624</td>\n",
       "      <td>NaN</td>\n",
       "      <td>NaN</td>\n",
       "      <td>...</td>\n",
       "      <td>35.0</td>\n",
       "      <td>25.0</td>\n",
       "      <td>7.0</td>\n",
       "      <td>10.0</td>\n",
       "      <td>2.0</td>\n",
       "      <td>6.0</td>\n",
       "      <td>119.0</td>\n",
       "      <td>566.0</td>\n",
       "      <td>74.0</td>\n",
       "      <td>877.0</td>\n",
       "    </tr>\n",
       "    <tr>\n",
       "      <th>3</th>\n",
       "      <td>2021-0499</td>\n",
       "      <td>Delray Beach</td>\n",
       "      <td>Hard</td>\n",
       "      <td>32</td>\n",
       "      <td>A</td>\n",
       "      <td>20210104</td>\n",
       "      <td>297</td>\n",
       "      <td>106328</td>\n",
       "      <td>NaN</td>\n",
       "      <td>Q</td>\n",
       "      <td>...</td>\n",
       "      <td>45.0</td>\n",
       "      <td>34.0</td>\n",
       "      <td>18.0</td>\n",
       "      <td>11.0</td>\n",
       "      <td>9.0</td>\n",
       "      <td>11.0</td>\n",
       "      <td>789.0</td>\n",
       "      <td>22.0</td>\n",
       "      <td>101.0</td>\n",
       "      <td>733.0</td>\n",
       "    </tr>\n",
       "    <tr>\n",
       "      <th>4</th>\n",
       "      <td>2021-0499</td>\n",
       "      <td>Delray Beach</td>\n",
       "      <td>Hard</td>\n",
       "      <td>32</td>\n",
       "      <td>A</td>\n",
       "      <td>20210104</td>\n",
       "      <td>296</td>\n",
       "      <td>128034</td>\n",
       "      <td>4.0</td>\n",
       "      <td>NaN</td>\n",
       "      <td>...</td>\n",
       "      <td>43.0</td>\n",
       "      <td>28.0</td>\n",
       "      <td>10.0</td>\n",
       "      <td>10.0</td>\n",
       "      <td>7.0</td>\n",
       "      <td>10.0</td>\n",
       "      <td>35.0</td>\n",
       "      <td>1518.0</td>\n",
       "      <td>293.0</td>\n",
       "      <td>171.0</td>\n",
       "    </tr>\n",
       "  </tbody>\n",
       "</table>\n",
       "<p>5 rows × 49 columns</p>\n",
       "</div>"
      ],
      "text/plain": [
       "  tourney_id  tourney_name surface  draw_size tourney_level  tourney_date  \\\n",
       "0  2021-0499  Delray Beach    Hard         32             A      20210104   \n",
       "1  2021-0499  Delray Beach    Hard         32             A      20210104   \n",
       "2  2021-0499  Delray Beach    Hard         32             A      20210104   \n",
       "3  2021-0499  Delray Beach    Hard         32             A      20210104   \n",
       "4  2021-0499  Delray Beach    Hard         32             A      20210104   \n",
       "\n",
       "   match_num  winner_id  winner_seed winner_entry  ... l_1stIn l_1stWon  \\\n",
       "0        300     128034          4.0          NaN  ...    33.0     20.0   \n",
       "1        299     128034          4.0          NaN  ...    46.0     29.0   \n",
       "2        298     200624          NaN          NaN  ...    35.0     25.0   \n",
       "3        297     106328          NaN            Q  ...    45.0     34.0   \n",
       "4        296     128034          4.0          NaN  ...    43.0     28.0   \n",
       "\n",
       "   l_2ndWon l_SvGms  l_bpSaved  l_bpFaced  winner_rank winner_rank_points  \\\n",
       "0       9.0     9.0        1.0        5.0         35.0             1518.0   \n",
       "1      13.0    11.0        3.0        5.0         35.0             1518.0   \n",
       "2       7.0    10.0        2.0        6.0        119.0              566.0   \n",
       "3      18.0    11.0        9.0       11.0        789.0               22.0   \n",
       "4      10.0    10.0        7.0       10.0         35.0             1518.0   \n",
       "\n",
       "  loser_rank loser_rank_points  \n",
       "0      119.0             566.0  \n",
       "1      789.0              22.0  \n",
       "2       74.0             877.0  \n",
       "3      101.0             733.0  \n",
       "4      293.0             171.0  \n",
       "\n",
       "[5 rows x 49 columns]"
      ]
     },
     "execution_count": 3,
     "metadata": {},
     "output_type": "execute_result"
    }
   ],
   "source": [
    "dados.head(5)"
   ]
  },
  {
   "cell_type": "markdown",
   "metadata": {},
   "source": [
    "Imprima um resumo conciso de um DataFrame.\n",
    "\n",
    "Este método imprime informações sobre um DataFrame incluindo o índice dtype e colunas, valores não nulos e uso de memória."
   ]
  },
  {
   "cell_type": "code",
   "execution_count": 4,
   "metadata": {
    "colab": {
     "base_uri": "https://localhost:8080/"
    },
    "executionInfo": {
     "elapsed": 497,
     "status": "ok",
     "timestamp": 1633209588041,
     "user": {
      "displayName": "Jose Eduardo Santarem Segundo",
      "photoUrl": "https://lh3.googleusercontent.com/a-/AOh14GjLWfnjBdxVqYk-cgCgmPPwQImjjL3LNJ8YGfE=s64",
      "userId": "13621550804954747560"
     },
     "user_tz": 180
    },
    "id": "4FcGL2WhT7pB",
    "outputId": "8e3ab21d-7b72-4f7b-b691-b706333c1ea8"
   },
   "outputs": [
    {
     "name": "stdout",
     "output_type": "stream",
     "text": [
      "<class 'pandas.core.frame.DataFrame'>\n",
      "RangeIndex: 2713 entries, 0 to 2712\n",
      "Data columns (total 49 columns):\n",
      " #   Column              Non-Null Count  Dtype  \n",
      "---  ------              --------------  -----  \n",
      " 0   tourney_id          2713 non-null   object \n",
      " 1   tourney_name        2713 non-null   object \n",
      " 2   surface             2713 non-null   object \n",
      " 3   draw_size           2713 non-null   int64  \n",
      " 4   tourney_level       2713 non-null   object \n",
      " 5   tourney_date        2713 non-null   int64  \n",
      " 6   match_num           2713 non-null   int64  \n",
      " 7   winner_id           2713 non-null   int64  \n",
      " 8   winner_seed         1165 non-null   float64\n",
      " 9   winner_entry        417 non-null    object \n",
      " 10  winner_name         2713 non-null   object \n",
      " 11  winner_hand         2711 non-null   object \n",
      " 12  winner_ht           2377 non-null   float64\n",
      " 13  winner_ioc          2713 non-null   object \n",
      " 14  winner_age          2713 non-null   float64\n",
      " 15  loser_id            2713 non-null   int64  \n",
      " 16  loser_seed          693 non-null    float64\n",
      " 17  loser_entry         635 non-null    object \n",
      " 18  loser_name          2713 non-null   object \n",
      " 19  loser_hand          2713 non-null   object \n",
      " 20  loser_ht            2191 non-null   float64\n",
      " 21  loser_ioc           2713 non-null   object \n",
      " 22  loser_age           2711 non-null   float64\n",
      " 23  score               2713 non-null   object \n",
      " 24  best_of             2713 non-null   int64  \n",
      " 25  round               2713 non-null   object \n",
      " 26  minutes             2636 non-null   float64\n",
      " 27  w_ace               2622 non-null   float64\n",
      " 28  w_df                2622 non-null   float64\n",
      " 29  w_svpt              2622 non-null   float64\n",
      " 30  w_1stIn             2622 non-null   float64\n",
      " 31  w_1stWon            2622 non-null   float64\n",
      " 32  w_2ndWon            2622 non-null   float64\n",
      " 33  w_SvGms             2623 non-null   float64\n",
      " 34  w_bpSaved           2622 non-null   float64\n",
      " 35  w_bpFaced           2622 non-null   float64\n",
      " 36  l_ace               2622 non-null   float64\n",
      " 37  l_df                2622 non-null   float64\n",
      " 38  l_svpt              2622 non-null   float64\n",
      " 39  l_1stIn             2622 non-null   float64\n",
      " 40  l_1stWon            2622 non-null   float64\n",
      " 41  l_2ndWon            2622 non-null   float64\n",
      " 42  l_SvGms             2623 non-null   float64\n",
      " 43  l_bpSaved           2622 non-null   float64\n",
      " 44  l_bpFaced           2622 non-null   float64\n",
      " 45  winner_rank         2708 non-null   float64\n",
      " 46  winner_rank_points  2708 non-null   float64\n",
      " 47  loser_rank          2687 non-null   float64\n",
      " 48  loser_rank_points   2687 non-null   float64\n",
      "dtypes: float64(29), int64(6), object(14)\n",
      "memory usage: 1.0+ MB\n"
     ]
    }
   ],
   "source": [
    "dados.info()"
   ]
  },
  {
   "cell_type": "markdown",
   "metadata": {},
   "source": [
    "Gerando estatísticas descritivas.\n",
    "\n",
    "As estatísticas descritivas incluem aquelas que resumem a tendência central, a dispersão e a forma da distribuição de um conjunto de dados, excluindo os NaNvalores.\n",
    "\n",
    "Analisa séries numéricas e de objetos, bem como DataFrameconjuntos de colunas de tipos de dados mistos. A saída irá variar dependendo do que é fornecido. Consulte as notas abaixo para obter mais detalhes"
   ]
  },
  {
   "cell_type": "code",
   "execution_count": 5,
   "metadata": {
    "colab": {
     "base_uri": "https://localhost:8080/",
     "height": 425
    },
    "executionInfo": {
     "elapsed": 397,
     "status": "ok",
     "timestamp": 1633209615913,
     "user": {
      "displayName": "Jose Eduardo Santarem Segundo",
      "photoUrl": "https://lh3.googleusercontent.com/a-/AOh14GjLWfnjBdxVqYk-cgCgmPPwQImjjL3LNJ8YGfE=s64",
      "userId": "13621550804954747560"
     },
     "user_tz": 180
    },
    "id": "SRUwJSjsT7wl",
    "outputId": "292e24c7-f71f-4bb7-a345-6ad7b5c4dd51"
   },
   "outputs": [
    {
     "data": {
      "text/html": [
       "<div>\n",
       "<style scoped>\n",
       "    .dataframe tbody tr th:only-of-type {\n",
       "        vertical-align: middle;\n",
       "    }\n",
       "\n",
       "    .dataframe tbody tr th {\n",
       "        vertical-align: top;\n",
       "    }\n",
       "\n",
       "    .dataframe thead th {\n",
       "        text-align: right;\n",
       "    }\n",
       "</style>\n",
       "<table border=\"1\" class=\"dataframe\">\n",
       "  <thead>\n",
       "    <tr style=\"text-align: right;\">\n",
       "      <th></th>\n",
       "      <th>tourney_id</th>\n",
       "      <th>tourney_name</th>\n",
       "      <th>surface</th>\n",
       "      <th>draw_size</th>\n",
       "      <th>tourney_level</th>\n",
       "      <th>tourney_date</th>\n",
       "      <th>match_num</th>\n",
       "      <th>winner_id</th>\n",
       "      <th>winner_seed</th>\n",
       "      <th>winner_entry</th>\n",
       "      <th>...</th>\n",
       "      <th>l_1stIn</th>\n",
       "      <th>l_1stWon</th>\n",
       "      <th>l_2ndWon</th>\n",
       "      <th>l_SvGms</th>\n",
       "      <th>l_bpSaved</th>\n",
       "      <th>l_bpFaced</th>\n",
       "      <th>winner_rank</th>\n",
       "      <th>winner_rank_points</th>\n",
       "      <th>loser_rank</th>\n",
       "      <th>loser_rank_points</th>\n",
       "    </tr>\n",
       "  </thead>\n",
       "  <tbody>\n",
       "    <tr>\n",
       "      <th>count</th>\n",
       "      <td>2713</td>\n",
       "      <td>2713</td>\n",
       "      <td>2713</td>\n",
       "      <td>2713.000000</td>\n",
       "      <td>2713</td>\n",
       "      <td>2.713000e+03</td>\n",
       "      <td>2713.000000</td>\n",
       "      <td>2713.000000</td>\n",
       "      <td>1165.000000</td>\n",
       "      <td>417</td>\n",
       "      <td>...</td>\n",
       "      <td>2622.000000</td>\n",
       "      <td>2622.000000</td>\n",
       "      <td>2622.000000</td>\n",
       "      <td>2623.000000</td>\n",
       "      <td>2622.000000</td>\n",
       "      <td>2622.000000</td>\n",
       "      <td>2708.000000</td>\n",
       "      <td>2708.000000</td>\n",
       "      <td>2687.000000</td>\n",
       "      <td>2687.000000</td>\n",
       "    </tr>\n",
       "    <tr>\n",
       "      <th>unique</th>\n",
       "      <td>106</td>\n",
       "      <td>106</td>\n",
       "      <td>3</td>\n",
       "      <td>NaN</td>\n",
       "      <td>5</td>\n",
       "      <td>NaN</td>\n",
       "      <td>NaN</td>\n",
       "      <td>NaN</td>\n",
       "      <td>NaN</td>\n",
       "      <td>6</td>\n",
       "      <td>...</td>\n",
       "      <td>NaN</td>\n",
       "      <td>NaN</td>\n",
       "      <td>NaN</td>\n",
       "      <td>NaN</td>\n",
       "      <td>NaN</td>\n",
       "      <td>NaN</td>\n",
       "      <td>NaN</td>\n",
       "      <td>NaN</td>\n",
       "      <td>NaN</td>\n",
       "      <td>NaN</td>\n",
       "    </tr>\n",
       "    <tr>\n",
       "      <th>top</th>\n",
       "      <td>2021-580</td>\n",
       "      <td>Australian Open</td>\n",
       "      <td>Hard</td>\n",
       "      <td>NaN</td>\n",
       "      <td>A</td>\n",
       "      <td>NaN</td>\n",
       "      <td>NaN</td>\n",
       "      <td>NaN</td>\n",
       "      <td>NaN</td>\n",
       "      <td>Q</td>\n",
       "      <td>...</td>\n",
       "      <td>NaN</td>\n",
       "      <td>NaN</td>\n",
       "      <td>NaN</td>\n",
       "      <td>NaN</td>\n",
       "      <td>NaN</td>\n",
       "      <td>NaN</td>\n",
       "      <td>NaN</td>\n",
       "      <td>NaN</td>\n",
       "      <td>NaN</td>\n",
       "      <td>NaN</td>\n",
       "    </tr>\n",
       "    <tr>\n",
       "      <th>freq</th>\n",
       "      <td>127</td>\n",
       "      <td>127</td>\n",
       "      <td>1588</td>\n",
       "      <td>NaN</td>\n",
       "      <td>1563</td>\n",
       "      <td>NaN</td>\n",
       "      <td>NaN</td>\n",
       "      <td>NaN</td>\n",
       "      <td>NaN</td>\n",
       "      <td>234</td>\n",
       "      <td>...</td>\n",
       "      <td>NaN</td>\n",
       "      <td>NaN</td>\n",
       "      <td>NaN</td>\n",
       "      <td>NaN</td>\n",
       "      <td>NaN</td>\n",
       "      <td>NaN</td>\n",
       "      <td>NaN</td>\n",
       "      <td>NaN</td>\n",
       "      <td>NaN</td>\n",
       "      <td>NaN</td>\n",
       "    </tr>\n",
       "    <tr>\n",
       "      <th>mean</th>\n",
       "      <td>NaN</td>\n",
       "      <td>NaN</td>\n",
       "      <td>NaN</td>\n",
       "      <td>63.043126</td>\n",
       "      <td>NaN</td>\n",
       "      <td>2.021060e+07</td>\n",
       "      <td>244.805381</td>\n",
       "      <td>127592.228898</td>\n",
       "      <td>7.687554</td>\n",
       "      <td>NaN</td>\n",
       "      <td>...</td>\n",
       "      <td>50.122426</td>\n",
       "      <td>33.333715</td>\n",
       "      <td>14.495805</td>\n",
       "      <td>12.424705</td>\n",
       "      <td>4.847445</td>\n",
       "      <td>8.721205</td>\n",
       "      <td>70.690177</td>\n",
       "      <td>2205.403988</td>\n",
       "      <td>103.363603</td>\n",
       "      <td>1388.985858</td>\n",
       "    </tr>\n",
       "    <tr>\n",
       "      <th>std</th>\n",
       "      <td>NaN</td>\n",
       "      <td>NaN</td>\n",
       "      <td>NaN</td>\n",
       "      <td>41.364539</td>\n",
       "      <td>NaN</td>\n",
       "      <td>2.831369e+02</td>\n",
       "      <td>71.808171</td>\n",
       "      <td>34029.378730</td>\n",
       "      <td>7.133621</td>\n",
       "      <td>NaN</td>\n",
       "      <td>...</td>\n",
       "      <td>19.086299</td>\n",
       "      <td>14.219474</td>\n",
       "      <td>6.863399</td>\n",
       "      <td>4.229535</td>\n",
       "      <td>3.256841</td>\n",
       "      <td>4.132543</td>\n",
       "      <td>102.995958</td>\n",
       "      <td>2456.725751</td>\n",
       "      <td>149.529936</td>\n",
       "      <td>1463.155590</td>\n",
       "    </tr>\n",
       "    <tr>\n",
       "      <th>min</th>\n",
       "      <td>NaN</td>\n",
       "      <td>NaN</td>\n",
       "      <td>NaN</td>\n",
       "      <td>2.000000</td>\n",
       "      <td>NaN</td>\n",
       "      <td>2.021010e+07</td>\n",
       "      <td>1.000000</td>\n",
       "      <td>100644.000000</td>\n",
       "      <td>1.000000</td>\n",
       "      <td>NaN</td>\n",
       "      <td>...</td>\n",
       "      <td>2.000000</td>\n",
       "      <td>0.000000</td>\n",
       "      <td>0.000000</td>\n",
       "      <td>0.000000</td>\n",
       "      <td>0.000000</td>\n",
       "      <td>0.000000</td>\n",
       "      <td>1.000000</td>\n",
       "      <td>1.000000</td>\n",
       "      <td>1.000000</td>\n",
       "      <td>1.000000</td>\n",
       "    </tr>\n",
       "    <tr>\n",
       "      <th>25%</th>\n",
       "      <td>NaN</td>\n",
       "      <td>NaN</td>\n",
       "      <td>NaN</td>\n",
       "      <td>32.000000</td>\n",
       "      <td>NaN</td>\n",
       "      <td>2.021032e+07</td>\n",
       "      <td>228.000000</td>\n",
       "      <td>105575.000000</td>\n",
       "      <td>3.000000</td>\n",
       "      <td>NaN</td>\n",
       "      <td>...</td>\n",
       "      <td>36.000000</td>\n",
       "      <td>23.000000</td>\n",
       "      <td>10.000000</td>\n",
       "      <td>9.000000</td>\n",
       "      <td>2.000000</td>\n",
       "      <td>6.000000</td>\n",
       "      <td>20.000000</td>\n",
       "      <td>854.750000</td>\n",
       "      <td>37.000000</td>\n",
       "      <td>706.000000</td>\n",
       "    </tr>\n",
       "    <tr>\n",
       "      <th>50%</th>\n",
       "      <td>NaN</td>\n",
       "      <td>NaN</td>\n",
       "      <td>NaN</td>\n",
       "      <td>64.000000</td>\n",
       "      <td>NaN</td>\n",
       "      <td>2.021061e+07</td>\n",
       "      <td>276.000000</td>\n",
       "      <td>106432.000000</td>\n",
       "      <td>6.000000</td>\n",
       "      <td>NaN</td>\n",
       "      <td>...</td>\n",
       "      <td>47.000000</td>\n",
       "      <td>31.000000</td>\n",
       "      <td>14.000000</td>\n",
       "      <td>11.000000</td>\n",
       "      <td>4.000000</td>\n",
       "      <td>8.000000</td>\n",
       "      <td>47.000000</td>\n",
       "      <td>1328.000000</td>\n",
       "      <td>68.000000</td>\n",
       "      <td>990.000000</td>\n",
       "    </tr>\n",
       "    <tr>\n",
       "      <th>75%</th>\n",
       "      <td>NaN</td>\n",
       "      <td>NaN</td>\n",
       "      <td>NaN</td>\n",
       "      <td>128.000000</td>\n",
       "      <td>NaN</td>\n",
       "      <td>2.021082e+07</td>\n",
       "      <td>289.000000</td>\n",
       "      <td>128034.000000</td>\n",
       "      <td>10.000000</td>\n",
       "      <td>NaN</td>\n",
       "      <td>...</td>\n",
       "      <td>61.000000</td>\n",
       "      <td>42.000000</td>\n",
       "      <td>18.000000</td>\n",
       "      <td>15.000000</td>\n",
       "      <td>7.000000</td>\n",
       "      <td>11.000000</td>\n",
       "      <td>87.000000</td>\n",
       "      <td>2395.500000</td>\n",
       "      <td>112.000000</td>\n",
       "      <td>1589.000000</td>\n",
       "    </tr>\n",
       "    <tr>\n",
       "      <th>max</th>\n",
       "      <td>NaN</td>\n",
       "      <td>NaN</td>\n",
       "      <td>NaN</td>\n",
       "      <td>128.000000</td>\n",
       "      <td>NaN</td>\n",
       "      <td>2.021113e+07</td>\n",
       "      <td>300.000000</td>\n",
       "      <td>210107.000000</td>\n",
       "      <td>32.000000</td>\n",
       "      <td>NaN</td>\n",
       "      <td>...</td>\n",
       "      <td>165.000000</td>\n",
       "      <td>104.000000</td>\n",
       "      <td>48.000000</td>\n",
       "      <td>31.000000</td>\n",
       "      <td>27.000000</td>\n",
       "      <td>38.000000</td>\n",
       "      <td>1758.000000</td>\n",
       "      <td>12113.000000</td>\n",
       "      <td>2146.000000</td>\n",
       "      <td>12113.000000</td>\n",
       "    </tr>\n",
       "  </tbody>\n",
       "</table>\n",
       "<p>11 rows × 49 columns</p>\n",
       "</div>"
      ],
      "text/plain": [
       "       tourney_id     tourney_name surface    draw_size tourney_level  \\\n",
       "count        2713             2713    2713  2713.000000          2713   \n",
       "unique        106              106       3          NaN             5   \n",
       "top      2021-580  Australian Open    Hard          NaN             A   \n",
       "freq          127              127    1588          NaN          1563   \n",
       "mean          NaN              NaN     NaN    63.043126           NaN   \n",
       "std           NaN              NaN     NaN    41.364539           NaN   \n",
       "min           NaN              NaN     NaN     2.000000           NaN   \n",
       "25%           NaN              NaN     NaN    32.000000           NaN   \n",
       "50%           NaN              NaN     NaN    64.000000           NaN   \n",
       "75%           NaN              NaN     NaN   128.000000           NaN   \n",
       "max           NaN              NaN     NaN   128.000000           NaN   \n",
       "\n",
       "        tourney_date    match_num      winner_id  winner_seed winner_entry  \\\n",
       "count   2.713000e+03  2713.000000    2713.000000  1165.000000          417   \n",
       "unique           NaN          NaN            NaN          NaN            6   \n",
       "top              NaN          NaN            NaN          NaN            Q   \n",
       "freq             NaN          NaN            NaN          NaN          234   \n",
       "mean    2.021060e+07   244.805381  127592.228898     7.687554          NaN   \n",
       "std     2.831369e+02    71.808171   34029.378730     7.133621          NaN   \n",
       "min     2.021010e+07     1.000000  100644.000000     1.000000          NaN   \n",
       "25%     2.021032e+07   228.000000  105575.000000     3.000000          NaN   \n",
       "50%     2.021061e+07   276.000000  106432.000000     6.000000          NaN   \n",
       "75%     2.021082e+07   289.000000  128034.000000    10.000000          NaN   \n",
       "max     2.021113e+07   300.000000  210107.000000    32.000000          NaN   \n",
       "\n",
       "        ...      l_1stIn     l_1stWon     l_2ndWon      l_SvGms    l_bpSaved  \\\n",
       "count   ...  2622.000000  2622.000000  2622.000000  2623.000000  2622.000000   \n",
       "unique  ...          NaN          NaN          NaN          NaN          NaN   \n",
       "top     ...          NaN          NaN          NaN          NaN          NaN   \n",
       "freq    ...          NaN          NaN          NaN          NaN          NaN   \n",
       "mean    ...    50.122426    33.333715    14.495805    12.424705     4.847445   \n",
       "std     ...    19.086299    14.219474     6.863399     4.229535     3.256841   \n",
       "min     ...     2.000000     0.000000     0.000000     0.000000     0.000000   \n",
       "25%     ...    36.000000    23.000000    10.000000     9.000000     2.000000   \n",
       "50%     ...    47.000000    31.000000    14.000000    11.000000     4.000000   \n",
       "75%     ...    61.000000    42.000000    18.000000    15.000000     7.000000   \n",
       "max     ...   165.000000   104.000000    48.000000    31.000000    27.000000   \n",
       "\n",
       "          l_bpFaced  winner_rank winner_rank_points   loser_rank  \\\n",
       "count   2622.000000  2708.000000        2708.000000  2687.000000   \n",
       "unique          NaN          NaN                NaN          NaN   \n",
       "top             NaN          NaN                NaN          NaN   \n",
       "freq            NaN          NaN                NaN          NaN   \n",
       "mean       8.721205    70.690177        2205.403988   103.363603   \n",
       "std        4.132543   102.995958        2456.725751   149.529936   \n",
       "min        0.000000     1.000000           1.000000     1.000000   \n",
       "25%        6.000000    20.000000         854.750000    37.000000   \n",
       "50%        8.000000    47.000000        1328.000000    68.000000   \n",
       "75%       11.000000    87.000000        2395.500000   112.000000   \n",
       "max       38.000000  1758.000000       12113.000000  2146.000000   \n",
       "\n",
       "       loser_rank_points  \n",
       "count        2687.000000  \n",
       "unique               NaN  \n",
       "top                  NaN  \n",
       "freq                 NaN  \n",
       "mean         1388.985858  \n",
       "std          1463.155590  \n",
       "min             1.000000  \n",
       "25%           706.000000  \n",
       "50%           990.000000  \n",
       "75%          1589.000000  \n",
       "max         12113.000000  \n",
       "\n",
       "[11 rows x 49 columns]"
      ]
     },
     "execution_count": 5,
     "metadata": {},
     "output_type": "execute_result"
    }
   ],
   "source": [
    "dados.describe(include='all')"
   ]
  },
  {
   "cell_type": "markdown",
   "metadata": {},
   "source": [
    "Detectando valores ausentes.\n",
    "\n",
    "Retorna um objeto booleano de mesmo tamanho indicando se os valores são NA. Valores NA, como Nenhum ou numpy.NaN, são mapeados para valores verdadeiros. Todo o resto é mapeado para valores falsos. Caracteres como strings vazias ''ou numpy.infnão são considerados valores NA (a menos que você defina ).pandas.options.mode.use_inf_as_na = True"
   ]
  },
  {
   "cell_type": "code",
   "execution_count": 6,
   "metadata": {
    "colab": {
     "base_uri": "https://localhost:8080/",
     "height": 437
    },
    "executionInfo": {
     "elapsed": 383,
     "status": "ok",
     "timestamp": 1633209726465,
     "user": {
      "displayName": "Jose Eduardo Santarem Segundo",
      "photoUrl": "https://lh3.googleusercontent.com/a-/AOh14GjLWfnjBdxVqYk-cgCgmPPwQImjjL3LNJ8YGfE=s64",
      "userId": "13621550804954747560"
     },
     "user_tz": 180
    },
    "id": "YA3u6MFeT75j",
    "outputId": "605b77b4-e336-4f91-fe2b-34f12c059b7c"
   },
   "outputs": [
    {
     "data": {
      "text/html": [
       "<div>\n",
       "<style scoped>\n",
       "    .dataframe tbody tr th:only-of-type {\n",
       "        vertical-align: middle;\n",
       "    }\n",
       "\n",
       "    .dataframe tbody tr th {\n",
       "        vertical-align: top;\n",
       "    }\n",
       "\n",
       "    .dataframe thead th {\n",
       "        text-align: right;\n",
       "    }\n",
       "</style>\n",
       "<table border=\"1\" class=\"dataframe\">\n",
       "  <thead>\n",
       "    <tr style=\"text-align: right;\">\n",
       "      <th></th>\n",
       "      <th>tourney_id</th>\n",
       "      <th>tourney_name</th>\n",
       "      <th>surface</th>\n",
       "      <th>draw_size</th>\n",
       "      <th>tourney_level</th>\n",
       "      <th>tourney_date</th>\n",
       "      <th>match_num</th>\n",
       "      <th>winner_id</th>\n",
       "      <th>winner_seed</th>\n",
       "      <th>winner_entry</th>\n",
       "      <th>...</th>\n",
       "      <th>l_1stIn</th>\n",
       "      <th>l_1stWon</th>\n",
       "      <th>l_2ndWon</th>\n",
       "      <th>l_SvGms</th>\n",
       "      <th>l_bpSaved</th>\n",
       "      <th>l_bpFaced</th>\n",
       "      <th>winner_rank</th>\n",
       "      <th>winner_rank_points</th>\n",
       "      <th>loser_rank</th>\n",
       "      <th>loser_rank_points</th>\n",
       "    </tr>\n",
       "  </thead>\n",
       "  <tbody>\n",
       "    <tr>\n",
       "      <th>0</th>\n",
       "      <td>False</td>\n",
       "      <td>False</td>\n",
       "      <td>False</td>\n",
       "      <td>False</td>\n",
       "      <td>False</td>\n",
       "      <td>False</td>\n",
       "      <td>False</td>\n",
       "      <td>False</td>\n",
       "      <td>False</td>\n",
       "      <td>True</td>\n",
       "      <td>...</td>\n",
       "      <td>False</td>\n",
       "      <td>False</td>\n",
       "      <td>False</td>\n",
       "      <td>False</td>\n",
       "      <td>False</td>\n",
       "      <td>False</td>\n",
       "      <td>False</td>\n",
       "      <td>False</td>\n",
       "      <td>False</td>\n",
       "      <td>False</td>\n",
       "    </tr>\n",
       "    <tr>\n",
       "      <th>1</th>\n",
       "      <td>False</td>\n",
       "      <td>False</td>\n",
       "      <td>False</td>\n",
       "      <td>False</td>\n",
       "      <td>False</td>\n",
       "      <td>False</td>\n",
       "      <td>False</td>\n",
       "      <td>False</td>\n",
       "      <td>False</td>\n",
       "      <td>True</td>\n",
       "      <td>...</td>\n",
       "      <td>False</td>\n",
       "      <td>False</td>\n",
       "      <td>False</td>\n",
       "      <td>False</td>\n",
       "      <td>False</td>\n",
       "      <td>False</td>\n",
       "      <td>False</td>\n",
       "      <td>False</td>\n",
       "      <td>False</td>\n",
       "      <td>False</td>\n",
       "    </tr>\n",
       "    <tr>\n",
       "      <th>2</th>\n",
       "      <td>False</td>\n",
       "      <td>False</td>\n",
       "      <td>False</td>\n",
       "      <td>False</td>\n",
       "      <td>False</td>\n",
       "      <td>False</td>\n",
       "      <td>False</td>\n",
       "      <td>False</td>\n",
       "      <td>True</td>\n",
       "      <td>True</td>\n",
       "      <td>...</td>\n",
       "      <td>False</td>\n",
       "      <td>False</td>\n",
       "      <td>False</td>\n",
       "      <td>False</td>\n",
       "      <td>False</td>\n",
       "      <td>False</td>\n",
       "      <td>False</td>\n",
       "      <td>False</td>\n",
       "      <td>False</td>\n",
       "      <td>False</td>\n",
       "    </tr>\n",
       "    <tr>\n",
       "      <th>3</th>\n",
       "      <td>False</td>\n",
       "      <td>False</td>\n",
       "      <td>False</td>\n",
       "      <td>False</td>\n",
       "      <td>False</td>\n",
       "      <td>False</td>\n",
       "      <td>False</td>\n",
       "      <td>False</td>\n",
       "      <td>True</td>\n",
       "      <td>False</td>\n",
       "      <td>...</td>\n",
       "      <td>False</td>\n",
       "      <td>False</td>\n",
       "      <td>False</td>\n",
       "      <td>False</td>\n",
       "      <td>False</td>\n",
       "      <td>False</td>\n",
       "      <td>False</td>\n",
       "      <td>False</td>\n",
       "      <td>False</td>\n",
       "      <td>False</td>\n",
       "    </tr>\n",
       "    <tr>\n",
       "      <th>4</th>\n",
       "      <td>False</td>\n",
       "      <td>False</td>\n",
       "      <td>False</td>\n",
       "      <td>False</td>\n",
       "      <td>False</td>\n",
       "      <td>False</td>\n",
       "      <td>False</td>\n",
       "      <td>False</td>\n",
       "      <td>False</td>\n",
       "      <td>True</td>\n",
       "      <td>...</td>\n",
       "      <td>False</td>\n",
       "      <td>False</td>\n",
       "      <td>False</td>\n",
       "      <td>False</td>\n",
       "      <td>False</td>\n",
       "      <td>False</td>\n",
       "      <td>False</td>\n",
       "      <td>False</td>\n",
       "      <td>False</td>\n",
       "      <td>False</td>\n",
       "    </tr>\n",
       "    <tr>\n",
       "      <th>...</th>\n",
       "      <td>...</td>\n",
       "      <td>...</td>\n",
       "      <td>...</td>\n",
       "      <td>...</td>\n",
       "      <td>...</td>\n",
       "      <td>...</td>\n",
       "      <td>...</td>\n",
       "      <td>...</td>\n",
       "      <td>...</td>\n",
       "      <td>...</td>\n",
       "      <td>...</td>\n",
       "      <td>...</td>\n",
       "      <td>...</td>\n",
       "      <td>...</td>\n",
       "      <td>...</td>\n",
       "      <td>...</td>\n",
       "      <td>...</td>\n",
       "      <td>...</td>\n",
       "      <td>...</td>\n",
       "      <td>...</td>\n",
       "      <td>...</td>\n",
       "    </tr>\n",
       "    <tr>\n",
       "      <th>2708</th>\n",
       "      <td>False</td>\n",
       "      <td>False</td>\n",
       "      <td>False</td>\n",
       "      <td>False</td>\n",
       "      <td>False</td>\n",
       "      <td>False</td>\n",
       "      <td>False</td>\n",
       "      <td>False</td>\n",
       "      <td>True</td>\n",
       "      <td>True</td>\n",
       "      <td>...</td>\n",
       "      <td>False</td>\n",
       "      <td>False</td>\n",
       "      <td>False</td>\n",
       "      <td>False</td>\n",
       "      <td>False</td>\n",
       "      <td>False</td>\n",
       "      <td>False</td>\n",
       "      <td>False</td>\n",
       "      <td>False</td>\n",
       "      <td>False</td>\n",
       "    </tr>\n",
       "    <tr>\n",
       "      <th>2709</th>\n",
       "      <td>False</td>\n",
       "      <td>False</td>\n",
       "      <td>False</td>\n",
       "      <td>False</td>\n",
       "      <td>False</td>\n",
       "      <td>False</td>\n",
       "      <td>False</td>\n",
       "      <td>False</td>\n",
       "      <td>True</td>\n",
       "      <td>True</td>\n",
       "      <td>...</td>\n",
       "      <td>False</td>\n",
       "      <td>False</td>\n",
       "      <td>False</td>\n",
       "      <td>False</td>\n",
       "      <td>False</td>\n",
       "      <td>False</td>\n",
       "      <td>False</td>\n",
       "      <td>False</td>\n",
       "      <td>False</td>\n",
       "      <td>False</td>\n",
       "    </tr>\n",
       "    <tr>\n",
       "      <th>2710</th>\n",
       "      <td>False</td>\n",
       "      <td>False</td>\n",
       "      <td>False</td>\n",
       "      <td>False</td>\n",
       "      <td>False</td>\n",
       "      <td>False</td>\n",
       "      <td>False</td>\n",
       "      <td>False</td>\n",
       "      <td>True</td>\n",
       "      <td>True</td>\n",
       "      <td>...</td>\n",
       "      <td>False</td>\n",
       "      <td>False</td>\n",
       "      <td>False</td>\n",
       "      <td>False</td>\n",
       "      <td>False</td>\n",
       "      <td>False</td>\n",
       "      <td>False</td>\n",
       "      <td>False</td>\n",
       "      <td>False</td>\n",
       "      <td>False</td>\n",
       "    </tr>\n",
       "    <tr>\n",
       "      <th>2711</th>\n",
       "      <td>False</td>\n",
       "      <td>False</td>\n",
       "      <td>False</td>\n",
       "      <td>False</td>\n",
       "      <td>False</td>\n",
       "      <td>False</td>\n",
       "      <td>False</td>\n",
       "      <td>False</td>\n",
       "      <td>True</td>\n",
       "      <td>True</td>\n",
       "      <td>...</td>\n",
       "      <td>False</td>\n",
       "      <td>False</td>\n",
       "      <td>False</td>\n",
       "      <td>False</td>\n",
       "      <td>False</td>\n",
       "      <td>False</td>\n",
       "      <td>False</td>\n",
       "      <td>False</td>\n",
       "      <td>False</td>\n",
       "      <td>False</td>\n",
       "    </tr>\n",
       "    <tr>\n",
       "      <th>2712</th>\n",
       "      <td>False</td>\n",
       "      <td>False</td>\n",
       "      <td>False</td>\n",
       "      <td>False</td>\n",
       "      <td>False</td>\n",
       "      <td>False</td>\n",
       "      <td>False</td>\n",
       "      <td>False</td>\n",
       "      <td>True</td>\n",
       "      <td>True</td>\n",
       "      <td>...</td>\n",
       "      <td>False</td>\n",
       "      <td>False</td>\n",
       "      <td>False</td>\n",
       "      <td>False</td>\n",
       "      <td>False</td>\n",
       "      <td>False</td>\n",
       "      <td>False</td>\n",
       "      <td>False</td>\n",
       "      <td>True</td>\n",
       "      <td>True</td>\n",
       "    </tr>\n",
       "  </tbody>\n",
       "</table>\n",
       "<p>2713 rows × 49 columns</p>\n",
       "</div>"
      ],
      "text/plain": [
       "      tourney_id  tourney_name  surface  draw_size  tourney_level  \\\n",
       "0          False         False    False      False          False   \n",
       "1          False         False    False      False          False   \n",
       "2          False         False    False      False          False   \n",
       "3          False         False    False      False          False   \n",
       "4          False         False    False      False          False   \n",
       "...          ...           ...      ...        ...            ...   \n",
       "2708       False         False    False      False          False   \n",
       "2709       False         False    False      False          False   \n",
       "2710       False         False    False      False          False   \n",
       "2711       False         False    False      False          False   \n",
       "2712       False         False    False      False          False   \n",
       "\n",
       "      tourney_date  match_num  winner_id  winner_seed  winner_entry  ...  \\\n",
       "0            False      False      False        False          True  ...   \n",
       "1            False      False      False        False          True  ...   \n",
       "2            False      False      False         True          True  ...   \n",
       "3            False      False      False         True         False  ...   \n",
       "4            False      False      False        False          True  ...   \n",
       "...            ...        ...        ...          ...           ...  ...   \n",
       "2708         False      False      False         True          True  ...   \n",
       "2709         False      False      False         True          True  ...   \n",
       "2710         False      False      False         True          True  ...   \n",
       "2711         False      False      False         True          True  ...   \n",
       "2712         False      False      False         True          True  ...   \n",
       "\n",
       "      l_1stIn  l_1stWon  l_2ndWon  l_SvGms  l_bpSaved  l_bpFaced  winner_rank  \\\n",
       "0       False     False     False    False      False      False        False   \n",
       "1       False     False     False    False      False      False        False   \n",
       "2       False     False     False    False      False      False        False   \n",
       "3       False     False     False    False      False      False        False   \n",
       "4       False     False     False    False      False      False        False   \n",
       "...       ...       ...       ...      ...        ...        ...          ...   \n",
       "2708    False     False     False    False      False      False        False   \n",
       "2709    False     False     False    False      False      False        False   \n",
       "2710    False     False     False    False      False      False        False   \n",
       "2711    False     False     False    False      False      False        False   \n",
       "2712    False     False     False    False      False      False        False   \n",
       "\n",
       "      winner_rank_points  loser_rank  loser_rank_points  \n",
       "0                  False       False              False  \n",
       "1                  False       False              False  \n",
       "2                  False       False              False  \n",
       "3                  False       False              False  \n",
       "4                  False       False              False  \n",
       "...                  ...         ...                ...  \n",
       "2708               False       False              False  \n",
       "2709               False       False              False  \n",
       "2710               False       False              False  \n",
       "2711               False       False              False  \n",
       "2712               False        True               True  \n",
       "\n",
       "[2713 rows x 49 columns]"
      ]
     },
     "execution_count": 6,
     "metadata": {},
     "output_type": "execute_result"
    }
   ],
   "source": [
    "dados.isnull()"
   ]
  },
  {
   "cell_type": "markdown",
   "metadata": {
    "id": "ho3Qq3YvT8Ql"
   },
   "source": [
    "###Verificar valores nulos nas colunas. Somando os valores nulos de cada coluna."
   ]
  },
  {
   "cell_type": "code",
   "execution_count": 7,
   "metadata": {
    "colab": {
     "base_uri": "https://localhost:8080/"
    },
    "executionInfo": {
     "elapsed": 400,
     "status": "ok",
     "timestamp": 1633209743687,
     "user": {
      "displayName": "Jose Eduardo Santarem Segundo",
      "photoUrl": "https://lh3.googleusercontent.com/a-/AOh14GjLWfnjBdxVqYk-cgCgmPPwQImjjL3LNJ8YGfE=s64",
      "userId": "13621550804954747560"
     },
     "user_tz": 180
    },
    "id": "mBV4GyXnT8qa",
    "outputId": "b78d8804-1c2b-4ab3-c8ec-1573d68d6023"
   },
   "outputs": [
    {
     "data": {
      "text/plain": [
       "tourney_id               0\n",
       "tourney_name             0\n",
       "surface                  0\n",
       "draw_size                0\n",
       "tourney_level            0\n",
       "tourney_date             0\n",
       "match_num                0\n",
       "winner_id                0\n",
       "winner_seed           1548\n",
       "winner_entry          2296\n",
       "winner_name              0\n",
       "winner_hand              2\n",
       "winner_ht              336\n",
       "winner_ioc               0\n",
       "winner_age               0\n",
       "loser_id                 0\n",
       "loser_seed            2020\n",
       "loser_entry           2078\n",
       "loser_name               0\n",
       "loser_hand               0\n",
       "loser_ht               522\n",
       "loser_ioc                0\n",
       "loser_age                2\n",
       "score                    0\n",
       "best_of                  0\n",
       "round                    0\n",
       "minutes                 77\n",
       "w_ace                   91\n",
       "w_df                    91\n",
       "w_svpt                  91\n",
       "w_1stIn                 91\n",
       "w_1stWon                91\n",
       "w_2ndWon                91\n",
       "w_SvGms                 90\n",
       "w_bpSaved               91\n",
       "w_bpFaced               91\n",
       "l_ace                   91\n",
       "l_df                    91\n",
       "l_svpt                  91\n",
       "l_1stIn                 91\n",
       "l_1stWon                91\n",
       "l_2ndWon                91\n",
       "l_SvGms                 90\n",
       "l_bpSaved               91\n",
       "l_bpFaced               91\n",
       "winner_rank              5\n",
       "winner_rank_points       5\n",
       "loser_rank              26\n",
       "loser_rank_points       26\n",
       "dtype: int64"
      ]
     },
     "execution_count": 7,
     "metadata": {},
     "output_type": "execute_result"
    }
   ],
   "source": [
    "dados.isnull().sum()"
   ]
  },
  {
   "cell_type": "markdown",
   "metadata": {
    "id": "rH9kY2J3UW-b"
   },
   "source": [
    "###Verificar coluna \"winner_entry\", que tem muitos valores nulos e indica como o vencedor entrou no torneio"
   ]
  },
  {
   "cell_type": "code",
   "execution_count": 8,
   "metadata": {
    "colab": {
     "base_uri": "https://localhost:8080/"
    },
    "executionInfo": {
     "elapsed": 376,
     "status": "ok",
     "timestamp": 1633209799959,
     "user": {
      "displayName": "Jose Eduardo Santarem Segundo",
      "photoUrl": "https://lh3.googleusercontent.com/a-/AOh14GjLWfnjBdxVqYk-cgCgmPPwQImjjL3LNJ8YGfE=s64",
      "userId": "13621550804954747560"
     },
     "user_tz": 180
    },
    "id": "_qa99tCZUXZp",
    "outputId": "7ddd8030-31a6-4913-8b15-1f11af4b81ad"
   },
   "outputs": [
    {
     "data": {
      "text/plain": [
       "count     417\n",
       "unique      6\n",
       "top         Q\n",
       "freq      234\n",
       "Name: winner_entry, dtype: object"
      ]
     },
     "execution_count": 8,
     "metadata": {},
     "output_type": "execute_result"
    }
   ],
   "source": [
    "dados['winner_entry'].describe()"
   ]
  },
  {
   "cell_type": "code",
   "execution_count": 9,
   "metadata": {
    "colab": {
     "base_uri": "https://localhost:8080/"
    },
    "executionInfo": {
     "elapsed": 366,
     "status": "ok",
     "timestamp": 1633209820973,
     "user": {
      "displayName": "Jose Eduardo Santarem Segundo",
      "photoUrl": "https://lh3.googleusercontent.com/a-/AOh14GjLWfnjBdxVqYk-cgCgmPPwQImjjL3LNJ8YGfE=s64",
      "userId": "13621550804954747560"
     },
     "user_tz": 180
    },
    "id": "IV7S8rUpUtQu",
    "outputId": "314044f5-b71e-42fa-a188-e8cd4ba5bee3"
   },
   "outputs": [
    {
     "data": {
      "text/plain": [
       "array([nan, 'Q', 'WC', 'Alt', 'PR', 'LL', 'SE'], dtype=object)"
      ]
     },
     "execution_count": 9,
     "metadata": {},
     "output_type": "execute_result"
    }
   ],
   "source": [
    "dados['winner_entry'].unique()"
   ]
  },
  {
   "cell_type": "markdown",
   "metadata": {
    "id": "_riGiN6iUtY0"
   },
   "source": [
    "###Apagar todas as linhas que o atributo \"loser_rank\" é nulo, porque são poucas ocasiões e isso pode implicar erros nos resultados."
   ]
  },
  {
   "cell_type": "code",
   "execution_count": 10,
   "metadata": {
    "executionInfo": {
     "elapsed": 408,
     "status": "ok",
     "timestamp": 1633209913685,
     "user": {
      "displayName": "Jose Eduardo Santarem Segundo",
      "photoUrl": "https://lh3.googleusercontent.com/a-/AOh14GjLWfnjBdxVqYk-cgCgmPPwQImjjL3LNJ8YGfE=s64",
      "userId": "13621550804954747560"
     },
     "user_tz": 180
    },
    "id": "yjtfHpp3UuYP"
   },
   "outputs": [],
   "source": [
    "dados.dropna(subset=['loser_rank'], inplace=True)"
   ]
  },
  {
   "cell_type": "code",
   "execution_count": 11,
   "metadata": {
    "colab": {
     "base_uri": "https://localhost:8080/",
     "height": 605
    },
    "executionInfo": {
     "elapsed": 416,
     "status": "ok",
     "timestamp": 1633209930279,
     "user": {
      "displayName": "Jose Eduardo Santarem Segundo",
      "photoUrl": "https://lh3.googleusercontent.com/a-/AOh14GjLWfnjBdxVqYk-cgCgmPPwQImjjL3LNJ8YGfE=s64",
      "userId": "13621550804954747560"
     },
     "user_tz": 180
    },
    "id": "ui4T3A8L5bze",
    "outputId": "a550448c-2abb-4a4b-f81f-6759c97e21ee"
   },
   "outputs": [
    {
     "data": {
      "text/html": [
       "<div>\n",
       "<style scoped>\n",
       "    .dataframe tbody tr th:only-of-type {\n",
       "        vertical-align: middle;\n",
       "    }\n",
       "\n",
       "    .dataframe tbody tr th {\n",
       "        vertical-align: top;\n",
       "    }\n",
       "\n",
       "    .dataframe thead th {\n",
       "        text-align: right;\n",
       "    }\n",
       "</style>\n",
       "<table border=\"1\" class=\"dataframe\">\n",
       "  <thead>\n",
       "    <tr style=\"text-align: right;\">\n",
       "      <th></th>\n",
       "      <th>tourney_id</th>\n",
       "      <th>tourney_name</th>\n",
       "      <th>surface</th>\n",
       "      <th>draw_size</th>\n",
       "      <th>tourney_level</th>\n",
       "      <th>tourney_date</th>\n",
       "      <th>match_num</th>\n",
       "      <th>winner_id</th>\n",
       "      <th>winner_seed</th>\n",
       "      <th>winner_entry</th>\n",
       "      <th>...</th>\n",
       "      <th>l_1stIn</th>\n",
       "      <th>l_1stWon</th>\n",
       "      <th>l_2ndWon</th>\n",
       "      <th>l_SvGms</th>\n",
       "      <th>l_bpSaved</th>\n",
       "      <th>l_bpFaced</th>\n",
       "      <th>winner_rank</th>\n",
       "      <th>winner_rank_points</th>\n",
       "      <th>loser_rank</th>\n",
       "      <th>loser_rank_points</th>\n",
       "    </tr>\n",
       "  </thead>\n",
       "  <tbody>\n",
       "    <tr>\n",
       "      <th>0</th>\n",
       "      <td>2021-0499</td>\n",
       "      <td>Delray Beach</td>\n",
       "      <td>Hard</td>\n",
       "      <td>32</td>\n",
       "      <td>A</td>\n",
       "      <td>20210104</td>\n",
       "      <td>300</td>\n",
       "      <td>128034</td>\n",
       "      <td>4.0</td>\n",
       "      <td>NaN</td>\n",
       "      <td>...</td>\n",
       "      <td>33.0</td>\n",
       "      <td>20.0</td>\n",
       "      <td>9.0</td>\n",
       "      <td>9.0</td>\n",
       "      <td>1.0</td>\n",
       "      <td>5.0</td>\n",
       "      <td>35.0</td>\n",
       "      <td>1518.0</td>\n",
       "      <td>119.0</td>\n",
       "      <td>566.0</td>\n",
       "    </tr>\n",
       "    <tr>\n",
       "      <th>1</th>\n",
       "      <td>2021-0499</td>\n",
       "      <td>Delray Beach</td>\n",
       "      <td>Hard</td>\n",
       "      <td>32</td>\n",
       "      <td>A</td>\n",
       "      <td>20210104</td>\n",
       "      <td>299</td>\n",
       "      <td>128034</td>\n",
       "      <td>4.0</td>\n",
       "      <td>NaN</td>\n",
       "      <td>...</td>\n",
       "      <td>46.0</td>\n",
       "      <td>29.0</td>\n",
       "      <td>13.0</td>\n",
       "      <td>11.0</td>\n",
       "      <td>3.0</td>\n",
       "      <td>5.0</td>\n",
       "      <td>35.0</td>\n",
       "      <td>1518.0</td>\n",
       "      <td>789.0</td>\n",
       "      <td>22.0</td>\n",
       "    </tr>\n",
       "    <tr>\n",
       "      <th>2</th>\n",
       "      <td>2021-0499</td>\n",
       "      <td>Delray Beach</td>\n",
       "      <td>Hard</td>\n",
       "      <td>32</td>\n",
       "      <td>A</td>\n",
       "      <td>20210104</td>\n",
       "      <td>298</td>\n",
       "      <td>200624</td>\n",
       "      <td>NaN</td>\n",
       "      <td>NaN</td>\n",
       "      <td>...</td>\n",
       "      <td>35.0</td>\n",
       "      <td>25.0</td>\n",
       "      <td>7.0</td>\n",
       "      <td>10.0</td>\n",
       "      <td>2.0</td>\n",
       "      <td>6.0</td>\n",
       "      <td>119.0</td>\n",
       "      <td>566.0</td>\n",
       "      <td>74.0</td>\n",
       "      <td>877.0</td>\n",
       "    </tr>\n",
       "    <tr>\n",
       "      <th>3</th>\n",
       "      <td>2021-0499</td>\n",
       "      <td>Delray Beach</td>\n",
       "      <td>Hard</td>\n",
       "      <td>32</td>\n",
       "      <td>A</td>\n",
       "      <td>20210104</td>\n",
       "      <td>297</td>\n",
       "      <td>106328</td>\n",
       "      <td>NaN</td>\n",
       "      <td>Q</td>\n",
       "      <td>...</td>\n",
       "      <td>45.0</td>\n",
       "      <td>34.0</td>\n",
       "      <td>18.0</td>\n",
       "      <td>11.0</td>\n",
       "      <td>9.0</td>\n",
       "      <td>11.0</td>\n",
       "      <td>789.0</td>\n",
       "      <td>22.0</td>\n",
       "      <td>101.0</td>\n",
       "      <td>733.0</td>\n",
       "    </tr>\n",
       "    <tr>\n",
       "      <th>4</th>\n",
       "      <td>2021-0499</td>\n",
       "      <td>Delray Beach</td>\n",
       "      <td>Hard</td>\n",
       "      <td>32</td>\n",
       "      <td>A</td>\n",
       "      <td>20210104</td>\n",
       "      <td>296</td>\n",
       "      <td>128034</td>\n",
       "      <td>4.0</td>\n",
       "      <td>NaN</td>\n",
       "      <td>...</td>\n",
       "      <td>43.0</td>\n",
       "      <td>28.0</td>\n",
       "      <td>10.0</td>\n",
       "      <td>10.0</td>\n",
       "      <td>7.0</td>\n",
       "      <td>10.0</td>\n",
       "      <td>35.0</td>\n",
       "      <td>1518.0</td>\n",
       "      <td>293.0</td>\n",
       "      <td>171.0</td>\n",
       "    </tr>\n",
       "    <tr>\n",
       "      <th>...</th>\n",
       "      <td>...</td>\n",
       "      <td>...</td>\n",
       "      <td>...</td>\n",
       "      <td>...</td>\n",
       "      <td>...</td>\n",
       "      <td>...</td>\n",
       "      <td>...</td>\n",
       "      <td>...</td>\n",
       "      <td>...</td>\n",
       "      <td>...</td>\n",
       "      <td>...</td>\n",
       "      <td>...</td>\n",
       "      <td>...</td>\n",
       "      <td>...</td>\n",
       "      <td>...</td>\n",
       "      <td>...</td>\n",
       "      <td>...</td>\n",
       "      <td>...</td>\n",
       "      <td>...</td>\n",
       "      <td>...</td>\n",
       "      <td>...</td>\n",
       "    </tr>\n",
       "    <tr>\n",
       "      <th>2707</th>\n",
       "      <td>2021-M-DC-2021-WG2-M-THA-DEN-01</td>\n",
       "      <td>Davis Cup WG2 R1: THA vs DEN</td>\n",
       "      <td>Hard</td>\n",
       "      <td>4</td>\n",
       "      <td>D</td>\n",
       "      <td>20210917</td>\n",
       "      <td>2</td>\n",
       "      <td>200416</td>\n",
       "      <td>NaN</td>\n",
       "      <td>NaN</td>\n",
       "      <td>...</td>\n",
       "      <td>57.0</td>\n",
       "      <td>38.0</td>\n",
       "      <td>15.0</td>\n",
       "      <td>14.0</td>\n",
       "      <td>5.0</td>\n",
       "      <td>11.0</td>\n",
       "      <td>905.0</td>\n",
       "      <td>16.0</td>\n",
       "      <td>1136.0</td>\n",
       "      <td>8.0</td>\n",
       "    </tr>\n",
       "    <tr>\n",
       "      <th>2708</th>\n",
       "      <td>2021-M-DC-2021-WG2-M-THA-DEN-01</td>\n",
       "      <td>Davis Cup WG2 R1: THA vs DEN</td>\n",
       "      <td>Hard</td>\n",
       "      <td>4</td>\n",
       "      <td>D</td>\n",
       "      <td>20210917</td>\n",
       "      <td>4</td>\n",
       "      <td>200416</td>\n",
       "      <td>NaN</td>\n",
       "      <td>NaN</td>\n",
       "      <td>...</td>\n",
       "      <td>45.0</td>\n",
       "      <td>30.0</td>\n",
       "      <td>14.0</td>\n",
       "      <td>10.0</td>\n",
       "      <td>10.0</td>\n",
       "      <td>13.0</td>\n",
       "      <td>905.0</td>\n",
       "      <td>16.0</td>\n",
       "      <td>767.0</td>\n",
       "      <td>27.0</td>\n",
       "    </tr>\n",
       "    <tr>\n",
       "      <th>2709</th>\n",
       "      <td>2021-M-DC-2021-WG2-M-THA-DEN-01</td>\n",
       "      <td>Davis Cup WG2 R1: THA vs DEN</td>\n",
       "      <td>Hard</td>\n",
       "      <td>4</td>\n",
       "      <td>D</td>\n",
       "      <td>20210917</td>\n",
       "      <td>5</td>\n",
       "      <td>208937</td>\n",
       "      <td>NaN</td>\n",
       "      <td>NaN</td>\n",
       "      <td>...</td>\n",
       "      <td>43.0</td>\n",
       "      <td>24.0</td>\n",
       "      <td>13.0</td>\n",
       "      <td>10.0</td>\n",
       "      <td>5.0</td>\n",
       "      <td>11.0</td>\n",
       "      <td>1136.0</td>\n",
       "      <td>8.0</td>\n",
       "      <td>1546.0</td>\n",
       "      <td>2.0</td>\n",
       "    </tr>\n",
       "    <tr>\n",
       "      <th>2710</th>\n",
       "      <td>2021-M-DC-2021-WG2-M-TUR-LAT-01</td>\n",
       "      <td>Davis Cup WG2 R1: TUR vs LAT</td>\n",
       "      <td>Hard</td>\n",
       "      <td>4</td>\n",
       "      <td>D</td>\n",
       "      <td>20210918</td>\n",
       "      <td>1</td>\n",
       "      <td>123795</td>\n",
       "      <td>NaN</td>\n",
       "      <td>NaN</td>\n",
       "      <td>...</td>\n",
       "      <td>50.0</td>\n",
       "      <td>34.0</td>\n",
       "      <td>20.0</td>\n",
       "      <td>11.0</td>\n",
       "      <td>6.0</td>\n",
       "      <td>9.0</td>\n",
       "      <td>170.0</td>\n",
       "      <td>427.0</td>\n",
       "      <td>671.0</td>\n",
       "      <td>38.0</td>\n",
       "    </tr>\n",
       "    <tr>\n",
       "      <th>2711</th>\n",
       "      <td>2021-M-DC-2021-WG2-M-TUR-LAT-01</td>\n",
       "      <td>Davis Cup WG2 R1: TUR vs LAT</td>\n",
       "      <td>Hard</td>\n",
       "      <td>4</td>\n",
       "      <td>D</td>\n",
       "      <td>20210918</td>\n",
       "      <td>2</td>\n",
       "      <td>117356</td>\n",
       "      <td>NaN</td>\n",
       "      <td>NaN</td>\n",
       "      <td>...</td>\n",
       "      <td>21.0</td>\n",
       "      <td>16.0</td>\n",
       "      <td>7.0</td>\n",
       "      <td>8.0</td>\n",
       "      <td>2.0</td>\n",
       "      <td>7.0</td>\n",
       "      <td>176.0</td>\n",
       "      <td>408.0</td>\n",
       "      <td>196.0</td>\n",
       "      <td>359.0</td>\n",
       "    </tr>\n",
       "  </tbody>\n",
       "</table>\n",
       "<p>2687 rows × 49 columns</p>\n",
       "</div>"
      ],
      "text/plain": [
       "                           tourney_id                  tourney_name surface  \\\n",
       "0                           2021-0499                  Delray Beach    Hard   \n",
       "1                           2021-0499                  Delray Beach    Hard   \n",
       "2                           2021-0499                  Delray Beach    Hard   \n",
       "3                           2021-0499                  Delray Beach    Hard   \n",
       "4                           2021-0499                  Delray Beach    Hard   \n",
       "...                               ...                           ...     ...   \n",
       "2707  2021-M-DC-2021-WG2-M-THA-DEN-01  Davis Cup WG2 R1: THA vs DEN    Hard   \n",
       "2708  2021-M-DC-2021-WG2-M-THA-DEN-01  Davis Cup WG2 R1: THA vs DEN    Hard   \n",
       "2709  2021-M-DC-2021-WG2-M-THA-DEN-01  Davis Cup WG2 R1: THA vs DEN    Hard   \n",
       "2710  2021-M-DC-2021-WG2-M-TUR-LAT-01  Davis Cup WG2 R1: TUR vs LAT    Hard   \n",
       "2711  2021-M-DC-2021-WG2-M-TUR-LAT-01  Davis Cup WG2 R1: TUR vs LAT    Hard   \n",
       "\n",
       "      draw_size tourney_level  tourney_date  match_num  winner_id  \\\n",
       "0            32             A      20210104        300     128034   \n",
       "1            32             A      20210104        299     128034   \n",
       "2            32             A      20210104        298     200624   \n",
       "3            32             A      20210104        297     106328   \n",
       "4            32             A      20210104        296     128034   \n",
       "...         ...           ...           ...        ...        ...   \n",
       "2707          4             D      20210917          2     200416   \n",
       "2708          4             D      20210917          4     200416   \n",
       "2709          4             D      20210917          5     208937   \n",
       "2710          4             D      20210918          1     123795   \n",
       "2711          4             D      20210918          2     117356   \n",
       "\n",
       "      winner_seed winner_entry  ... l_1stIn l_1stWon  l_2ndWon l_SvGms  \\\n",
       "0             4.0          NaN  ...    33.0     20.0       9.0     9.0   \n",
       "1             4.0          NaN  ...    46.0     29.0      13.0    11.0   \n",
       "2             NaN          NaN  ...    35.0     25.0       7.0    10.0   \n",
       "3             NaN            Q  ...    45.0     34.0      18.0    11.0   \n",
       "4             4.0          NaN  ...    43.0     28.0      10.0    10.0   \n",
       "...           ...          ...  ...     ...      ...       ...     ...   \n",
       "2707          NaN          NaN  ...    57.0     38.0      15.0    14.0   \n",
       "2708          NaN          NaN  ...    45.0     30.0      14.0    10.0   \n",
       "2709          NaN          NaN  ...    43.0     24.0      13.0    10.0   \n",
       "2710          NaN          NaN  ...    50.0     34.0      20.0    11.0   \n",
       "2711          NaN          NaN  ...    21.0     16.0       7.0     8.0   \n",
       "\n",
       "      l_bpSaved  l_bpFaced  winner_rank winner_rank_points loser_rank  \\\n",
       "0           1.0        5.0         35.0             1518.0      119.0   \n",
       "1           3.0        5.0         35.0             1518.0      789.0   \n",
       "2           2.0        6.0        119.0              566.0       74.0   \n",
       "3           9.0       11.0        789.0               22.0      101.0   \n",
       "4           7.0       10.0         35.0             1518.0      293.0   \n",
       "...         ...        ...          ...                ...        ...   \n",
       "2707        5.0       11.0        905.0               16.0     1136.0   \n",
       "2708       10.0       13.0        905.0               16.0      767.0   \n",
       "2709        5.0       11.0       1136.0                8.0     1546.0   \n",
       "2710        6.0        9.0        170.0              427.0      671.0   \n",
       "2711        2.0        7.0        176.0              408.0      196.0   \n",
       "\n",
       "     loser_rank_points  \n",
       "0                566.0  \n",
       "1                 22.0  \n",
       "2                877.0  \n",
       "3                733.0  \n",
       "4                171.0  \n",
       "...                ...  \n",
       "2707               8.0  \n",
       "2708              27.0  \n",
       "2709               2.0  \n",
       "2710              38.0  \n",
       "2711             359.0  \n",
       "\n",
       "[2687 rows x 49 columns]"
      ]
     },
     "execution_count": 11,
     "metadata": {},
     "output_type": "execute_result"
    }
   ],
   "source": [
    "dados"
   ]
  },
  {
   "cell_type": "markdown",
   "metadata": {
    "id": "-F7BnNKXVKR4"
   },
   "source": [
    "###Apagar colunas que todos os valores são nulos"
   ]
  },
  {
   "cell_type": "code",
   "execution_count": 12,
   "metadata": {
    "colab": {
     "base_uri": "https://localhost:8080/",
     "height": 605
    },
    "executionInfo": {
     "elapsed": 415,
     "status": "ok",
     "timestamp": 1633209961202,
     "user": {
      "displayName": "Jose Eduardo Santarem Segundo",
      "photoUrl": "https://lh3.googleusercontent.com/a-/AOh14GjLWfnjBdxVqYk-cgCgmPPwQImjjL3LNJ8YGfE=s64",
      "userId": "13621550804954747560"
     },
     "user_tz": 180
    },
    "id": "GDAFYCRzVLeU",
    "outputId": "c731a1e2-b96c-477d-f153-05af80dd5d14"
   },
   "outputs": [
    {
     "data": {
      "text/html": [
       "<div>\n",
       "<style scoped>\n",
       "    .dataframe tbody tr th:only-of-type {\n",
       "        vertical-align: middle;\n",
       "    }\n",
       "\n",
       "    .dataframe tbody tr th {\n",
       "        vertical-align: top;\n",
       "    }\n",
       "\n",
       "    .dataframe thead th {\n",
       "        text-align: right;\n",
       "    }\n",
       "</style>\n",
       "<table border=\"1\" class=\"dataframe\">\n",
       "  <thead>\n",
       "    <tr style=\"text-align: right;\">\n",
       "      <th></th>\n",
       "      <th>tourney_id</th>\n",
       "      <th>tourney_name</th>\n",
       "      <th>surface</th>\n",
       "      <th>draw_size</th>\n",
       "      <th>tourney_level</th>\n",
       "      <th>tourney_date</th>\n",
       "      <th>match_num</th>\n",
       "      <th>winner_id</th>\n",
       "      <th>winner_seed</th>\n",
       "      <th>winner_entry</th>\n",
       "      <th>...</th>\n",
       "      <th>l_1stIn</th>\n",
       "      <th>l_1stWon</th>\n",
       "      <th>l_2ndWon</th>\n",
       "      <th>l_SvGms</th>\n",
       "      <th>l_bpSaved</th>\n",
       "      <th>l_bpFaced</th>\n",
       "      <th>winner_rank</th>\n",
       "      <th>winner_rank_points</th>\n",
       "      <th>loser_rank</th>\n",
       "      <th>loser_rank_points</th>\n",
       "    </tr>\n",
       "  </thead>\n",
       "  <tbody>\n",
       "    <tr>\n",
       "      <th>0</th>\n",
       "      <td>2021-0499</td>\n",
       "      <td>Delray Beach</td>\n",
       "      <td>Hard</td>\n",
       "      <td>32</td>\n",
       "      <td>A</td>\n",
       "      <td>20210104</td>\n",
       "      <td>300</td>\n",
       "      <td>128034</td>\n",
       "      <td>4.0</td>\n",
       "      <td>NaN</td>\n",
       "      <td>...</td>\n",
       "      <td>33.0</td>\n",
       "      <td>20.0</td>\n",
       "      <td>9.0</td>\n",
       "      <td>9.0</td>\n",
       "      <td>1.0</td>\n",
       "      <td>5.0</td>\n",
       "      <td>35.0</td>\n",
       "      <td>1518.0</td>\n",
       "      <td>119.0</td>\n",
       "      <td>566.0</td>\n",
       "    </tr>\n",
       "    <tr>\n",
       "      <th>1</th>\n",
       "      <td>2021-0499</td>\n",
       "      <td>Delray Beach</td>\n",
       "      <td>Hard</td>\n",
       "      <td>32</td>\n",
       "      <td>A</td>\n",
       "      <td>20210104</td>\n",
       "      <td>299</td>\n",
       "      <td>128034</td>\n",
       "      <td>4.0</td>\n",
       "      <td>NaN</td>\n",
       "      <td>...</td>\n",
       "      <td>46.0</td>\n",
       "      <td>29.0</td>\n",
       "      <td>13.0</td>\n",
       "      <td>11.0</td>\n",
       "      <td>3.0</td>\n",
       "      <td>5.0</td>\n",
       "      <td>35.0</td>\n",
       "      <td>1518.0</td>\n",
       "      <td>789.0</td>\n",
       "      <td>22.0</td>\n",
       "    </tr>\n",
       "    <tr>\n",
       "      <th>2</th>\n",
       "      <td>2021-0499</td>\n",
       "      <td>Delray Beach</td>\n",
       "      <td>Hard</td>\n",
       "      <td>32</td>\n",
       "      <td>A</td>\n",
       "      <td>20210104</td>\n",
       "      <td>298</td>\n",
       "      <td>200624</td>\n",
       "      <td>NaN</td>\n",
       "      <td>NaN</td>\n",
       "      <td>...</td>\n",
       "      <td>35.0</td>\n",
       "      <td>25.0</td>\n",
       "      <td>7.0</td>\n",
       "      <td>10.0</td>\n",
       "      <td>2.0</td>\n",
       "      <td>6.0</td>\n",
       "      <td>119.0</td>\n",
       "      <td>566.0</td>\n",
       "      <td>74.0</td>\n",
       "      <td>877.0</td>\n",
       "    </tr>\n",
       "    <tr>\n",
       "      <th>3</th>\n",
       "      <td>2021-0499</td>\n",
       "      <td>Delray Beach</td>\n",
       "      <td>Hard</td>\n",
       "      <td>32</td>\n",
       "      <td>A</td>\n",
       "      <td>20210104</td>\n",
       "      <td>297</td>\n",
       "      <td>106328</td>\n",
       "      <td>NaN</td>\n",
       "      <td>Q</td>\n",
       "      <td>...</td>\n",
       "      <td>45.0</td>\n",
       "      <td>34.0</td>\n",
       "      <td>18.0</td>\n",
       "      <td>11.0</td>\n",
       "      <td>9.0</td>\n",
       "      <td>11.0</td>\n",
       "      <td>789.0</td>\n",
       "      <td>22.0</td>\n",
       "      <td>101.0</td>\n",
       "      <td>733.0</td>\n",
       "    </tr>\n",
       "    <tr>\n",
       "      <th>4</th>\n",
       "      <td>2021-0499</td>\n",
       "      <td>Delray Beach</td>\n",
       "      <td>Hard</td>\n",
       "      <td>32</td>\n",
       "      <td>A</td>\n",
       "      <td>20210104</td>\n",
       "      <td>296</td>\n",
       "      <td>128034</td>\n",
       "      <td>4.0</td>\n",
       "      <td>NaN</td>\n",
       "      <td>...</td>\n",
       "      <td>43.0</td>\n",
       "      <td>28.0</td>\n",
       "      <td>10.0</td>\n",
       "      <td>10.0</td>\n",
       "      <td>7.0</td>\n",
       "      <td>10.0</td>\n",
       "      <td>35.0</td>\n",
       "      <td>1518.0</td>\n",
       "      <td>293.0</td>\n",
       "      <td>171.0</td>\n",
       "    </tr>\n",
       "    <tr>\n",
       "      <th>...</th>\n",
       "      <td>...</td>\n",
       "      <td>...</td>\n",
       "      <td>...</td>\n",
       "      <td>...</td>\n",
       "      <td>...</td>\n",
       "      <td>...</td>\n",
       "      <td>...</td>\n",
       "      <td>...</td>\n",
       "      <td>...</td>\n",
       "      <td>...</td>\n",
       "      <td>...</td>\n",
       "      <td>...</td>\n",
       "      <td>...</td>\n",
       "      <td>...</td>\n",
       "      <td>...</td>\n",
       "      <td>...</td>\n",
       "      <td>...</td>\n",
       "      <td>...</td>\n",
       "      <td>...</td>\n",
       "      <td>...</td>\n",
       "      <td>...</td>\n",
       "    </tr>\n",
       "    <tr>\n",
       "      <th>2707</th>\n",
       "      <td>2021-M-DC-2021-WG2-M-THA-DEN-01</td>\n",
       "      <td>Davis Cup WG2 R1: THA vs DEN</td>\n",
       "      <td>Hard</td>\n",
       "      <td>4</td>\n",
       "      <td>D</td>\n",
       "      <td>20210917</td>\n",
       "      <td>2</td>\n",
       "      <td>200416</td>\n",
       "      <td>NaN</td>\n",
       "      <td>NaN</td>\n",
       "      <td>...</td>\n",
       "      <td>57.0</td>\n",
       "      <td>38.0</td>\n",
       "      <td>15.0</td>\n",
       "      <td>14.0</td>\n",
       "      <td>5.0</td>\n",
       "      <td>11.0</td>\n",
       "      <td>905.0</td>\n",
       "      <td>16.0</td>\n",
       "      <td>1136.0</td>\n",
       "      <td>8.0</td>\n",
       "    </tr>\n",
       "    <tr>\n",
       "      <th>2708</th>\n",
       "      <td>2021-M-DC-2021-WG2-M-THA-DEN-01</td>\n",
       "      <td>Davis Cup WG2 R1: THA vs DEN</td>\n",
       "      <td>Hard</td>\n",
       "      <td>4</td>\n",
       "      <td>D</td>\n",
       "      <td>20210917</td>\n",
       "      <td>4</td>\n",
       "      <td>200416</td>\n",
       "      <td>NaN</td>\n",
       "      <td>NaN</td>\n",
       "      <td>...</td>\n",
       "      <td>45.0</td>\n",
       "      <td>30.0</td>\n",
       "      <td>14.0</td>\n",
       "      <td>10.0</td>\n",
       "      <td>10.0</td>\n",
       "      <td>13.0</td>\n",
       "      <td>905.0</td>\n",
       "      <td>16.0</td>\n",
       "      <td>767.0</td>\n",
       "      <td>27.0</td>\n",
       "    </tr>\n",
       "    <tr>\n",
       "      <th>2709</th>\n",
       "      <td>2021-M-DC-2021-WG2-M-THA-DEN-01</td>\n",
       "      <td>Davis Cup WG2 R1: THA vs DEN</td>\n",
       "      <td>Hard</td>\n",
       "      <td>4</td>\n",
       "      <td>D</td>\n",
       "      <td>20210917</td>\n",
       "      <td>5</td>\n",
       "      <td>208937</td>\n",
       "      <td>NaN</td>\n",
       "      <td>NaN</td>\n",
       "      <td>...</td>\n",
       "      <td>43.0</td>\n",
       "      <td>24.0</td>\n",
       "      <td>13.0</td>\n",
       "      <td>10.0</td>\n",
       "      <td>5.0</td>\n",
       "      <td>11.0</td>\n",
       "      <td>1136.0</td>\n",
       "      <td>8.0</td>\n",
       "      <td>1546.0</td>\n",
       "      <td>2.0</td>\n",
       "    </tr>\n",
       "    <tr>\n",
       "      <th>2710</th>\n",
       "      <td>2021-M-DC-2021-WG2-M-TUR-LAT-01</td>\n",
       "      <td>Davis Cup WG2 R1: TUR vs LAT</td>\n",
       "      <td>Hard</td>\n",
       "      <td>4</td>\n",
       "      <td>D</td>\n",
       "      <td>20210918</td>\n",
       "      <td>1</td>\n",
       "      <td>123795</td>\n",
       "      <td>NaN</td>\n",
       "      <td>NaN</td>\n",
       "      <td>...</td>\n",
       "      <td>50.0</td>\n",
       "      <td>34.0</td>\n",
       "      <td>20.0</td>\n",
       "      <td>11.0</td>\n",
       "      <td>6.0</td>\n",
       "      <td>9.0</td>\n",
       "      <td>170.0</td>\n",
       "      <td>427.0</td>\n",
       "      <td>671.0</td>\n",
       "      <td>38.0</td>\n",
       "    </tr>\n",
       "    <tr>\n",
       "      <th>2711</th>\n",
       "      <td>2021-M-DC-2021-WG2-M-TUR-LAT-01</td>\n",
       "      <td>Davis Cup WG2 R1: TUR vs LAT</td>\n",
       "      <td>Hard</td>\n",
       "      <td>4</td>\n",
       "      <td>D</td>\n",
       "      <td>20210918</td>\n",
       "      <td>2</td>\n",
       "      <td>117356</td>\n",
       "      <td>NaN</td>\n",
       "      <td>NaN</td>\n",
       "      <td>...</td>\n",
       "      <td>21.0</td>\n",
       "      <td>16.0</td>\n",
       "      <td>7.0</td>\n",
       "      <td>8.0</td>\n",
       "      <td>2.0</td>\n",
       "      <td>7.0</td>\n",
       "      <td>176.0</td>\n",
       "      <td>408.0</td>\n",
       "      <td>196.0</td>\n",
       "      <td>359.0</td>\n",
       "    </tr>\n",
       "  </tbody>\n",
       "</table>\n",
       "<p>2687 rows × 49 columns</p>\n",
       "</div>"
      ],
      "text/plain": [
       "                           tourney_id                  tourney_name surface  \\\n",
       "0                           2021-0499                  Delray Beach    Hard   \n",
       "1                           2021-0499                  Delray Beach    Hard   \n",
       "2                           2021-0499                  Delray Beach    Hard   \n",
       "3                           2021-0499                  Delray Beach    Hard   \n",
       "4                           2021-0499                  Delray Beach    Hard   \n",
       "...                               ...                           ...     ...   \n",
       "2707  2021-M-DC-2021-WG2-M-THA-DEN-01  Davis Cup WG2 R1: THA vs DEN    Hard   \n",
       "2708  2021-M-DC-2021-WG2-M-THA-DEN-01  Davis Cup WG2 R1: THA vs DEN    Hard   \n",
       "2709  2021-M-DC-2021-WG2-M-THA-DEN-01  Davis Cup WG2 R1: THA vs DEN    Hard   \n",
       "2710  2021-M-DC-2021-WG2-M-TUR-LAT-01  Davis Cup WG2 R1: TUR vs LAT    Hard   \n",
       "2711  2021-M-DC-2021-WG2-M-TUR-LAT-01  Davis Cup WG2 R1: TUR vs LAT    Hard   \n",
       "\n",
       "      draw_size tourney_level  tourney_date  match_num  winner_id  \\\n",
       "0            32             A      20210104        300     128034   \n",
       "1            32             A      20210104        299     128034   \n",
       "2            32             A      20210104        298     200624   \n",
       "3            32             A      20210104        297     106328   \n",
       "4            32             A      20210104        296     128034   \n",
       "...         ...           ...           ...        ...        ...   \n",
       "2707          4             D      20210917          2     200416   \n",
       "2708          4             D      20210917          4     200416   \n",
       "2709          4             D      20210917          5     208937   \n",
       "2710          4             D      20210918          1     123795   \n",
       "2711          4             D      20210918          2     117356   \n",
       "\n",
       "      winner_seed winner_entry  ... l_1stIn l_1stWon  l_2ndWon l_SvGms  \\\n",
       "0             4.0          NaN  ...    33.0     20.0       9.0     9.0   \n",
       "1             4.0          NaN  ...    46.0     29.0      13.0    11.0   \n",
       "2             NaN          NaN  ...    35.0     25.0       7.0    10.0   \n",
       "3             NaN            Q  ...    45.0     34.0      18.0    11.0   \n",
       "4             4.0          NaN  ...    43.0     28.0      10.0    10.0   \n",
       "...           ...          ...  ...     ...      ...       ...     ...   \n",
       "2707          NaN          NaN  ...    57.0     38.0      15.0    14.0   \n",
       "2708          NaN          NaN  ...    45.0     30.0      14.0    10.0   \n",
       "2709          NaN          NaN  ...    43.0     24.0      13.0    10.0   \n",
       "2710          NaN          NaN  ...    50.0     34.0      20.0    11.0   \n",
       "2711          NaN          NaN  ...    21.0     16.0       7.0     8.0   \n",
       "\n",
       "      l_bpSaved  l_bpFaced  winner_rank winner_rank_points loser_rank  \\\n",
       "0           1.0        5.0         35.0             1518.0      119.0   \n",
       "1           3.0        5.0         35.0             1518.0      789.0   \n",
       "2           2.0        6.0        119.0              566.0       74.0   \n",
       "3           9.0       11.0        789.0               22.0      101.0   \n",
       "4           7.0       10.0         35.0             1518.0      293.0   \n",
       "...         ...        ...          ...                ...        ...   \n",
       "2707        5.0       11.0        905.0               16.0     1136.0   \n",
       "2708       10.0       13.0        905.0               16.0      767.0   \n",
       "2709        5.0       11.0       1136.0                8.0     1546.0   \n",
       "2710        6.0        9.0        170.0              427.0      671.0   \n",
       "2711        2.0        7.0        176.0              408.0      196.0   \n",
       "\n",
       "     loser_rank_points  \n",
       "0                566.0  \n",
       "1                 22.0  \n",
       "2                877.0  \n",
       "3                733.0  \n",
       "4                171.0  \n",
       "...                ...  \n",
       "2707               8.0  \n",
       "2708              27.0  \n",
       "2709               2.0  \n",
       "2710              38.0  \n",
       "2711             359.0  \n",
       "\n",
       "[2687 rows x 49 columns]"
      ]
     },
     "execution_count": 12,
     "metadata": {},
     "output_type": "execute_result"
    }
   ],
   "source": [
    "dados.dropna(axis=1, how= 'all')"
   ]
  },
  {
   "cell_type": "markdown",
   "metadata": {
    "id": "bUJOPHAhVRPq"
   },
   "source": [
    "###Alterar valor dos dados nulos em uma coluna"
   ]
  },
  {
   "cell_type": "code",
   "execution_count": 13,
   "metadata": {
    "colab": {
     "base_uri": "https://localhost:8080/"
    },
    "executionInfo": {
     "elapsed": 408,
     "status": "ok",
     "timestamp": 1633209986184,
     "user": {
      "displayName": "Jose Eduardo Santarem Segundo",
      "photoUrl": "https://lh3.googleusercontent.com/a-/AOh14GjLWfnjBdxVqYk-cgCgmPPwQImjjL3LNJ8YGfE=s64",
      "userId": "13621550804954747560"
     },
     "user_tz": 180
    },
    "id": "BRyjiSBdVRrP",
    "outputId": "f8670157-64d3-4133-eb71-ca506b4aa537"
   },
   "outputs": [
    {
     "data": {
      "text/plain": [
       "array([nan, 'Q', 'WC', 'Alt', 'PR', 'LL', 'SE'], dtype=object)"
      ]
     },
     "execution_count": 13,
     "metadata": {},
     "output_type": "execute_result"
    }
   ],
   "source": [
    "dados['loser_entry'].unique()"
   ]
  },
  {
   "cell_type": "code",
   "execution_count": 14,
   "metadata": {
    "executionInfo": {
     "elapsed": 412,
     "status": "ok",
     "timestamp": 1633210018337,
     "user": {
      "displayName": "Jose Eduardo Santarem Segundo",
      "photoUrl": "https://lh3.googleusercontent.com/a-/AOh14GjLWfnjBdxVqYk-cgCgmPPwQImjjL3LNJ8YGfE=s64",
      "userId": "13621550804954747560"
     },
     "user_tz": 180
    },
    "id": "RedYVNqTVYK1"
   },
   "outputs": [],
   "source": [
    "dados['loser_entry'].fillna(value='X',inplace=True)"
   ]
  },
  {
   "cell_type": "code",
   "execution_count": 15,
   "metadata": {
    "colab": {
     "base_uri": "https://localhost:8080/"
    },
    "executionInfo": {
     "elapsed": 412,
     "status": "ok",
     "timestamp": 1633210021819,
     "user": {
      "displayName": "Jose Eduardo Santarem Segundo",
      "photoUrl": "https://lh3.googleusercontent.com/a-/AOh14GjLWfnjBdxVqYk-cgCgmPPwQImjjL3LNJ8YGfE=s64",
      "userId": "13621550804954747560"
     },
     "user_tz": 180
    },
    "id": "zeR7K1IQVYQM",
    "outputId": "65f06093-582c-4389-8e32-b0abc8241d2e"
   },
   "outputs": [
    {
     "data": {
      "text/plain": [
       "array(['X', 'Q', 'WC', 'Alt', 'PR', 'LL', 'SE'], dtype=object)"
      ]
     },
     "execution_count": 15,
     "metadata": {},
     "output_type": "execute_result"
    }
   ],
   "source": [
    "dados['loser_entry'].unique()"
   ]
  },
  {
   "cell_type": "markdown",
   "metadata": {
    "id": "iEjQb5X7VYfu"
   },
   "source": [
    "###Alterar mais de um atributo, com condições diferentes"
   ]
  },
  {
   "cell_type": "code",
   "execution_count": 16,
   "metadata": {
    "colab": {
     "base_uri": "https://localhost:8080/"
    },
    "executionInfo": {
     "elapsed": 575,
     "status": "ok",
     "timestamp": 1633210038205,
     "user": {
      "displayName": "Jose Eduardo Santarem Segundo",
      "photoUrl": "https://lh3.googleusercontent.com/a-/AOh14GjLWfnjBdxVqYk-cgCgmPPwQImjjL3LNJ8YGfE=s64",
      "userId": "13621550804954747560"
     },
     "user_tz": 180
    },
    "id": "p-EVcGoTVteV",
    "outputId": "deca176a-bdcf-479f-c89c-ccd27a142cd9"
   },
   "outputs": [
    {
     "data": {
      "text/plain": [
       "array([ 4.,  7.,  6.,  2.,  5.,  3., 22., 10.,  9., 13., 27.,  0.,  8.,\n",
       "        1., 15., 12., nan, 11., 14., 23., 17., 16., 18., 41., 26., 19.,\n",
       "       21., 30., 25., 20., 29., 32., 28., 24., 34., 36., 44., 33., 49.,\n",
       "       31.])"
      ]
     },
     "execution_count": 16,
     "metadata": {},
     "output_type": "execute_result"
    }
   ],
   "source": [
    "dados['w_ace'].unique()"
   ]
  },
  {
   "cell_type": "code",
   "execution_count": 17,
   "metadata": {
    "colab": {
     "base_uri": "https://localhost:8080/"
    },
    "executionInfo": {
     "elapsed": 361,
     "status": "ok",
     "timestamp": 1633210066415,
     "user": {
      "displayName": "Jose Eduardo Santarem Segundo",
      "photoUrl": "https://lh3.googleusercontent.com/a-/AOh14GjLWfnjBdxVqYk-cgCgmPPwQImjjL3LNJ8YGfE=s64",
      "userId": "13621550804954747560"
     },
     "user_tz": 180
    },
    "id": "9DrQ8caLVt5R",
    "outputId": "aa6f4aff-1e91-47b0-e307-274f5948b617"
   },
   "outputs": [
    {
     "data": {
      "text/plain": [
       "array([196.  ,    nan, 188.  , 185.  , 193.  , 206.  , 198.  , 191.  ,\n",
       "       208.  , 183.  , 180.  , 178.  , 175.  , 190.  , 181.  , 211.  ,\n",
       "       203.  , 173.  , 170.  , 172.  ,   1.83])"
      ]
     },
     "execution_count": 17,
     "metadata": {},
     "output_type": "execute_result"
    }
   ],
   "source": [
    "dados['loser_ht'].unique()"
   ]
  },
  {
   "cell_type": "markdown",
   "metadata": {},
   "source": [
    "Trecho de código abaixo vamos substituir os valores da coluna  w_ace = 0 pela média dos valores dessa coluna."
   ]
  },
  {
   "cell_type": "code",
   "execution_count": 18,
   "metadata": {
    "executionInfo": {
     "elapsed": 565,
     "status": "ok",
     "timestamp": 1633210118639,
     "user": {
      "displayName": "Jose Eduardo Santarem Segundo",
      "photoUrl": "https://lh3.googleusercontent.com/a-/AOh14GjLWfnjBdxVqYk-cgCgmPPwQImjjL3LNJ8YGfE=s64",
      "userId": "13621550804954747560"
     },
     "user_tz": 180
    },
    "id": "ccqDsqM0VuA0"
   },
   "outputs": [],
   "source": [
    "dados.fillna(value={'w_ace':0,'loser_ht':dados['loser_ht'].mean()},inplace=True)"
   ]
  },
  {
   "cell_type": "code",
   "execution_count": 19,
   "metadata": {
    "colab": {
     "base_uri": "https://localhost:8080/"
    },
    "executionInfo": {
     "elapsed": 442,
     "status": "ok",
     "timestamp": 1633210123431,
     "user": {
      "displayName": "Jose Eduardo Santarem Segundo",
      "photoUrl": "https://lh3.googleusercontent.com/a-/AOh14GjLWfnjBdxVqYk-cgCgmPPwQImjjL3LNJ8YGfE=s64",
      "userId": "13621550804954747560"
     },
     "user_tz": 180
    },
    "id": "q7rL2uzyVuJP",
    "outputId": "a27d3473-508a-45f7-bc90-828079378dd3"
   },
   "outputs": [
    {
     "data": {
      "text/plain": [
       "array([ 4.,  7.,  6.,  2.,  5.,  3., 22., 10.,  9., 13., 27.,  0.,  8.,\n",
       "        1., 15., 12., 11., 14., 23., 17., 16., 18., 41., 26., 19., 21.,\n",
       "       30., 25., 20., 29., 32., 28., 24., 34., 36., 44., 33., 49., 31.])"
      ]
     },
     "execution_count": 19,
     "metadata": {},
     "output_type": "execute_result"
    }
   ],
   "source": [
    "dados['w_ace'].unique()"
   ]
  },
  {
   "cell_type": "code",
   "execution_count": 20,
   "metadata": {
    "colab": {
     "base_uri": "https://localhost:8080/"
    },
    "executionInfo": {
     "elapsed": 2097,
     "status": "ok",
     "timestamp": 1633210133031,
     "user": {
      "displayName": "Jose Eduardo Santarem Segundo",
      "photoUrl": "https://lh3.googleusercontent.com/a-/AOh14GjLWfnjBdxVqYk-cgCgmPPwQImjjL3LNJ8YGfE=s64",
      "userId": "13621550804954747560"
     },
     "user_tz": 180
    },
    "id": "cr7sRUmOVuSY",
    "outputId": "755ec2c7-d4e3-4400-e95c-d9db49a65521"
   },
   "outputs": [
    {
     "data": {
      "text/plain": [
       "array([196.        , 186.90294145, 188.        , 185.        ,\n",
       "       193.        , 206.        , 198.        , 191.        ,\n",
       "       208.        , 183.        , 180.        , 178.        ,\n",
       "       175.        , 190.        , 181.        , 211.        ,\n",
       "       203.        , 173.        , 170.        , 172.        ,\n",
       "         1.83      ])"
      ]
     },
     "execution_count": 20,
     "metadata": {},
     "output_type": "execute_result"
    }
   ],
   "source": [
    "dados['loser_ht'].unique()"
   ]
  },
  {
   "cell_type": "markdown",
   "metadata": {
    "id": "gX0oqTVeVuqI"
   },
   "source": [
    "###Usar o método ffill para projetar um dado para o registro seguinte"
   ]
  },
  {
   "cell_type": "markdown",
   "metadata": {},
   "source": [
    "Sinônimo de DataFrame.fillna()com method='ffill'.\n",
    "Devoluções\n",
    "Series / DataFrame ou Nenhum\n",
    "Objeto com valores ausentes preenchidos ou Nenhum se inplace=True.\n",
    "\n",
    "Método ffill para projetar um dado para o registro seguinte, ou seja, eu pego um dado que está nulo. Pegar o dado do registro anterior e coloco nele. As vezes é um dados de uma série temporal."
   ]
  },
  {
   "cell_type": "markdown",
   "metadata": {},
   "source": [
    "Método ffill  vai substituir o valor NaN do ano 1984 e substituir pelo valor anterior(1983). o mesmo vai acontecer com valor de 1988."
   ]
  },
  {
   "cell_type": "code",
   "execution_count": 21,
   "metadata": {
    "colab": {
     "base_uri": "https://localhost:8080/"
    },
    "executionInfo": {
     "elapsed": 575,
     "status": "ok",
     "timestamp": 1633210168414,
     "user": {
      "displayName": "Jose Eduardo Santarem Segundo",
      "photoUrl": "https://lh3.googleusercontent.com/a-/AOh14GjLWfnjBdxVqYk-cgCgmPPwQImjjL3LNJ8YGfE=s64",
      "userId": "13621550804954747560"
     },
     "user_tz": 180
    },
    "id": "kgASzvR0V0bE",
    "outputId": "0b178974-9513-4eed-9275-6cc54beace9d"
   },
   "outputs": [
    {
     "data": {
      "text/plain": [
       "1981    128.0\n",
       "1982     98.0\n",
       "1983    119.0\n",
       "1984      NaN\n",
       "1985    141.0\n",
       "1986     98.0\n",
       "1987    127.0\n",
       "1988      NaN\n",
       "1989     98.0\n",
       "1990     83.0\n",
       "1991    135.0\n",
       "1992     85.0\n",
       "1993    140.0\n",
       "1994    144.0\n",
       "1995    131.0\n",
       "Name: minutes, dtype: float64"
      ]
     },
     "execution_count": 21,
     "metadata": {},
     "output_type": "execute_result"
    }
   ],
   "source": [
    "dados['minutes'][1975:1990]"
   ]
  },
  {
   "cell_type": "code",
   "execution_count": 22,
   "metadata": {
    "executionInfo": {
     "elapsed": 413,
     "status": "ok",
     "timestamp": 1633210197331,
     "user": {
      "displayName": "Jose Eduardo Santarem Segundo",
      "photoUrl": "https://lh3.googleusercontent.com/a-/AOh14GjLWfnjBdxVqYk-cgCgmPPwQImjjL3LNJ8YGfE=s64",
      "userId": "13621550804954747560"
     },
     "user_tz": 180
    },
    "id": "XgZc1UbIV5mT"
   },
   "outputs": [],
   "source": [
    "dados['minutes'].fillna(method='ffill',inplace=True)"
   ]
  },
  {
   "cell_type": "code",
   "execution_count": 23,
   "metadata": {
    "colab": {
     "base_uri": "https://localhost:8080/"
    },
    "executionInfo": {
     "elapsed": 3,
     "status": "ok",
     "timestamp": 1633210199992,
     "user": {
      "displayName": "Jose Eduardo Santarem Segundo",
      "photoUrl": "https://lh3.googleusercontent.com/a-/AOh14GjLWfnjBdxVqYk-cgCgmPPwQImjjL3LNJ8YGfE=s64",
      "userId": "13621550804954747560"
     },
     "user_tz": 180
    },
    "id": "THPuR4KUV5uA",
    "outputId": "1ad501f7-a6f8-4455-ad83-5e370687f079"
   },
   "outputs": [
    {
     "data": {
      "text/plain": [
       "1981    128.0\n",
       "1982     98.0\n",
       "1983    119.0\n",
       "1984    119.0\n",
       "1985    141.0\n",
       "1986     98.0\n",
       "1987    127.0\n",
       "1988    127.0\n",
       "1989     98.0\n",
       "1990     83.0\n",
       "1991    135.0\n",
       "1992     85.0\n",
       "1993    140.0\n",
       "1994    144.0\n",
       "1995    131.0\n",
       "Name: minutes, dtype: float64"
      ]
     },
     "execution_count": 23,
     "metadata": {},
     "output_type": "execute_result"
    }
   ],
   "source": [
    "dados['minutes'][1975:1990]"
   ]
  },
  {
   "cell_type": "markdown",
   "metadata": {
    "id": "KAvne3QuV58E"
   },
   "source": [
    "###Identificar duplicados"
   ]
  },
  {
   "cell_type": "code",
   "execution_count": 24,
   "metadata": {
    "colab": {
     "base_uri": "https://localhost:8080/"
    },
    "executionInfo": {
     "elapsed": 504,
     "status": "ok",
     "timestamp": 1633210215835,
     "user": {
      "displayName": "Jose Eduardo Santarem Segundo",
      "photoUrl": "https://lh3.googleusercontent.com/a-/AOh14GjLWfnjBdxVqYk-cgCgmPPwQImjjL3LNJ8YGfE=s64",
      "userId": "13621550804954747560"
     },
     "user_tz": 180
    },
    "id": "7Fuo8lKWV6XS",
    "outputId": "1a7b64a5-c414-462e-c76c-2de31b300d8f"
   },
   "outputs": [
    {
     "data": {
      "text/plain": [
       "0       False\n",
       "1       False\n",
       "2       False\n",
       "3       False\n",
       "4       False\n",
       "        ...  \n",
       "2707    False\n",
       "2708    False\n",
       "2709    False\n",
       "2710    False\n",
       "2711    False\n",
       "Length: 2687, dtype: bool"
      ]
     },
     "execution_count": 24,
     "metadata": {},
     "output_type": "execute_result"
    }
   ],
   "source": [
    "dados.duplicated()"
   ]
  },
  {
   "cell_type": "code",
   "execution_count": 25,
   "metadata": {
    "colab": {
     "base_uri": "https://localhost:8080/"
    },
    "executionInfo": {
     "elapsed": 408,
     "status": "ok",
     "timestamp": 1633210229071,
     "user": {
      "displayName": "Jose Eduardo Santarem Segundo",
      "photoUrl": "https://lh3.googleusercontent.com/a-/AOh14GjLWfnjBdxVqYk-cgCgmPPwQImjjL3LNJ8YGfE=s64",
      "userId": "13621550804954747560"
     },
     "user_tz": 180
    },
    "id": "X1ZpnjkFXcaH",
    "outputId": "d3ac1a70-5e21-4944-c766-b0478a2c1f2b"
   },
   "outputs": [
    {
     "data": {
      "text/plain": [
       "0"
      ]
     },
     "execution_count": 25,
     "metadata": {},
     "output_type": "execute_result"
    }
   ],
   "source": [
    "dados.duplicated().sum()"
   ]
  },
  {
   "cell_type": "markdown",
   "metadata": {
    "id": "z40BlNwuXcpv"
   },
   "source": [
    "###Eliminar duplicados de uma coluna (nem sempre se quer realmente fazer isso, cuidado)"
   ]
  },
  {
   "cell_type": "code",
   "execution_count": 26,
   "metadata": {
    "executionInfo": {
     "elapsed": 387,
     "status": "ok",
     "timestamp": 1633210289468,
     "user": {
      "displayName": "Jose Eduardo Santarem Segundo",
      "photoUrl": "https://lh3.googleusercontent.com/a-/AOh14GjLWfnjBdxVqYk-cgCgmPPwQImjjL3LNJ8YGfE=s64",
      "userId": "13621550804954747560"
     },
     "user_tz": 180
    },
    "id": "AzNt32QLXdK5"
   },
   "outputs": [],
   "source": [
    "dados.drop_duplicates(subset=['tourney_name'],inplace=True)"
   ]
  },
  {
   "cell_type": "code",
   "execution_count": 27,
   "metadata": {
    "colab": {
     "base_uri": "https://localhost:8080/"
    },
    "executionInfo": {
     "elapsed": 407,
     "status": "ok",
     "timestamp": 1633210292355,
     "user": {
      "displayName": "Jose Eduardo Santarem Segundo",
      "photoUrl": "https://lh3.googleusercontent.com/a-/AOh14GjLWfnjBdxVqYk-cgCgmPPwQImjjL3LNJ8YGfE=s64",
      "userId": "13621550804954747560"
     },
     "user_tz": 180
    },
    "id": "bsgPifJwXfJg",
    "outputId": "8e54f623-40cb-4c16-d178-2ea320ab6f05"
   },
   "outputs": [
    {
     "data": {
      "text/plain": [
       "0               Delray Beach\n",
       "27                   Antalya\n",
       "58     Great Ocean Road Open\n",
       "113        Murray River Open\n",
       "168                  Atp Cup\n",
       "198          Australian Open\n",
       "325                  Cordoba\n",
       "352                Singapore\n",
       "379              Montpellier\n",
       "406             Buenos Aires\n",
       "Name: tourney_name, dtype: object"
      ]
     },
     "execution_count": 27,
     "metadata": {},
     "output_type": "execute_result"
    }
   ],
   "source": [
    "dados['tourney_name'].head(10)"
   ]
  },
  {
   "cell_type": "code",
   "execution_count": 28,
   "metadata": {
    "colab": {
     "base_uri": "https://localhost:8080/",
     "height": 315
    },
    "executionInfo": {
     "elapsed": 419,
     "status": "ok",
     "timestamp": 1633210307521,
     "user": {
      "displayName": "Jose Eduardo Santarem Segundo",
      "photoUrl": "https://lh3.googleusercontent.com/a-/AOh14GjLWfnjBdxVqYk-cgCgmPPwQImjjL3LNJ8YGfE=s64",
      "userId": "13621550804954747560"
     },
     "user_tz": 180
    },
    "id": "s2FWiwr-3V-s",
    "outputId": "81a8081a-8d39-4287-9767-c0daa901eac0"
   },
   "outputs": [
    {
     "data": {
      "text/html": [
       "<div>\n",
       "<style scoped>\n",
       "    .dataframe tbody tr th:only-of-type {\n",
       "        vertical-align: middle;\n",
       "    }\n",
       "\n",
       "    .dataframe tbody tr th {\n",
       "        vertical-align: top;\n",
       "    }\n",
       "\n",
       "    .dataframe thead th {\n",
       "        text-align: right;\n",
       "    }\n",
       "</style>\n",
       "<table border=\"1\" class=\"dataframe\">\n",
       "  <thead>\n",
       "    <tr style=\"text-align: right;\">\n",
       "      <th></th>\n",
       "      <th>draw_size</th>\n",
       "      <th>tourney_date</th>\n",
       "      <th>match_num</th>\n",
       "      <th>winner_id</th>\n",
       "      <th>winner_seed</th>\n",
       "      <th>winner_ht</th>\n",
       "      <th>winner_age</th>\n",
       "      <th>loser_id</th>\n",
       "      <th>loser_seed</th>\n",
       "      <th>loser_ht</th>\n",
       "      <th>...</th>\n",
       "      <th>l_1stIn</th>\n",
       "      <th>l_1stWon</th>\n",
       "      <th>l_2ndWon</th>\n",
       "      <th>l_SvGms</th>\n",
       "      <th>l_bpSaved</th>\n",
       "      <th>l_bpFaced</th>\n",
       "      <th>winner_rank</th>\n",
       "      <th>winner_rank_points</th>\n",
       "      <th>loser_rank</th>\n",
       "      <th>loser_rank_points</th>\n",
       "    </tr>\n",
       "  </thead>\n",
       "  <tbody>\n",
       "    <tr>\n",
       "      <th>count</th>\n",
       "      <td>102.000000</td>\n",
       "      <td>1.020000e+02</td>\n",
       "      <td>102.000000</td>\n",
       "      <td>102.000000</td>\n",
       "      <td>52.000000</td>\n",
       "      <td>86.000000</td>\n",
       "      <td>102.000000</td>\n",
       "      <td>102.00000</td>\n",
       "      <td>32.00000</td>\n",
       "      <td>102.000000</td>\n",
       "      <td>...</td>\n",
       "      <td>98.000000</td>\n",
       "      <td>98.000000</td>\n",
       "      <td>98.000000</td>\n",
       "      <td>98.000000</td>\n",
       "      <td>98.000000</td>\n",
       "      <td>98.000000</td>\n",
       "      <td>101.000000</td>\n",
       "      <td>101.000000</td>\n",
       "      <td>102.000000</td>\n",
       "      <td>102.000000</td>\n",
       "    </tr>\n",
       "    <tr>\n",
       "      <th>mean</th>\n",
       "      <td>30.274510</td>\n",
       "      <td>2.021074e+07</td>\n",
       "      <td>180.764706</td>\n",
       "      <td>133268.029412</td>\n",
       "      <td>3.461538</td>\n",
       "      <td>188.116279</td>\n",
       "      <td>26.451719</td>\n",
       "      <td>134004.77451</td>\n",
       "      <td>4.90625</td>\n",
       "      <td>188.205796</td>\n",
       "      <td>...</td>\n",
       "      <td>47.183673</td>\n",
       "      <td>30.153061</td>\n",
       "      <td>12.357143</td>\n",
       "      <td>10.959184</td>\n",
       "      <td>4.357143</td>\n",
       "      <td>8.000000</td>\n",
       "      <td>84.910891</td>\n",
       "      <td>2954.524752</td>\n",
       "      <td>181.186275</td>\n",
       "      <td>1690.441176</td>\n",
       "    </tr>\n",
       "    <tr>\n",
       "      <th>std</th>\n",
       "      <td>31.737836</td>\n",
       "      <td>3.231568e+02</td>\n",
       "      <td>144.438083</td>\n",
       "      <td>38036.661836</td>\n",
       "      <td>4.543738</td>\n",
       "      <td>6.915317</td>\n",
       "      <td>5.086951</td>\n",
       "      <td>38346.36714</td>\n",
       "      <td>5.72690</td>\n",
       "      <td>5.841122</td>\n",
       "      <td>...</td>\n",
       "      <td>19.641292</td>\n",
       "      <td>12.929110</td>\n",
       "      <td>5.378939</td>\n",
       "      <td>2.970363</td>\n",
       "      <td>3.561680</td>\n",
       "      <td>4.538495</td>\n",
       "      <td>139.960001</td>\n",
       "      <td>3246.627936</td>\n",
       "      <td>296.130448</td>\n",
       "      <td>2301.942432</td>\n",
       "    </tr>\n",
       "    <tr>\n",
       "      <th>min</th>\n",
       "      <td>2.000000</td>\n",
       "      <td>2.021010e+07</td>\n",
       "      <td>1.000000</td>\n",
       "      <td>100644.000000</td>\n",
       "      <td>1.000000</td>\n",
       "      <td>170.000000</td>\n",
       "      <td>18.206708</td>\n",
       "      <td>104291.00000</td>\n",
       "      <td>1.00000</td>\n",
       "      <td>170.000000</td>\n",
       "      <td>...</td>\n",
       "      <td>2.000000</td>\n",
       "      <td>0.000000</td>\n",
       "      <td>2.000000</td>\n",
       "      <td>1.000000</td>\n",
       "      <td>0.000000</td>\n",
       "      <td>1.000000</td>\n",
       "      <td>1.000000</td>\n",
       "      <td>9.000000</td>\n",
       "      <td>1.000000</td>\n",
       "      <td>1.000000</td>\n",
       "    </tr>\n",
       "    <tr>\n",
       "      <th>25%</th>\n",
       "      <td>4.000000</td>\n",
       "      <td>2.021043e+07</td>\n",
       "      <td>1.000000</td>\n",
       "      <td>105559.250000</td>\n",
       "      <td>1.000000</td>\n",
       "      <td>183.500000</td>\n",
       "      <td>22.735797</td>\n",
       "      <td>105750.75000</td>\n",
       "      <td>2.00000</td>\n",
       "      <td>185.475735</td>\n",
       "      <td>...</td>\n",
       "      <td>35.250000</td>\n",
       "      <td>22.250000</td>\n",
       "      <td>8.250000</td>\n",
       "      <td>9.000000</td>\n",
       "      <td>2.000000</td>\n",
       "      <td>6.000000</td>\n",
       "      <td>10.000000</td>\n",
       "      <td>708.000000</td>\n",
       "      <td>28.000000</td>\n",
       "      <td>315.750000</td>\n",
       "    </tr>\n",
       "    <tr>\n",
       "      <th>50%</th>\n",
       "      <td>32.000000</td>\n",
       "      <td>2.021081e+07</td>\n",
       "      <td>300.000000</td>\n",
       "      <td>123046.500000</td>\n",
       "      <td>2.000000</td>\n",
       "      <td>188.000000</td>\n",
       "      <td>25.017112</td>\n",
       "      <td>111815.00000</td>\n",
       "      <td>3.00000</td>\n",
       "      <td>186.902941</td>\n",
       "      <td>...</td>\n",
       "      <td>45.000000</td>\n",
       "      <td>28.000000</td>\n",
       "      <td>12.500000</td>\n",
       "      <td>10.000000</td>\n",
       "      <td>4.000000</td>\n",
       "      <td>8.000000</td>\n",
       "      <td>32.000000</td>\n",
       "      <td>1718.000000</td>\n",
       "      <td>65.500000</td>\n",
       "      <td>1002.000000</td>\n",
       "    </tr>\n",
       "    <tr>\n",
       "      <th>75%</th>\n",
       "      <td>32.000000</td>\n",
       "      <td>2.021102e+07</td>\n",
       "      <td>300.000000</td>\n",
       "      <td>134770.000000</td>\n",
       "      <td>4.000000</td>\n",
       "      <td>193.000000</td>\n",
       "      <td>29.934292</td>\n",
       "      <td>144684.00000</td>\n",
       "      <td>5.25000</td>\n",
       "      <td>188.000000</td>\n",
       "      <td>...</td>\n",
       "      <td>57.750000</td>\n",
       "      <td>38.000000</td>\n",
       "      <td>15.750000</td>\n",
       "      <td>13.000000</td>\n",
       "      <td>6.000000</td>\n",
       "      <td>10.000000</td>\n",
       "      <td>113.000000</td>\n",
       "      <td>3440.000000</td>\n",
       "      <td>211.500000</td>\n",
       "      <td>1934.500000</td>\n",
       "    </tr>\n",
       "    <tr>\n",
       "      <th>max</th>\n",
       "      <td>128.000000</td>\n",
       "      <td>2.021113e+07</td>\n",
       "      <td>300.000000</td>\n",
       "      <td>209867.000000</td>\n",
       "      <td>26.000000</td>\n",
       "      <td>206.000000</td>\n",
       "      <td>40.172485</td>\n",
       "      <td>208029.00000</td>\n",
       "      <td>29.00000</td>\n",
       "      <td>211.000000</td>\n",
       "      <td>...</td>\n",
       "      <td>165.000000</td>\n",
       "      <td>90.000000</td>\n",
       "      <td>26.000000</td>\n",
       "      <td>17.000000</td>\n",
       "      <td>27.000000</td>\n",
       "      <td>38.000000</td>\n",
       "      <td>1083.000000</td>\n",
       "      <td>12113.000000</td>\n",
       "      <td>1921.000000</td>\n",
       "      <td>12113.000000</td>\n",
       "    </tr>\n",
       "  </tbody>\n",
       "</table>\n",
       "<p>8 rows × 35 columns</p>\n",
       "</div>"
      ],
      "text/plain": [
       "        draw_size  tourney_date   match_num      winner_id  winner_seed  \\\n",
       "count  102.000000  1.020000e+02  102.000000     102.000000    52.000000   \n",
       "mean    30.274510  2.021074e+07  180.764706  133268.029412     3.461538   \n",
       "std     31.737836  3.231568e+02  144.438083   38036.661836     4.543738   \n",
       "min      2.000000  2.021010e+07    1.000000  100644.000000     1.000000   \n",
       "25%      4.000000  2.021043e+07    1.000000  105559.250000     1.000000   \n",
       "50%     32.000000  2.021081e+07  300.000000  123046.500000     2.000000   \n",
       "75%     32.000000  2.021102e+07  300.000000  134770.000000     4.000000   \n",
       "max    128.000000  2.021113e+07  300.000000  209867.000000    26.000000   \n",
       "\n",
       "        winner_ht  winner_age      loser_id  loser_seed    loser_ht  ...  \\\n",
       "count   86.000000  102.000000     102.00000    32.00000  102.000000  ...   \n",
       "mean   188.116279   26.451719  134004.77451     4.90625  188.205796  ...   \n",
       "std      6.915317    5.086951   38346.36714     5.72690    5.841122  ...   \n",
       "min    170.000000   18.206708  104291.00000     1.00000  170.000000  ...   \n",
       "25%    183.500000   22.735797  105750.75000     2.00000  185.475735  ...   \n",
       "50%    188.000000   25.017112  111815.00000     3.00000  186.902941  ...   \n",
       "75%    193.000000   29.934292  144684.00000     5.25000  188.000000  ...   \n",
       "max    206.000000   40.172485  208029.00000    29.00000  211.000000  ...   \n",
       "\n",
       "          l_1stIn   l_1stWon   l_2ndWon    l_SvGms  l_bpSaved  l_bpFaced  \\\n",
       "count   98.000000  98.000000  98.000000  98.000000  98.000000  98.000000   \n",
       "mean    47.183673  30.153061  12.357143  10.959184   4.357143   8.000000   \n",
       "std     19.641292  12.929110   5.378939   2.970363   3.561680   4.538495   \n",
       "min      2.000000   0.000000   2.000000   1.000000   0.000000   1.000000   \n",
       "25%     35.250000  22.250000   8.250000   9.000000   2.000000   6.000000   \n",
       "50%     45.000000  28.000000  12.500000  10.000000   4.000000   8.000000   \n",
       "75%     57.750000  38.000000  15.750000  13.000000   6.000000  10.000000   \n",
       "max    165.000000  90.000000  26.000000  17.000000  27.000000  38.000000   \n",
       "\n",
       "       winner_rank  winner_rank_points   loser_rank  loser_rank_points  \n",
       "count   101.000000          101.000000   102.000000         102.000000  \n",
       "mean     84.910891         2954.524752   181.186275        1690.441176  \n",
       "std     139.960001         3246.627936   296.130448        2301.942432  \n",
       "min       1.000000            9.000000     1.000000           1.000000  \n",
       "25%      10.000000          708.000000    28.000000         315.750000  \n",
       "50%      32.000000         1718.000000    65.500000        1002.000000  \n",
       "75%     113.000000         3440.000000   211.500000        1934.500000  \n",
       "max    1083.000000        12113.000000  1921.000000       12113.000000  \n",
       "\n",
       "[8 rows x 35 columns]"
      ]
     },
     "execution_count": 28,
     "metadata": {},
     "output_type": "execute_result"
    }
   ],
   "source": [
    "dados.describe()"
   ]
  },
  {
   "cell_type": "markdown",
   "metadata": {
    "id": "zlakDDPCXzZN"
   },
   "source": [
    "#Vamos ver como fazer um deslocamento\n",
    "###Vamos importar os dados das ações da Apple\n",
    "###https://finance.yahoo.com/quote/AAPL/history/"
   ]
  },
  {
   "cell_type": "code",
   "execution_count": 29,
   "metadata": {
    "executionInfo": {
     "elapsed": 423,
     "status": "ok",
     "timestamp": 1633210346614,
     "user": {
      "displayName": "Jose Eduardo Santarem Segundo",
      "photoUrl": "https://lh3.googleusercontent.com/a-/AOh14GjLWfnjBdxVqYk-cgCgmPPwQImjjL3LNJ8YGfE=s64",
      "userId": "13621550804954747560"
     },
     "user_tz": 180
    },
    "id": "ZSiSYUs0XzxF"
   },
   "outputs": [
    {
     "ename": "FileNotFoundError",
     "evalue": "[Errno 2] No such file or directory: 'AAPL.csv'",
     "output_type": "error",
     "traceback": [
      "\u001b[1;31m---------------------------------------------------------------------------\u001b[0m",
      "\u001b[1;31mFileNotFoundError\u001b[0m                         Traceback (most recent call last)",
      "\u001b[1;32m~\\AppData\\Local\\Temp/ipykernel_6864/3039809669.py\u001b[0m in \u001b[0;36m<module>\u001b[1;34m\u001b[0m\n\u001b[1;32m----> 1\u001b[1;33m \u001b[0mdados2\u001b[0m\u001b[1;33m=\u001b[0m\u001b[0mpd\u001b[0m\u001b[1;33m.\u001b[0m\u001b[0mread_csv\u001b[0m\u001b[1;33m(\u001b[0m\u001b[1;34m\"AAPL.csv\"\u001b[0m\u001b[1;33m)\u001b[0m\u001b[1;33m\u001b[0m\u001b[1;33m\u001b[0m\u001b[0m\n\u001b[0m",
      "\u001b[1;32m~\\anaconda3\\lib\\site-packages\\pandas\\util\\_decorators.py\u001b[0m in \u001b[0;36mwrapper\u001b[1;34m(*args, **kwargs)\u001b[0m\n\u001b[0;32m    309\u001b[0m                     \u001b[0mstacklevel\u001b[0m\u001b[1;33m=\u001b[0m\u001b[0mstacklevel\u001b[0m\u001b[1;33m,\u001b[0m\u001b[1;33m\u001b[0m\u001b[1;33m\u001b[0m\u001b[0m\n\u001b[0;32m    310\u001b[0m                 )\n\u001b[1;32m--> 311\u001b[1;33m             \u001b[1;32mreturn\u001b[0m \u001b[0mfunc\u001b[0m\u001b[1;33m(\u001b[0m\u001b[1;33m*\u001b[0m\u001b[0margs\u001b[0m\u001b[1;33m,\u001b[0m \u001b[1;33m**\u001b[0m\u001b[0mkwargs\u001b[0m\u001b[1;33m)\u001b[0m\u001b[1;33m\u001b[0m\u001b[1;33m\u001b[0m\u001b[0m\n\u001b[0m\u001b[0;32m    312\u001b[0m \u001b[1;33m\u001b[0m\u001b[0m\n\u001b[0;32m    313\u001b[0m         \u001b[1;32mreturn\u001b[0m \u001b[0mwrapper\u001b[0m\u001b[1;33m\u001b[0m\u001b[1;33m\u001b[0m\u001b[0m\n",
      "\u001b[1;32m~\\anaconda3\\lib\\site-packages\\pandas\\io\\parsers\\readers.py\u001b[0m in \u001b[0;36mread_csv\u001b[1;34m(filepath_or_buffer, sep, delimiter, header, names, index_col, usecols, squeeze, prefix, mangle_dupe_cols, dtype, engine, converters, true_values, false_values, skipinitialspace, skiprows, skipfooter, nrows, na_values, keep_default_na, na_filter, verbose, skip_blank_lines, parse_dates, infer_datetime_format, keep_date_col, date_parser, dayfirst, cache_dates, iterator, chunksize, compression, thousands, decimal, lineterminator, quotechar, quoting, doublequote, escapechar, comment, encoding, encoding_errors, dialect, error_bad_lines, warn_bad_lines, on_bad_lines, delim_whitespace, low_memory, memory_map, float_precision, storage_options)\u001b[0m\n\u001b[0;32m    584\u001b[0m     \u001b[0mkwds\u001b[0m\u001b[1;33m.\u001b[0m\u001b[0mupdate\u001b[0m\u001b[1;33m(\u001b[0m\u001b[0mkwds_defaults\u001b[0m\u001b[1;33m)\u001b[0m\u001b[1;33m\u001b[0m\u001b[1;33m\u001b[0m\u001b[0m\n\u001b[0;32m    585\u001b[0m \u001b[1;33m\u001b[0m\u001b[0m\n\u001b[1;32m--> 586\u001b[1;33m     \u001b[1;32mreturn\u001b[0m \u001b[0m_read\u001b[0m\u001b[1;33m(\u001b[0m\u001b[0mfilepath_or_buffer\u001b[0m\u001b[1;33m,\u001b[0m \u001b[0mkwds\u001b[0m\u001b[1;33m)\u001b[0m\u001b[1;33m\u001b[0m\u001b[1;33m\u001b[0m\u001b[0m\n\u001b[0m\u001b[0;32m    587\u001b[0m \u001b[1;33m\u001b[0m\u001b[0m\n\u001b[0;32m    588\u001b[0m \u001b[1;33m\u001b[0m\u001b[0m\n",
      "\u001b[1;32m~\\anaconda3\\lib\\site-packages\\pandas\\io\\parsers\\readers.py\u001b[0m in \u001b[0;36m_read\u001b[1;34m(filepath_or_buffer, kwds)\u001b[0m\n\u001b[0;32m    480\u001b[0m \u001b[1;33m\u001b[0m\u001b[0m\n\u001b[0;32m    481\u001b[0m     \u001b[1;31m# Create the parser.\u001b[0m\u001b[1;33m\u001b[0m\u001b[1;33m\u001b[0m\u001b[0m\n\u001b[1;32m--> 482\u001b[1;33m     \u001b[0mparser\u001b[0m \u001b[1;33m=\u001b[0m \u001b[0mTextFileReader\u001b[0m\u001b[1;33m(\u001b[0m\u001b[0mfilepath_or_buffer\u001b[0m\u001b[1;33m,\u001b[0m \u001b[1;33m**\u001b[0m\u001b[0mkwds\u001b[0m\u001b[1;33m)\u001b[0m\u001b[1;33m\u001b[0m\u001b[1;33m\u001b[0m\u001b[0m\n\u001b[0m\u001b[0;32m    483\u001b[0m \u001b[1;33m\u001b[0m\u001b[0m\n\u001b[0;32m    484\u001b[0m     \u001b[1;32mif\u001b[0m \u001b[0mchunksize\u001b[0m \u001b[1;32mor\u001b[0m \u001b[0miterator\u001b[0m\u001b[1;33m:\u001b[0m\u001b[1;33m\u001b[0m\u001b[1;33m\u001b[0m\u001b[0m\n",
      "\u001b[1;32m~\\anaconda3\\lib\\site-packages\\pandas\\io\\parsers\\readers.py\u001b[0m in \u001b[0;36m__init__\u001b[1;34m(self, f, engine, **kwds)\u001b[0m\n\u001b[0;32m    809\u001b[0m             \u001b[0mself\u001b[0m\u001b[1;33m.\u001b[0m\u001b[0moptions\u001b[0m\u001b[1;33m[\u001b[0m\u001b[1;34m\"has_index_names\"\u001b[0m\u001b[1;33m]\u001b[0m \u001b[1;33m=\u001b[0m \u001b[0mkwds\u001b[0m\u001b[1;33m[\u001b[0m\u001b[1;34m\"has_index_names\"\u001b[0m\u001b[1;33m]\u001b[0m\u001b[1;33m\u001b[0m\u001b[1;33m\u001b[0m\u001b[0m\n\u001b[0;32m    810\u001b[0m \u001b[1;33m\u001b[0m\u001b[0m\n\u001b[1;32m--> 811\u001b[1;33m         \u001b[0mself\u001b[0m\u001b[1;33m.\u001b[0m\u001b[0m_engine\u001b[0m \u001b[1;33m=\u001b[0m \u001b[0mself\u001b[0m\u001b[1;33m.\u001b[0m\u001b[0m_make_engine\u001b[0m\u001b[1;33m(\u001b[0m\u001b[0mself\u001b[0m\u001b[1;33m.\u001b[0m\u001b[0mengine\u001b[0m\u001b[1;33m)\u001b[0m\u001b[1;33m\u001b[0m\u001b[1;33m\u001b[0m\u001b[0m\n\u001b[0m\u001b[0;32m    812\u001b[0m \u001b[1;33m\u001b[0m\u001b[0m\n\u001b[0;32m    813\u001b[0m     \u001b[1;32mdef\u001b[0m \u001b[0mclose\u001b[0m\u001b[1;33m(\u001b[0m\u001b[0mself\u001b[0m\u001b[1;33m)\u001b[0m\u001b[1;33m:\u001b[0m\u001b[1;33m\u001b[0m\u001b[1;33m\u001b[0m\u001b[0m\n",
      "\u001b[1;32m~\\anaconda3\\lib\\site-packages\\pandas\\io\\parsers\\readers.py\u001b[0m in \u001b[0;36m_make_engine\u001b[1;34m(self, engine)\u001b[0m\n\u001b[0;32m   1038\u001b[0m             )\n\u001b[0;32m   1039\u001b[0m         \u001b[1;31m# error: Too many arguments for \"ParserBase\"\u001b[0m\u001b[1;33m\u001b[0m\u001b[1;33m\u001b[0m\u001b[0m\n\u001b[1;32m-> 1040\u001b[1;33m         \u001b[1;32mreturn\u001b[0m \u001b[0mmapping\u001b[0m\u001b[1;33m[\u001b[0m\u001b[0mengine\u001b[0m\u001b[1;33m]\u001b[0m\u001b[1;33m(\u001b[0m\u001b[0mself\u001b[0m\u001b[1;33m.\u001b[0m\u001b[0mf\u001b[0m\u001b[1;33m,\u001b[0m \u001b[1;33m**\u001b[0m\u001b[0mself\u001b[0m\u001b[1;33m.\u001b[0m\u001b[0moptions\u001b[0m\u001b[1;33m)\u001b[0m  \u001b[1;31m# type: ignore[call-arg]\u001b[0m\u001b[1;33m\u001b[0m\u001b[1;33m\u001b[0m\u001b[0m\n\u001b[0m\u001b[0;32m   1041\u001b[0m \u001b[1;33m\u001b[0m\u001b[0m\n\u001b[0;32m   1042\u001b[0m     \u001b[1;32mdef\u001b[0m \u001b[0m_failover_to_python\u001b[0m\u001b[1;33m(\u001b[0m\u001b[0mself\u001b[0m\u001b[1;33m)\u001b[0m\u001b[1;33m:\u001b[0m\u001b[1;33m\u001b[0m\u001b[1;33m\u001b[0m\u001b[0m\n",
      "\u001b[1;32m~\\anaconda3\\lib\\site-packages\\pandas\\io\\parsers\\c_parser_wrapper.py\u001b[0m in \u001b[0;36m__init__\u001b[1;34m(self, src, **kwds)\u001b[0m\n\u001b[0;32m     49\u001b[0m \u001b[1;33m\u001b[0m\u001b[0m\n\u001b[0;32m     50\u001b[0m         \u001b[1;31m# open handles\u001b[0m\u001b[1;33m\u001b[0m\u001b[1;33m\u001b[0m\u001b[0m\n\u001b[1;32m---> 51\u001b[1;33m         \u001b[0mself\u001b[0m\u001b[1;33m.\u001b[0m\u001b[0m_open_handles\u001b[0m\u001b[1;33m(\u001b[0m\u001b[0msrc\u001b[0m\u001b[1;33m,\u001b[0m \u001b[0mkwds\u001b[0m\u001b[1;33m)\u001b[0m\u001b[1;33m\u001b[0m\u001b[1;33m\u001b[0m\u001b[0m\n\u001b[0m\u001b[0;32m     52\u001b[0m         \u001b[1;32massert\u001b[0m \u001b[0mself\u001b[0m\u001b[1;33m.\u001b[0m\u001b[0mhandles\u001b[0m \u001b[1;32mis\u001b[0m \u001b[1;32mnot\u001b[0m \u001b[1;32mNone\u001b[0m\u001b[1;33m\u001b[0m\u001b[1;33m\u001b[0m\u001b[0m\n\u001b[0;32m     53\u001b[0m \u001b[1;33m\u001b[0m\u001b[0m\n",
      "\u001b[1;32m~\\anaconda3\\lib\\site-packages\\pandas\\io\\parsers\\base_parser.py\u001b[0m in \u001b[0;36m_open_handles\u001b[1;34m(self, src, kwds)\u001b[0m\n\u001b[0;32m    220\u001b[0m         \u001b[0mLet\u001b[0m \u001b[0mthe\u001b[0m \u001b[0mreaders\u001b[0m \u001b[0mopen\u001b[0m \u001b[0mIOHandles\u001b[0m \u001b[0mafter\u001b[0m \u001b[0mthey\u001b[0m \u001b[0mare\u001b[0m \u001b[0mdone\u001b[0m \u001b[1;32mwith\u001b[0m \u001b[0mtheir\u001b[0m \u001b[0mpotential\u001b[0m \u001b[0mraises\u001b[0m\u001b[1;33m.\u001b[0m\u001b[1;33m\u001b[0m\u001b[1;33m\u001b[0m\u001b[0m\n\u001b[0;32m    221\u001b[0m         \"\"\"\n\u001b[1;32m--> 222\u001b[1;33m         self.handles = get_handle(\n\u001b[0m\u001b[0;32m    223\u001b[0m             \u001b[0msrc\u001b[0m\u001b[1;33m,\u001b[0m\u001b[1;33m\u001b[0m\u001b[1;33m\u001b[0m\u001b[0m\n\u001b[0;32m    224\u001b[0m             \u001b[1;34m\"r\"\u001b[0m\u001b[1;33m,\u001b[0m\u001b[1;33m\u001b[0m\u001b[1;33m\u001b[0m\u001b[0m\n",
      "\u001b[1;32m~\\anaconda3\\lib\\site-packages\\pandas\\io\\common.py\u001b[0m in \u001b[0;36mget_handle\u001b[1;34m(path_or_buf, mode, encoding, compression, memory_map, is_text, errors, storage_options)\u001b[0m\n\u001b[0;32m    700\u001b[0m         \u001b[1;32mif\u001b[0m \u001b[0mioargs\u001b[0m\u001b[1;33m.\u001b[0m\u001b[0mencoding\u001b[0m \u001b[1;32mand\u001b[0m \u001b[1;34m\"b\"\u001b[0m \u001b[1;32mnot\u001b[0m \u001b[1;32min\u001b[0m \u001b[0mioargs\u001b[0m\u001b[1;33m.\u001b[0m\u001b[0mmode\u001b[0m\u001b[1;33m:\u001b[0m\u001b[1;33m\u001b[0m\u001b[1;33m\u001b[0m\u001b[0m\n\u001b[0;32m    701\u001b[0m             \u001b[1;31m# Encoding\u001b[0m\u001b[1;33m\u001b[0m\u001b[1;33m\u001b[0m\u001b[0m\n\u001b[1;32m--> 702\u001b[1;33m             handle = open(\n\u001b[0m\u001b[0;32m    703\u001b[0m                 \u001b[0mhandle\u001b[0m\u001b[1;33m,\u001b[0m\u001b[1;33m\u001b[0m\u001b[1;33m\u001b[0m\u001b[0m\n\u001b[0;32m    704\u001b[0m                 \u001b[0mioargs\u001b[0m\u001b[1;33m.\u001b[0m\u001b[0mmode\u001b[0m\u001b[1;33m,\u001b[0m\u001b[1;33m\u001b[0m\u001b[1;33m\u001b[0m\u001b[0m\n",
      "\u001b[1;31mFileNotFoundError\u001b[0m: [Errno 2] No such file or directory: 'AAPL.csv'"
     ]
    }
   ],
   "source": [
    "dados2=pd.read_csv(\"AAPL.csv\")"
   ]
  },
  {
   "cell_type": "code",
   "execution_count": null,
   "metadata": {
    "colab": {
     "base_uri": "https://localhost:8080/",
     "height": 417
    },
    "executionInfo": {
     "elapsed": 10,
     "status": "ok",
     "timestamp": 1633210348896,
     "user": {
      "displayName": "Jose Eduardo Santarem Segundo",
      "photoUrl": "https://lh3.googleusercontent.com/a-/AOh14GjLWfnjBdxVqYk-cgCgmPPwQImjjL3LNJ8YGfE=s64",
      "userId": "13621550804954747560"
     },
     "user_tz": 180
    },
    "id": "fzqKq_6IYMmN",
    "outputId": "9b3309b3-22f4-44e5-8dba-efad4529e94b"
   },
   "outputs": [],
   "source": [
    "dados2"
   ]
  },
  {
   "cell_type": "code",
   "execution_count": null,
   "metadata": {
    "executionInfo": {
     "elapsed": 411,
     "status": "ok",
     "timestamp": 1633210400472,
     "user": {
      "displayName": "Jose Eduardo Santarem Segundo",
      "photoUrl": "https://lh3.googleusercontent.com/a-/AOh14GjLWfnjBdxVqYk-cgCgmPPwQImjjL3LNJ8YGfE=s64",
      "userId": "13621550804954747560"
     },
     "user_tz": 180
    },
    "id": "IyAgfp1yYMdm"
   },
   "outputs": [],
   "source": [
    "dados2['close_ontem']=dados2['Close'].shift(1)"
   ]
  },
  {
   "cell_type": "code",
   "execution_count": null,
   "metadata": {
    "colab": {
     "base_uri": "https://localhost:8080/",
     "height": 417
    },
    "executionInfo": {
     "elapsed": 418,
     "status": "ok",
     "timestamp": 1633210404439,
     "user": {
      "displayName": "Jose Eduardo Santarem Segundo",
      "photoUrl": "https://lh3.googleusercontent.com/a-/AOh14GjLWfnjBdxVqYk-cgCgmPPwQImjjL3LNJ8YGfE=s64",
      "userId": "13621550804954747560"
     },
     "user_tz": 180
    },
    "id": "KItC1v6yYMut",
    "outputId": "60927d78-ad8f-4ec0-a8f2-a27b7707fac7"
   },
   "outputs": [],
   "source": [
    "dados2"
   ]
  },
  {
   "cell_type": "markdown",
   "metadata": {
    "id": "AauuiQ4HYNEH"
   },
   "source": [
    "###Nova coluna com a porcentagem de alteração de um dia para o outro"
   ]
  },
  {
   "cell_type": "code",
   "execution_count": null,
   "metadata": {
    "executionInfo": {
     "elapsed": 617,
     "status": "ok",
     "timestamp": 1633210479523,
     "user": {
      "displayName": "Jose Eduardo Santarem Segundo",
      "photoUrl": "https://lh3.googleusercontent.com/a-/AOh14GjLWfnjBdxVqYk-cgCgmPPwQImjjL3LNJ8YGfE=s64",
      "userId": "13621550804954747560"
     },
     "user_tz": 180
    },
    "id": "KnNZws-GYW4q"
   },
   "outputs": [],
   "source": [
    "dados2['alteracao %']=((dados2['Close']/dados2['close_ontem'])-1)*100"
   ]
  },
  {
   "cell_type": "code",
   "execution_count": null,
   "metadata": {
    "colab": {
     "base_uri": "https://localhost:8080/",
     "height": 665
    },
    "executionInfo": {
     "elapsed": 531,
     "status": "ok",
     "timestamp": 1633210482715,
     "user": {
      "displayName": "Jose Eduardo Santarem Segundo",
      "photoUrl": "https://lh3.googleusercontent.com/a-/AOh14GjLWfnjBdxVqYk-cgCgmPPwQImjjL3LNJ8YGfE=s64",
      "userId": "13621550804954747560"
     },
     "user_tz": 180
    },
    "id": "17ZpdE2UY4vl",
    "outputId": "14f0ea59-5c93-4ddb-d144-8237e608db28"
   },
   "outputs": [],
   "source": [
    "dados2.head(20)"
   ]
  },
  {
   "cell_type": "code",
   "execution_count": null,
   "metadata": {
    "executionInfo": {
     "elapsed": 368,
     "status": "ok",
     "timestamp": 1633210529111,
     "user": {
      "displayName": "Jose Eduardo Santarem Segundo",
      "photoUrl": "https://lh3.googleusercontent.com/a-/AOh14GjLWfnjBdxVqYk-cgCgmPPwQImjjL3LNJ8YGfE=s64",
      "userId": "13621550804954747560"
     },
     "user_tz": 180
    },
    "id": "SZJ2Ihv5Y45P"
   },
   "outputs": [],
   "source": [
    "dados2.dropna(subset=['alteracao %'], inplace=True)"
   ]
  },
  {
   "cell_type": "code",
   "execution_count": null,
   "metadata": {
    "colab": {
     "base_uri": "https://localhost:8080/",
     "height": 417
    },
    "executionInfo": {
     "elapsed": 381,
     "status": "ok",
     "timestamp": 1633210533390,
     "user": {
      "displayName": "Jose Eduardo Santarem Segundo",
      "photoUrl": "https://lh3.googleusercontent.com/a-/AOh14GjLWfnjBdxVqYk-cgCgmPPwQImjjL3LNJ8YGfE=s64",
      "userId": "13621550804954747560"
     },
     "user_tz": 180
    },
    "id": "THt2Mx5PY5Bg",
    "outputId": "af14d91f-cb0b-4ead-e28d-ecaf64f1de3f"
   },
   "outputs": [],
   "source": [
    "dados2"
   ]
  },
  {
   "cell_type": "code",
   "execution_count": null,
   "metadata": {
    "colab": {
     "base_uri": "https://localhost:8080/",
     "height": 388
    },
    "executionInfo": {
     "elapsed": 505,
     "status": "ok",
     "timestamp": 1633210540190,
     "user": {
      "displayName": "Jose Eduardo Santarem Segundo",
      "photoUrl": "https://lh3.googleusercontent.com/a-/AOh14GjLWfnjBdxVqYk-cgCgmPPwQImjjL3LNJ8YGfE=s64",
      "userId": "13621550804954747560"
     },
     "user_tz": 180
    },
    "id": "lN6g9eEhY5Kp",
    "outputId": "9beaac4f-e991-4de2-8e45-54af9479d2a6"
   },
   "outputs": [],
   "source": [
    "dados2.describe(include = 'all')"
   ]
  },
  {
   "cell_type": "markdown",
   "metadata": {
    "id": "HE5Lgr4rY5dK"
   },
   "source": [
    "###Transformar dados categóricos (qualitativos) em dados numéricos"
   ]
  },
  {
   "cell_type": "code",
   "execution_count": null,
   "metadata": {
    "executionInfo": {
     "elapsed": 934,
     "status": "ok",
     "timestamp": 1633210577324,
     "user": {
      "displayName": "Jose Eduardo Santarem Segundo",
      "photoUrl": "https://lh3.googleusercontent.com/a-/AOh14GjLWfnjBdxVqYk-cgCgmPPwQImjjL3LNJ8YGfE=s64",
      "userId": "13621550804954747560"
     },
     "user_tz": 180
    },
    "id": "-AkQyZfdY6gk"
   },
   "outputs": [],
   "source": [
    "dados=pd.read_csv('https://raw.githubusercontent.com/JeffSackmann/tennis_atp/master/atp_matches_2021.csv')"
   ]
  },
  {
   "cell_type": "code",
   "execution_count": null,
   "metadata": {
    "colab": {
     "base_uri": "https://localhost:8080/"
    },
    "executionInfo": {
     "elapsed": 415,
     "status": "ok",
     "timestamp": 1633210583359,
     "user": {
      "displayName": "Jose Eduardo Santarem Segundo",
      "photoUrl": "https://lh3.googleusercontent.com/a-/AOh14GjLWfnjBdxVqYk-cgCgmPPwQImjjL3LNJ8YGfE=s64",
      "userId": "13621550804954747560"
     },
     "user_tz": 180
    },
    "id": "h8HhFGaxZBXX",
    "outputId": "f3c0067e-86cc-479f-d104-0d57c2bf7290"
   },
   "outputs": [],
   "source": [
    "dados['winner_ioc']"
   ]
  },
  {
   "cell_type": "code",
   "execution_count": null,
   "metadata": {
    "colab": {
     "base_uri": "https://localhost:8080/"
    },
    "executionInfo": {
     "elapsed": 412,
     "status": "ok",
     "timestamp": 1633210591957,
     "user": {
      "displayName": "Jose Eduardo Santarem Segundo",
      "photoUrl": "https://lh3.googleusercontent.com/a-/AOh14GjLWfnjBdxVqYk-cgCgmPPwQImjjL3LNJ8YGfE=s64",
      "userId": "13621550804954747560"
     },
     "user_tz": 180
    },
    "id": "2Ac-pGxQZBe6",
    "outputId": "066c995a-604b-48b3-de97-1d6ecd10e2e7"
   },
   "outputs": [],
   "source": [
    "dados['winner_ioc'].unique()"
   ]
  },
  {
   "cell_type": "markdown",
   "metadata": {
    "id": "6GL27bkWZByQ"
   },
   "source": [
    "###Veja a documentação do scikit-learn sobre preprocessing!!!!"
   ]
  },
  {
   "cell_type": "code",
   "execution_count": null,
   "metadata": {
    "executionInfo": {
     "elapsed": 1006,
     "status": "ok",
     "timestamp": 1633210628077,
     "user": {
      "displayName": "Jose Eduardo Santarem Segundo",
      "photoUrl": "https://lh3.googleusercontent.com/a-/AOh14GjLWfnjBdxVqYk-cgCgmPPwQImjjL3LNJ8YGfE=s64",
      "userId": "13621550804954747560"
     },
     "user_tz": 180
    },
    "id": "vvyafwiqZFhz"
   },
   "outputs": [],
   "source": [
    "from sklearn.preprocessing import LabelEncoder"
   ]
  },
  {
   "cell_type": "code",
   "execution_count": null,
   "metadata": {
    "executionInfo": {
     "elapsed": 459,
     "status": "ok",
     "timestamp": 1633210632917,
     "user": {
      "displayName": "Jose Eduardo Santarem Segundo",
      "photoUrl": "https://lh3.googleusercontent.com/a-/AOh14GjLWfnjBdxVqYk-cgCgmPPwQImjjL3LNJ8YGfE=s64",
      "userId": "13621550804954747560"
     },
     "user_tz": 180
    },
    "id": "PFpMb74pZGFi"
   },
   "outputs": [],
   "source": [
    "paises=dados['winner_ioc']"
   ]
  },
  {
   "cell_type": "code",
   "execution_count": null,
   "metadata": {
    "colab": {
     "base_uri": "https://localhost:8080/"
    },
    "executionInfo": {
     "elapsed": 666,
     "status": "ok",
     "timestamp": 1633210635587,
     "user": {
      "displayName": "Jose Eduardo Santarem Segundo",
      "photoUrl": "https://lh3.googleusercontent.com/a-/AOh14GjLWfnjBdxVqYk-cgCgmPPwQImjjL3LNJ8YGfE=s64",
      "userId": "13621550804954747560"
     },
     "user_tz": 180
    },
    "id": "_336FTVXZGIQ",
    "outputId": "dab9c51f-1d01-4e9b-e9a1-bec80a7c6838"
   },
   "outputs": [],
   "source": [
    "paises"
   ]
  },
  {
   "cell_type": "code",
   "execution_count": null,
   "metadata": {
    "colab": {
     "base_uri": "https://localhost:8080/"
    },
    "executionInfo": {
     "elapsed": 412,
     "status": "ok",
     "timestamp": 1633210661177,
     "user": {
      "displayName": "Jose Eduardo Santarem Segundo",
      "photoUrl": "https://lh3.googleusercontent.com/a-/AOh14GjLWfnjBdxVqYk-cgCgmPPwQImjjL3LNJ8YGfE=s64",
      "userId": "13621550804954747560"
     },
     "user_tz": 180
    },
    "id": "5oZBC2CQZU-p",
    "outputId": "9295e991-c69b-42f2-f237-a185c8c7d04a"
   },
   "outputs": [],
   "source": [
    "lencoder = LabelEncoder()\n",
    "paises_numeros = lencoder.fit_transform(paises)\n",
    "paises_numeros"
   ]
  },
  {
   "cell_type": "code",
   "execution_count": null,
   "metadata": {
    "colab": {
     "base_uri": "https://localhost:8080/"
    },
    "executionInfo": {
     "elapsed": 409,
     "status": "ok",
     "timestamp": 1633210678380,
     "user": {
      "displayName": "Jose Eduardo Santarem Segundo",
      "photoUrl": "https://lh3.googleusercontent.com/a-/AOh14GjLWfnjBdxVqYk-cgCgmPPwQImjjL3LNJ8YGfE=s64",
      "userId": "13621550804954747560"
     },
     "user_tz": 180
    },
    "id": "PTxRURbWZVPK",
    "outputId": "878b412d-e107-47f2-eaa5-af6c987d9c6f"
   },
   "outputs": [],
   "source": [
    "paises.head(10)"
   ]
  },
  {
   "cell_type": "code",
   "execution_count": null,
   "metadata": {
    "executionInfo": {
     "elapsed": 493,
     "status": "ok",
     "timestamp": 1633210697518,
     "user": {
      "displayName": "Jose Eduardo Santarem Segundo",
      "photoUrl": "https://lh3.googleusercontent.com/a-/AOh14GjLWfnjBdxVqYk-cgCgmPPwQImjjL3LNJ8YGfE=s64",
      "userId": "13621550804954747560"
     },
     "user_tz": 180
    },
    "id": "My4ggIlpZVYH"
   },
   "outputs": [],
   "source": [
    "dados['paises_numeros']=paises_numeros"
   ]
  },
  {
   "cell_type": "code",
   "execution_count": null,
   "metadata": {
    "colab": {
     "base_uri": "https://localhost:8080/",
     "height": 605
    },
    "executionInfo": {
     "elapsed": 623,
     "status": "ok",
     "timestamp": 1633210700916,
     "user": {
      "displayName": "Jose Eduardo Santarem Segundo",
      "photoUrl": "https://lh3.googleusercontent.com/a-/AOh14GjLWfnjBdxVqYk-cgCgmPPwQImjjL3LNJ8YGfE=s64",
      "userId": "13621550804954747560"
     },
     "user_tz": 180
    },
    "id": "ox3tzP49ZVgN",
    "outputId": "1135646a-7f24-45e6-936d-6d02378f7010"
   },
   "outputs": [],
   "source": [
    "dados"
   ]
  }
 ],
 "metadata": {
  "colab": {
   "authorship_tag": "ABX9TyOV8+NFdrGBsgdzs/S9Wuwp",
   "collapsed_sections": [],
   "name": "COM350_Univesp_Videoaula12_PreProcessamento.ipynb",
   "provenance": []
  },
  "kernelspec": {
   "display_name": "Python 3 (ipykernel)",
   "language": "python",
   "name": "python3"
  },
  "language_info": {
   "codemirror_mode": {
    "name": "ipython",
    "version": 3
   },
   "file_extension": ".py",
   "mimetype": "text/x-python",
   "name": "python",
   "nbconvert_exporter": "python",
   "pygments_lexer": "ipython3",
   "version": "3.9.7"
  }
 },
 "nbformat": 4,
 "nbformat_minor": 1
}
